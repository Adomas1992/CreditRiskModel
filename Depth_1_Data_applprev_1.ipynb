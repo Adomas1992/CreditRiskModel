{
 "cells": [
  {
   "cell_type": "code",
   "execution_count": 1,
   "metadata": {},
   "outputs": [],
   "source": [
    "import polars as pl\n",
    "import os\n",
    "\n",
    "train_applprev_1_0 = pl.read_csv(\"Data/csv_files/train/train_applprev_1_0.csv\")\n",
    "train_applprev_1_1 = pl.read_csv(\"Data/csv_files/train/train_applprev_1_1.csv\")"
   ]
  },
  {
   "cell_type": "code",
   "execution_count": 2,
   "metadata": {},
   "outputs": [],
   "source": [
    "train_applprev_1 = pl.concat([train_applprev_1_0, train_applprev_1_1])\n",
    "\n",
    "directory = r\"C:\\Users\\afise\\.git\\CreditRiskModel\\Merged_Data\"\n",
    "filename = \"train_applprev_1.csv\"\n",
    "file_path = os.path.join(directory, filename)\n",
    "\n",
    "train_applprev_1.write_csv(file_path)"
   ]
  },
  {
   "cell_type": "code",
   "execution_count": 3,
   "metadata": {},
   "outputs": [
    {
     "name": "stdout",
     "output_type": "stream",
     "text": [
      "shape: (1, 1)\n",
      "┌─────────┐\n",
      "│ case_id │\n",
      "│ ---     │\n",
      "│ u32     │\n",
      "╞═════════╡\n",
      "│ 1221522 │\n",
      "└─────────┘\n"
     ]
    }
   ],
   "source": [
    "unique_case_id_count = train_applprev_1.select(pl.col(\"case_id\").unique().count())\n",
    "print(unique_case_id_count)"
   ]
  },
  {
   "cell_type": "code",
   "execution_count": 4,
   "metadata": {},
   "outputs": [
    {
     "data": {
      "text/plain": [
       "(6525979, 41)"
      ]
     },
     "execution_count": 4,
     "metadata": {},
     "output_type": "execute_result"
    }
   ],
   "source": [
    "train_applprev_1.shape"
   ]
  },
  {
   "cell_type": "code",
   "execution_count": 5,
   "metadata": {},
   "outputs": [],
   "source": [
    "df_lazy = pl.scan_csv(file_path)"
   ]
  },
  {
   "cell_type": "code",
   "execution_count": 6,
   "metadata": {},
   "outputs": [
    {
     "name": "stderr",
     "output_type": "stream",
     "text": [
      "C:\\Users\\afise\\AppData\\Local\\Temp\\ipykernel_21436\\3554112918.py:17: DeprecationWarning: `groupby` is deprecated. It has been renamed to `group_by`.\n",
      "  .groupby(\"case_id\")\n"
     ]
    }
   ],
   "source": [
    "import polars as pl\n",
    "\n",
    "def try_parse_date(col, fmt1, fmt2):\n",
    "    date1 = col.str.strptime(pl.Date, fmt1, strict=False)\n",
    "    date2 = col.str.strptime(pl.Date, fmt2, strict=False)\n",
    "    return pl.when(date1.is_not_null()).then(date1).otherwise(date2)\n",
    "\n",
    "df_grouped = (\n",
    "    df_lazy\n",
    "    .with_columns([\n",
    "        try_parse_date(pl.col(\"approvaldate_319D\"), \"%m/%d/%Y\", \"%Y-%m-%d\").alias(\"approvaldate_319D\"),\n",
    "        try_parse_date(pl.col(\"dateactivated_425D\"), \"%m/%d/%Y\", \"%Y-%m-%d\").alias(\"dateactivated_425D\"),\n",
    "        try_parse_date(pl.col(\"creationdate_885D\"), \"%m/%d/%Y\", \"%Y-%m-%d\").alias(\"creationdate_885D\"),\n",
    "        try_parse_date(pl.col(\"dtlastpmt_581D\"), \"%m/%d/%Y\", \"%Y-%m-%d\").alias(\"dtlastpmt_581D\"),\n",
    "        try_parse_date(pl.col(\"employedfrom_700D\"), \"%m/%d/%Y\", \"%Y-%m-%d\").alias(\"employedfrom_700D\"),\n",
    "    ])\n",
    "    .groupby(\"case_id\")\n",
    "    .agg([\n",
    "        pl.col(\"actualdpd_943P\").mean().alias(\"actualdpd_943P_mean\"),\n",
    "        pl.col(\"annuity_853A\").sum().alias(\"annuity_853A_sum\"),\n",
    "        pl.col(\"childnum_21L\").sum().alias(\"childnum_21L_sum\"),\n",
    "        pl.col(\"credacc_actualbalance_314A\").mean().alias(\"credacc_actualbalance_314A_mean\"),\n",
    "        pl.col(\"credacc_credlmt_575A\").mean().alias(\"credacc_credlmt_575A_mean\"),\n",
    "        pl.col(\"credacc_maxhisbal_375A\").max().alias(\"credacc_maxhisbal_375A_max\"),\n",
    "        pl.col(\"credacc_minhisbal_90A\").min().alias(\"credacc_minhisbal_90A_min\"),\n",
    "        pl.col(\"credacc_transactions_402L\").sum().alias(\"credacc_transactions_402L_sum\"),\n",
    "        pl.col(\"credamount_590A\").mean().alias(\"credamount_590A_mean\"),\n",
    "        pl.col(\"currdebt_94A\").mean().alias(\"currdebt_94A_mean\"),\n",
    "        pl.col(\"downpmt_134A\").sum().alias(\"downpmt_134A_sum\"),\n",
    "        pl.col(\"mainoccupationinc_437A\").mean().alias(\"mainoccupationinc_437A_mean\"),\n",
    "        pl.col(\"outstandingdebt_522A\").sum().alias(\"outstandingdebt_522A_sum\"),\n",
    "        pl.col(\"pmtnum_8L\").max().alias(\"pmtnum_8L_max\"),\n",
    "        pl.col(\"tenor_203L\").min().alias(\"tenor_203L_min\"),\n",
    "        pl.col(\"isbidproduct_390L\").cast(pl.UInt32).sum().alias(\"isbidproduct_390L_sum\"),\n",
    "        pl.col(\"isdebitcard_527L\").cast(pl.UInt32).sum().alias(\"isdebitcard_527L_sum\"),\n",
    "        pl.col(\"credacc_status_367L\").mode().alias(\"credacc_status_367L_mode\"),\n",
    "        pl.col(\"credtype_587L\").mode().alias(\"credtype_587L_mode\"),\n",
    "        pl.col(\"education_1138M\").mode().alias(\"education_1138M_mode\"),\n",
    "        pl.col(\"familystate_726L\").mode().alias(\"familystate_726L_mode\"),\n",
    "        pl.col(\"postype_4733339M\").mode().alias(\"postype_4733339M_mode\"),\n",
    "        pl.col(\"profession_152M\").mode().alias(\"profession_152M_mode\"),\n",
    "        pl.col(\"rejectreason_755M\").mode().alias(\"rejectreason_755M_mode\"),\n",
    "        pl.col(\"rejectreasonclient_4145042M\").mode().alias(\"rejectreasonclient_4145042M_mode\"),\n",
    "        pl.col(\"status_219L\").mode().alias(\"status_219L_mode\"),\n",
    "        (pl.col(\"approvaldate_319D\").diff().abs().min()).alias(\"approval_to_activation_min_diff\"),\n",
    "        (pl.col(\"creationdate_885D\").diff().abs().min()).alias(\"creation_min_diff\"),\n",
    "        (pl.col(\"dtlastpmt_581D\").diff().abs().max()).alias(\"payment_max_diff\"),\n",
    "        pl.col(\"employedfrom_700D\").min().alias(\"earliest_employment_date\"),\n",
    "    ])\n",
    "    .collect()\n",
    ")"
   ]
  },
  {
   "cell_type": "code",
   "execution_count": 7,
   "metadata": {},
   "outputs": [
    {
     "data": {
      "text/html": [
       "<div><style>\n",
       ".dataframe > thead > tr,\n",
       ".dataframe > tbody > tr {\n",
       "  text-align: right;\n",
       "  white-space: pre-wrap;\n",
       "}\n",
       "</style>\n",
       "<small>shape: (5, 31)</small><table border=\"1\" class=\"dataframe\"><thead><tr><th>case_id</th><th>actualdpd_943P_mean</th><th>annuity_853A_sum</th><th>childnum_21L_sum</th><th>credacc_actualbalance_314A_mean</th><th>credacc_credlmt_575A_mean</th><th>credacc_maxhisbal_375A_max</th><th>credacc_minhisbal_90A_min</th><th>credacc_transactions_402L_sum</th><th>credamount_590A_mean</th><th>currdebt_94A_mean</th><th>downpmt_134A_sum</th><th>mainoccupationinc_437A_mean</th><th>outstandingdebt_522A_sum</th><th>pmtnum_8L_max</th><th>tenor_203L_min</th><th>isbidproduct_390L_sum</th><th>isdebitcard_527L_sum</th><th>credacc_status_367L_mode</th><th>credtype_587L_mode</th><th>education_1138M_mode</th><th>familystate_726L_mode</th><th>postype_4733339M_mode</th><th>profession_152M_mode</th><th>rejectreason_755M_mode</th><th>rejectreasonclient_4145042M_mode</th><th>status_219L_mode</th><th>approval_to_activation_min_diff</th><th>creation_min_diff</th><th>payment_max_diff</th><th>earliest_employment_date</th></tr><tr><td>i64</td><td>f64</td><td>f64</td><td>f64</td><td>f64</td><td>f64</td><td>f64</td><td>f64</td><td>f64</td><td>f64</td><td>f64</td><td>f64</td><td>f64</td><td>f64</td><td>f64</td><td>f64</td><td>u32</td><td>u32</td><td>list[str]</td><td>list[str]</td><td>list[str]</td><td>list[str]</td><td>list[str]</td><td>list[str]</td><td>list[str]</td><td>list[str]</td><td>list[str]</td><td>duration[ms]</td><td>duration[ms]</td><td>duration[ms]</td><td>date</td></tr></thead><tbody><tr><td>1314493</td><td>0.0</td><td>27415.4001</td><td>0.0</td><td>null</td><td>0.0</td><td>null</td><td>null</td><td>0.0</td><td>23862.769231</td><td>0.0</td><td>0.0</td><td>20173.846154</td><td>0.0</td><td>24.0</td><td>3.0</td><td>0</td><td>0</td><td>[null]</td><td>[&quot;CAL&quot;]</td><td>[&quot;P97_36_170&quot;]</td><td>[&quot;MARRIED&quot;]</td><td>[&quot;a55475b1&quot;]</td><td>[&quot;a55475b1&quot;]</td><td>[&quot;a55475b1&quot;]</td><td>[&quot;a55475b1&quot;]</td><td>[&quot;D&quot;]</td><td>258d</td><td>0ms</td><td>null</td><td>2012-04-15</td></tr><tr><td>1713622</td><td>0.0</td><td>42863.4001</td><td>0.0</td><td>null</td><td>0.0</td><td>null</td><td>null</td><td>0.0</td><td>102263.0</td><td>0.0</td><td>0.0</td><td>36285.714286</td><td>0.0</td><td>48.0</td><td>12.0</td><td>0</td><td>0</td><td>[null]</td><td>[&quot;COL&quot;, &quot;CAL&quot;]</td><td>[&quot;a55475b1&quot;]</td><td>[null]</td><td>[&quot;P177_117_192&quot;]</td><td>[&quot;a55475b1&quot;]</td><td>[&quot;P99_56_166&quot;]</td><td>[&quot;P94_109_143&quot;]</td><td>[&quot;D&quot;]</td><td>null</td><td>0ms</td><td>null</td><td>2011-06-15</td></tr><tr><td>1498510</td><td>0.0</td><td>26889.4001</td><td>0.0</td><td>null</td><td>0.0</td><td>null</td><td>null</td><td>0.0</td><td>44266.666667</td><td>11001.786667</td><td>0.0</td><td>54166.666667</td><td>42509.6</td><td>24.0</td><td>6.0</td><td>0</td><td>0</td><td>[null]</td><td>[&quot;CAL&quot;]</td><td>[&quot;P33_146_175&quot;]</td><td>[&quot;MARRIED&quot;, &quot;SINGLE&quot;, null]</td><td>[&quot;a55475b1&quot;]</td><td>[&quot;a55475b1&quot;]</td><td>[&quot;a55475b1&quot;]</td><td>[&quot;a55475b1&quot;]</td><td>[&quot;D&quot;]</td><td>366d</td><td>39d</td><td>null</td><td>2012-09-15</td></tr><tr><td>2582034</td><td>0.0</td><td>14963.6</td><td>1.0</td><td>null</td><td>0.0</td><td>null</td><td>null</td><td>0.0</td><td>31680.5</td><td>0.0</td><td>0.0</td><td>61000.0</td><td>0.0</td><td>18.0</td><td>7.0</td><td>0</td><td>0</td><td>[null]</td><td>[&quot;COL&quot;]</td><td>[&quot;a55475b1&quot;]</td><td>[null]</td><td>[&quot;a55475b1&quot;]</td><td>[&quot;a55475b1&quot;]</td><td>[&quot;P94_109_143&quot;]</td><td>[&quot;P94_109_143&quot;]</td><td>[&quot;D&quot;]</td><td>null</td><td>165d</td><td>null</td><td>2013-02-15</td></tr><tr><td>150749</td><td>0.0</td><td>21968.8001</td><td>0.0</td><td>null</td><td>0.0</td><td>null</td><td>null</td><td>0.0</td><td>20412.177778</td><td>1371.0249</td><td>9060.0</td><td>36133.333333</td><td>7383.6</td><td>24.0</td><td>6.0</td><td>1</td><td>0</td><td>[null]</td><td>[&quot;COL&quot;]</td><td>[&quot;P97_36_170&quot;, &quot;a55475b1&quot;]</td><td>[&quot;MARRIED&quot;]</td><td>[&quot;a55475b1&quot;]</td><td>[&quot;a55475b1&quot;]</td><td>[&quot;a55475b1&quot;]</td><td>[&quot;a55475b1&quot;]</td><td>[&quot;K&quot;, &quot;D&quot;]</td><td>242d</td><td>1d</td><td>null</td><td>2011-05-15</td></tr></tbody></table></div>"
      ],
      "text/plain": [
       "shape: (5, 31)\n",
       "┌─────────┬────────────┬───────────┬───────────┬───┬───────────┬───────────┬───────────┬───────────┐\n",
       "│ case_id ┆ actualdpd_ ┆ annuity_8 ┆ childnum_ ┆ … ┆ approval_ ┆ creation_ ┆ payment_m ┆ earliest_ │\n",
       "│ ---     ┆ 943P_mean  ┆ 53A_sum   ┆ 21L_sum   ┆   ┆ to_activa ┆ min_diff  ┆ ax_diff   ┆ employmen │\n",
       "│ i64     ┆ ---        ┆ ---       ┆ ---       ┆   ┆ tion_min_ ┆ ---       ┆ ---       ┆ t_date    │\n",
       "│         ┆ f64        ┆ f64       ┆ f64       ┆   ┆ diff      ┆ duration[ ┆ duration[ ┆ ---       │\n",
       "│         ┆            ┆           ┆           ┆   ┆ ---       ┆ ms]       ┆ ms]       ┆ date      │\n",
       "│         ┆            ┆           ┆           ┆   ┆ duration[ ┆           ┆           ┆           │\n",
       "│         ┆            ┆           ┆           ┆   ┆ ms]       ┆           ┆           ┆           │\n",
       "╞═════════╪════════════╪═══════════╪═══════════╪═══╪═══════════╪═══════════╪═══════════╪═══════════╡\n",
       "│ 1314493 ┆ 0.0        ┆ 27415.400 ┆ 0.0       ┆ … ┆ 258d      ┆ 0ms       ┆ null      ┆ 2012-04-1 │\n",
       "│         ┆            ┆ 1         ┆           ┆   ┆           ┆           ┆           ┆ 5         │\n",
       "│ 1713622 ┆ 0.0        ┆ 42863.400 ┆ 0.0       ┆ … ┆ null      ┆ 0ms       ┆ null      ┆ 2011-06-1 │\n",
       "│         ┆            ┆ 1         ┆           ┆   ┆           ┆           ┆           ┆ 5         │\n",
       "│ 1498510 ┆ 0.0        ┆ 26889.400 ┆ 0.0       ┆ … ┆ 366d      ┆ 39d       ┆ null      ┆ 2012-09-1 │\n",
       "│         ┆            ┆ 1         ┆           ┆   ┆           ┆           ┆           ┆ 5         │\n",
       "│ 2582034 ┆ 0.0        ┆ 14963.6   ┆ 1.0       ┆ … ┆ null      ┆ 165d      ┆ null      ┆ 2013-02-1 │\n",
       "│         ┆            ┆           ┆           ┆   ┆           ┆           ┆           ┆ 5         │\n",
       "│ 150749  ┆ 0.0        ┆ 21968.800 ┆ 0.0       ┆ … ┆ 242d      ┆ 1d        ┆ null      ┆ 2011-05-1 │\n",
       "│         ┆            ┆ 1         ┆           ┆   ┆           ┆           ┆           ┆ 5         │\n",
       "└─────────┴────────────┴───────────┴───────────┴───┴───────────┴───────────┴───────────┴───────────┘"
      ]
     },
     "execution_count": 7,
     "metadata": {},
     "output_type": "execute_result"
    }
   ],
   "source": [
    "df_grouped.head()"
   ]
  },
  {
   "cell_type": "code",
   "execution_count": 8,
   "metadata": {},
   "outputs": [
    {
     "data": {
      "text/plain": [
       "(1221522, 31)"
      ]
     },
     "execution_count": 8,
     "metadata": {},
     "output_type": "execute_result"
    }
   ],
   "source": [
    "df_grouped.shape"
   ]
  },
  {
   "cell_type": "code",
   "execution_count": null,
   "metadata": {},
   "outputs": [],
   "source": [
    "import polars as pl\n",
    "\n",
    "# Assuming df_grouped is your DataFrame after aggregation\n",
    "# and mode_columns contains the names of the columns with list results from mode calculations\n",
    "\n",
    "mode_columns = [\n",
    "    \"credacc_status_367L_mode\", \n",
    "    \"credtype_587L_mode\",\n",
    "    \"education_1138M_mode\",\n",
    "    \"familystate_726L_mode\",\n",
    "    \"postype_4733339M_mode\",\n",
    "    \"profession_152M_mode\",\n",
    "    \"rejectreason_755M_mode\",\n",
    "    \"rejectreasonclient_4145042M_mode\",\n",
    "    \"status_219L_mode\"\n",
    "]\n",
    "\n",
    "# Iterate through each mode column and update it\n",
    "for column in mode_columns:\n",
    "    df_grouped = df_grouped.with_columns(\n",
    "        pl.when(\n",
    "            pl.col(column).is_not_null() &\n",
    "            (pl.apply(pl.col(column), lambda arr: len(arr)) > 0)\n",
    "        )\n",
    "        .then(pl.col(column).apply(lambda arr: arr[0]))\n",
    "        .otherwise(pl.lit(None)).alias(column)\n",
    "    )\n",
    "\n",
    "# df_grouped now has the first mode value or None for each mode column"
   ]
  },
  {
   "cell_type": "code",
   "execution_count": null,
   "metadata": {},
   "outputs": [],
   "source": [
    "# Assuming df_grouped is your dataframe with the aggregated data\n",
    "df_filtered = df_grouped.filter(\n",
    "    (pl.col(\"approval_to_activation_min_diff\").is_not_null()) &\n",
    "    (pl.col(\"creation_min_diff\").is_not_null()) &\n",
    "    (pl.col(\"payment_max_diff\").is_not_null()) &\n",
    "    (pl.col(\"earliest_employment_date\").is_not_null())\n",
    ")\n",
    "\n",
    "# Display a sample of the filtered dataframe for inspection\n",
    "df_filtered.describe()"
   ]
  },
  {
   "cell_type": "code",
   "execution_count": null,
   "metadata": {},
   "outputs": [],
   "source": []
  },
  {
   "cell_type": "code",
   "execution_count": null,
   "metadata": {},
   "outputs": [],
   "source": [
    "import duckdb"
   ]
  },
  {
   "cell_type": "code",
   "execution_count": null,
   "metadata": {},
   "outputs": [],
   "source": [
    "csv_file_path = r\"C:\\Users\\afise\\.git\\CreditRiskModel\\Merged_Data\\train_applprev_1.csv\"\n",
    "\n",
    "conn = duckdb.connect(database=':memory:', read_only=False)\n",
    "\n",
    "conn.execute(f\"CREATE TABLE train_applprev_1 AS SELECT * FROM read_csv_auto('{csv_file_path}')\")"
   ]
  },
  {
   "cell_type": "code",
   "execution_count": null,
   "metadata": {},
   "outputs": [],
   "source": [
    "query_result = conn.execute(\"SELECT * FROM train_applprev_1 LIMIT 10\")\n",
    "results = query_result.fetchall()\n",
    "column_names = [description[0] for description in query_result.description]\n",
    "\n",
    "print(', '.join(column_names))\n",
    "\n",
    "for row in results:\n",
    "    formatted_row = ', '.join([str(elem) if elem is not None else 'NULL' for elem in row])\n",
    "    print(formatted_row)"
   ]
  },
  {
   "cell_type": "code",
   "execution_count": null,
   "metadata": {},
   "outputs": [],
   "source": [
    "conn.close()"
   ]
  }
 ],
 "metadata": {
  "kernelspec": {
   "display_name": "Python 3",
   "language": "python",
   "name": "python3"
  },
  "language_info": {
   "codemirror_mode": {
    "name": "ipython",
    "version": 3
   },
   "file_extension": ".py",
   "mimetype": "text/x-python",
   "name": "python",
   "nbconvert_exporter": "python",
   "pygments_lexer": "ipython3",
   "version": "3.11.8"
  }
 },
 "nbformat": 4,
 "nbformat_minor": 2
}
