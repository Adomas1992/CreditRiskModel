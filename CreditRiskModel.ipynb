{
 "cells": [
  {
   "cell_type": "code",
   "execution_count": 2,
   "metadata": {},
   "outputs": [],
   "source": [
    "from kaggle.api.kaggle_api_extended import KaggleApi\n",
    "import zipfile\n",
    "import os\n",
    "\n",
    "api = KaggleApi()\n",
    "api.authenticate()\n",
    "\n",
    "competition_name = 'home-credit-credit-risk-model-stability'\n",
    "api.competition_download_files(competition_name, path='./Data/')\n",
    "\n",
    "zip_file_path = f'./Data/{competition_name}.zip'\n",
    "\n",
    "with zipfile.ZipFile(zip_file_path, 'r') as zip_ref:\n",
    "    zip_ref.extractall('./Data/')\n",
    "\n",
    "os.remove(zip_file_path)"
   ]
  },
  {
   "cell_type": "code",
   "execution_count": 8,
   "metadata": {},
   "outputs": [],
   "source": [
    "import polars as pl\n",
    "\n",
    "train_base = pl.read_csv(\"Data/csv_files/train/train_base.csv\")\n",
    "test_base = pl.read_csv(\"Data/csv_files/test/test_base.csv\")\n",
    "\n",
    "train_static_0_0 = pl.read_csv(\"Data/csv_files/train/train_static_0_0.csv\")\n",
    "train_static_0_1 = pl.read_csv(\"Data/csv_files/train/train_static_0_1.csv\")\n",
    "test_static_0_0 = pl.read_csv(\"Data/csv_files/test/test_static_0_0.csv\")\n",
    "test_static_0_1 = pl.read_csv(\"Data/csv_files/test/test_static_0_1.csv\")\n",
    "test_static_0_2 = pl.read_csv(\"Data/csv_files/test/test_static_0_2.csv\")"
   ]
  },
  {
   "cell_type": "code",
   "execution_count": 42,
   "metadata": {},
   "outputs": [],
   "source": [
    "columns_to_float = [\n",
    "    'amtinstpaidbefduel24m_4187115A',\n",
    "    'avgdbddpdlast3m_4187120P',\n",
    "    'avgdbdtollast24m_4525197P',\n",
    "    'avglnamtstart24m_4525187A',\n",
    "    'avgoutstandbalancel6m_4187114A',\n",
    "    'avgpmtlast12m_4525200A',\n",
    "    'maxlnamtstart6m_4525199A',\n",
    "    'maxoutstandbalancel12m_4187113A',\n",
    "    'maxpmtlast3m_4525190A',\n",
    "    'mindbdtollast24m_4525191P',\n",
    "    'numinstlswithdpd5_4187116L',\n",
    "    'numinstmatpaidtearly2d_4499204L',\n",
    "    'numinstpaid_4499208L',\n",
    "    'numinstpaidearly3dest_4493216L',\n",
    "    'numinstpaidearly5dest_4493211L',\n",
    "    'numinstpaidearly5dobd_4499205L',\n",
    "    'numinstpaidearlyest_4493214L',\n",
    "    'numinstpaidlastcontr_4325080L',\n",
    "    'numinstregularpaidest_4493210L',\n",
    "    'numinsttopaygrest_4493213L',\n",
    "    'numinstunpaidmaxest_4493212L',\n",
    "    'sumoutstandtotalest_4493215A',\n",
    "    'totinstallast1m_4525188A'\n",
    "]\n",
    "\n",
    "special_casts = {\n",
    "    'clientscnt_136L': pl.Float64,\n",
    "    'maxdbddpdtollast6m_4187119P': pl.Float64\n",
    "}\n",
    "\n",
    "def convert_columns_to_float(df, columns):\n",
    "    for column in columns:\n",
    "        if column in df.columns:\n",
    "            df = df.with_columns(pl.col(column).cast(pl.Float64).alias(column))\n",
    "    return df\n",
    "\n",
    "def convert_columns(df, columns_to_float, special_casts):\n",
    "    for column in columns_to_float:\n",
    "        if column in df.columns:\n",
    "            df = df.with_columns(pl.col(column).cast(pl.Float64).alias(column))\n",
    "    for column, dtype in special_casts.items():\n",
    "        if column in df.columns:\n",
    "            df = df.with_columns(pl.col(column).cast(dtype).alias(column))\n",
    "    return df\n",
    "\n",
    "train_static_0_0_converted = convert_columns(train_static_0_0, columns_to_float, special_casts)\n",
    "train_static_0_1_converted = convert_columns(train_static_0_1, columns_to_float, special_casts)"
   ]
  },
  {
   "cell_type": "code",
   "execution_count": 48,
   "metadata": {},
   "outputs": [],
   "source": [
    "train_static_0_1_converted = train_static_0_1_converted.with_columns(\n",
    "    pl.when(pl.col(\"isbidproductrequest_292L\") == \"true\")\n",
    "    .then(True)\n",
    "    .when(pl.col(\"isbidproductrequest_292L\") == \"false\")\n",
    "    .then(False)\n",
    "    .otherwise(pl.col(\"isbidproductrequest_292L\").is_null())\n",
    "    .alias(\"isbidproductrequest_292L\")\n",
    ")\n",
    "\n",
    "train_static_0_1_converted = train_static_0_1_converted.with_columns(\n",
    "    pl.col(\"isbidproductrequest_292L\").cast(pl.Boolean).alias(\"isbidproductrequest_292L\")\n",
    ")"
   ]
  },
  {
   "cell_type": "code",
   "execution_count": 49,
   "metadata": {},
   "outputs": [],
   "source": [
    "train_static_0_combined = pl.concat([train_static_0_0_converted, train_static_0_1_converted])"
   ]
  },
  {
   "cell_type": "code",
   "execution_count": null,
   "metadata": {},
   "outputs": [],
   "source": [
    "train_static_0 = pl.concat([train_static_0_0, train_static_0_1])\n",
    "test_static_0 = pl.concat([test_static_0_0, test_static_0_1, test_static_0_2])\n",
    "\n",
    "train_static_cb_0 = pl.read_csv(\"Data/csv_files/train/train_static_cb_0.csv\")\n",
    "test_static_cb_0 = pl.read_csv(\"Data/csv_files/train/test_static_cb_0.csv\")"
   ]
  },
  {
   "cell_type": "code",
   "execution_count": 10,
   "metadata": {},
   "outputs": [
    {
     "name": "stdout",
     "output_type": "stream",
     "text": [
      "OrderedDict([('case_id', Int64), ('actualdpdtolerance_344P', Float64), ('amtinstpaidbefduel24m_4187115A', String), ('annuity_780A', Float64), ('annuitynextmonth_57A', Float64), ('applicationcnt_361L', Float64), ('applications30d_658L', Float64), ('applicationscnt_1086L', Float64), ('applicationscnt_464L', Float64), ('applicationscnt_629L', Float64), ('applicationscnt_867L', Float64), ('avgdbddpdlast24m_3658932P', Float64), ('avgdbddpdlast3m_4187120P', String), ('avgdbdtollast24m_4525197P', String), ('avgdpdtolclosure24_3658938P', Float64), ('avginstallast24m_3658937A', Float64), ('avglnamtstart24m_4525187A', String), ('avgmaxdpdlast9m_3716943P', Float64), ('avgoutstandbalancel6m_4187114A', String), ('avgpmtlast12m_4525200A', String), ('bankacctype_710L', String), ('cardtype_51L', String), ('clientscnt12m_3712952L', Float64), ('clientscnt3m_3712950L', Float64), ('clientscnt6m_3712949L', Float64), ('clientscnt_100L', Float64), ('clientscnt_1022L', Float64), ('clientscnt_1071L', Float64), ('clientscnt_1130L', Float64), ('clientscnt_136L', Float64), ('clientscnt_157L', Float64), ('clientscnt_257L', Float64), ('clientscnt_304L', Float64), ('clientscnt_360L', Float64), ('clientscnt_493L', Float64), ('clientscnt_533L', Float64), ('clientscnt_887L', Float64), ('clientscnt_946L', Float64), ('cntincpaycont9m_3716944L', Float64), ('cntpmts24_3658933L', Float64), ('commnoinclast6m_3546845L', Float64), ('credamount_770A', Float64), ('credtype_322L', String), ('currdebt_22A', Float64), ('currdebtcredtyperange_828A', Float64), ('datefirstoffer_1144D', String), ('datelastinstal40dpd_247D', String), ('datelastunpaid_3546854D', String), ('daysoverduetolerancedd_3976961L', Float64), ('deferredmnthsnum_166L', Float64), ('disbursedcredamount_1113A', Float64), ('disbursementtype_67L', String), ('downpmt_116A', Float64), ('dtlastpmtallstes_4499206D', String), ('eir_270L', Float64), ('equalitydataagreement_891L', Boolean), ('equalityempfrom_62L', Boolean), ('firstclxcampaign_1125D', String), ('firstdatedue_489D', String), ('homephncnt_628L', Float64), ('inittransactionamount_650A', Float64), ('inittransactioncode_186L', String), ('interestrate_311L', Float64), ('interestrategrace_34L', Float64), ('isbidproduct_1095L', Boolean), ('isbidproductrequest_292L', Boolean), ('isdebitcard_729L', Boolean), ('lastactivateddate_801D', String), ('lastapplicationdate_877D', String), ('lastapprcommoditycat_1041M', String), ('lastapprcommoditytypec_5251766M', String), ('lastapprcredamount_781A', Float64), ('lastapprdate_640D', String), ('lastcancelreason_561M', String), ('lastdelinqdate_224D', String), ('lastdependentsnum_448L', String), ('lastotherinc_902A', String), ('lastotherlnsexpense_631A', String), ('lastrejectcommoditycat_161M', String), ('lastrejectcommodtypec_5251769M', String), ('lastrejectcredamount_222A', Float64), ('lastrejectdate_50D', String), ('lastrejectreason_759M', String), ('lastrejectreasonclient_4145040M', String), ('lastrepayingdate_696D', String), ('lastst_736L', String), ('maininc_215A', Float64), ('mastercontrelectronic_519L', Float64), ('mastercontrexist_109L', Float64), ('maxannuity_159A', Float64), ('maxannuity_4075009A', String), ('maxdbddpdlast1m_3658939P', Float64), ('maxdbddpdtollast12m_3658940P', Float64), ('maxdbddpdtollast6m_4187119P', String), ('maxdebt4_972A', Float64), ('maxdpdfrom6mto36m_3546853P', Float64), ('maxdpdinstldate_3546855D', String), ('maxdpdinstlnum_3546846P', Float64), ('maxdpdlast12m_727P', Float64), ('maxdpdlast24m_143P', Float64), ('maxdpdlast3m_392P', Float64), ('maxdpdlast6m_474P', Float64), ('maxdpdlast9m_1059P', Float64), ('maxdpdtolerance_374P', Float64), ('maxinstallast24m_3658928A', Float64), ('maxlnamtstart6m_4525199A', String), ('maxoutstandbalancel12m_4187113A', String), ('maxpmtlast3m_4525190A', String), ('mindbddpdlast24m_3658935P', Float64), ('mindbdtollast24m_4525191P', String), ('mobilephncnt_593L', Float64), ('monthsannuity_845L', Float64), ('numactivecreds_622L', Float64), ('numactivecredschannel_414L', Float64), ('numactiverelcontr_750L', Float64), ('numcontrs3months_479L', Float64), ('numincomingpmts_3546848L', Float64), ('numinstlallpaidearly3d_817L', Float64), ('numinstls_657L', Float64), ('numinstlsallpaid_934L', Float64), ('numinstlswithdpd10_728L', Float64), ('numinstlswithdpd5_4187116L', String), ('numinstlswithoutdpd_562L', Float64), ('numinstmatpaidtearly2d_4499204L', String), ('numinstpaid_4499208L', String), ('numinstpaidearly3d_3546850L', Float64), ('numinstpaidearly3dest_4493216L', String), ('numinstpaidearly5d_1087L', Float64), ('numinstpaidearly5dest_4493211L', String), ('numinstpaidearly5dobd_4499205L', String), ('numinstpaidearly_338L', Float64), ('numinstpaidearlyest_4493214L', String), ('numinstpaidlastcontr_4325080L', String), ('numinstpaidlate1d_3546852L', Float64), ('numinstregularpaid_973L', Float64), ('numinstregularpaidest_4493210L', String), ('numinsttopaygr_769L', Float64), ('numinsttopaygrest_4493213L', String), ('numinstunpaidmax_3546851L', Float64), ('numinstunpaidmaxest_4493212L', String), ('numnotactivated_1143L', Float64), ('numpmtchanneldd_318L', Float64), ('numrejects9m_859L', Float64), ('opencred_647L', Boolean), ('paytype1st_925L', String), ('paytype_783L', String), ('payvacationpostpone_4187118D', String), ('pctinstlsallpaidearl3d_427L', Float64), ('pctinstlsallpaidlat10d_839L', Float64), ('pctinstlsallpaidlate1d_3546856L', Float64), ('pctinstlsallpaidlate4d_3546849L', Float64), ('pctinstlsallpaidlate6d_3546844L', Float64), ('pmtnum_254L', Float64), ('posfpd10lastmonth_333P', Float64), ('posfpd30lastmonth_3976960P', Float64), ('posfstqpd30lastmonth_3976962P', Float64), ('previouscontdistrict_112M', String), ('price_1097A', Float64), ('sellerplacecnt_915L', Float64), ('sellerplacescnt_216L', Float64), ('sumoutstandtotal_3546847A', Float64), ('sumoutstandtotalest_4493215A', String), ('totaldebt_9A', Float64), ('totalsettled_863A', Float64), ('totinstallast1m_4525188A', String), ('twobodfilling_608L', String), ('typesuite_864L', String), ('validfrom_1069D', String)])\n",
      "OrderedDict([('case_id', Int64), ('actualdpdtolerance_344P', Float64), ('amtinstpaidbefduel24m_4187115A', Float64), ('annuity_780A', Float64), ('annuitynextmonth_57A', Float64), ('applicationcnt_361L', Float64), ('applications30d_658L', Float64), ('applicationscnt_1086L', Float64), ('applicationscnt_464L', Float64), ('applicationscnt_629L', Float64), ('applicationscnt_867L', Float64), ('avgdbddpdlast24m_3658932P', Float64), ('avgdbddpdlast3m_4187120P', Float64), ('avgdbdtollast24m_4525197P', Float64), ('avgdpdtolclosure24_3658938P', Float64), ('avginstallast24m_3658937A', Float64), ('avglnamtstart24m_4525187A', Float64), ('avgmaxdpdlast9m_3716943P', Float64), ('avgoutstandbalancel6m_4187114A', Float64), ('avgpmtlast12m_4525200A', Float64), ('bankacctype_710L', String), ('cardtype_51L', String), ('clientscnt12m_3712952L', Float64), ('clientscnt3m_3712950L', Float64), ('clientscnt6m_3712949L', Float64), ('clientscnt_100L', Float64), ('clientscnt_1022L', Float64), ('clientscnt_1071L', Float64), ('clientscnt_1130L', Float64), ('clientscnt_136L', String), ('clientscnt_157L', Float64), ('clientscnt_257L', Float64), ('clientscnt_304L', Float64), ('clientscnt_360L', Float64), ('clientscnt_493L', Float64), ('clientscnt_533L', Float64), ('clientscnt_887L', Float64), ('clientscnt_946L', Float64), ('cntincpaycont9m_3716944L', Float64), ('cntpmts24_3658933L', Float64), ('commnoinclast6m_3546845L', Float64), ('credamount_770A', Float64), ('credtype_322L', String), ('currdebt_22A', Float64), ('currdebtcredtyperange_828A', Float64), ('datefirstoffer_1144D', String), ('datelastinstal40dpd_247D', String), ('datelastunpaid_3546854D', String), ('daysoverduetolerancedd_3976961L', Float64), ('deferredmnthsnum_166L', Float64), ('disbursedcredamount_1113A', Float64), ('disbursementtype_67L', String), ('downpmt_116A', Float64), ('dtlastpmtallstes_4499206D', String), ('eir_270L', Float64), ('equalitydataagreement_891L', Boolean), ('equalityempfrom_62L', Boolean), ('firstclxcampaign_1125D', String), ('firstdatedue_489D', String), ('homephncnt_628L', Float64), ('inittransactionamount_650A', Float64), ('inittransactioncode_186L', String), ('interestrate_311L', Float64), ('interestrategrace_34L', Float64), ('isbidproduct_1095L', Boolean), ('isbidproductrequest_292L', String), ('isdebitcard_729L', Boolean), ('lastactivateddate_801D', String), ('lastapplicationdate_877D', String), ('lastapprcommoditycat_1041M', String), ('lastapprcommoditytypec_5251766M', String), ('lastapprcredamount_781A', Float64), ('lastapprdate_640D', String), ('lastcancelreason_561M', String), ('lastdelinqdate_224D', String), ('lastdependentsnum_448L', String), ('lastotherinc_902A', String), ('lastotherlnsexpense_631A', String), ('lastrejectcommoditycat_161M', String), ('lastrejectcommodtypec_5251769M', String), ('lastrejectcredamount_222A', Float64), ('lastrejectdate_50D', String), ('lastrejectreason_759M', String), ('lastrejectreasonclient_4145040M', String), ('lastrepayingdate_696D', String), ('lastst_736L', String), ('maininc_215A', Float64), ('mastercontrelectronic_519L', Float64), ('mastercontrexist_109L', Float64), ('maxannuity_159A', Float64), ('maxannuity_4075009A', String), ('maxdbddpdlast1m_3658939P', Float64), ('maxdbddpdtollast12m_3658940P', Float64), ('maxdbddpdtollast6m_4187119P', Float64), ('maxdebt4_972A', Float64), ('maxdpdfrom6mto36m_3546853P', Float64), ('maxdpdinstldate_3546855D', String), ('maxdpdinstlnum_3546846P', Float64), ('maxdpdlast12m_727P', Float64), ('maxdpdlast24m_143P', Float64), ('maxdpdlast3m_392P', Float64), ('maxdpdlast6m_474P', Float64), ('maxdpdlast9m_1059P', Float64), ('maxdpdtolerance_374P', Float64), ('maxinstallast24m_3658928A', Float64), ('maxlnamtstart6m_4525199A', Float64), ('maxoutstandbalancel12m_4187113A', Float64), ('maxpmtlast3m_4525190A', Float64), ('mindbddpdlast24m_3658935P', Float64), ('mindbdtollast24m_4525191P', Float64), ('mobilephncnt_593L', Float64), ('monthsannuity_845L', Float64), ('numactivecreds_622L', Float64), ('numactivecredschannel_414L', Float64), ('numactiverelcontr_750L', Float64), ('numcontrs3months_479L', Float64), ('numincomingpmts_3546848L', Float64), ('numinstlallpaidearly3d_817L', Float64), ('numinstls_657L', Float64), ('numinstlsallpaid_934L', Float64), ('numinstlswithdpd10_728L', Float64), ('numinstlswithdpd5_4187116L', Float64), ('numinstlswithoutdpd_562L', Float64), ('numinstmatpaidtearly2d_4499204L', Float64), ('numinstpaid_4499208L', Float64), ('numinstpaidearly3d_3546850L', Float64), ('numinstpaidearly3dest_4493216L', Float64), ('numinstpaidearly5d_1087L', Float64), ('numinstpaidearly5dest_4493211L', Float64), ('numinstpaidearly5dobd_4499205L', Float64), ('numinstpaidearly_338L', Float64), ('numinstpaidearlyest_4493214L', Float64), ('numinstpaidlastcontr_4325080L', Float64), ('numinstpaidlate1d_3546852L', Float64), ('numinstregularpaid_973L', Float64), ('numinstregularpaidest_4493210L', Float64), ('numinsttopaygr_769L', Float64), ('numinsttopaygrest_4493213L', Float64), ('numinstunpaidmax_3546851L', Float64), ('numinstunpaidmaxest_4493212L', Float64), ('numnotactivated_1143L', Float64), ('numpmtchanneldd_318L', Float64), ('numrejects9m_859L', Float64), ('opencred_647L', Boolean), ('paytype1st_925L', String), ('paytype_783L', String), ('payvacationpostpone_4187118D', String), ('pctinstlsallpaidearl3d_427L', Float64), ('pctinstlsallpaidlat10d_839L', Float64), ('pctinstlsallpaidlate1d_3546856L', Float64), ('pctinstlsallpaidlate4d_3546849L', Float64), ('pctinstlsallpaidlate6d_3546844L', Float64), ('pmtnum_254L', Float64), ('posfpd10lastmonth_333P', Float64), ('posfpd30lastmonth_3976960P', Float64), ('posfstqpd30lastmonth_3976962P', Float64), ('previouscontdistrict_112M', String), ('price_1097A', Float64), ('sellerplacecnt_915L', Float64), ('sellerplacescnt_216L', Float64), ('sumoutstandtotal_3546847A', Float64), ('sumoutstandtotalest_4493215A', Float64), ('totaldebt_9A', Float64), ('totalsettled_863A', Float64), ('totinstallast1m_4525188A', Float64), ('twobodfilling_608L', String), ('typesuite_864L', String), ('validfrom_1069D', String)])\n"
     ]
    }
   ],
   "source": [
    "print(train_static_0_0.schema)\n",
    "print(train_static_0_1.schema)"
   ]
  }
 ],
 "metadata": {
  "kernelspec": {
   "display_name": "Python 3",
   "language": "python",
   "name": "python3"
  },
  "language_info": {
   "codemirror_mode": {
    "name": "ipython",
    "version": 3
   },
   "file_extension": ".py",
   "mimetype": "text/x-python",
   "name": "python",
   "nbconvert_exporter": "python",
   "pygments_lexer": "ipython3",
   "version": "3.11.8"
  }
 },
 "nbformat": 4,
 "nbformat_minor": 2
}
