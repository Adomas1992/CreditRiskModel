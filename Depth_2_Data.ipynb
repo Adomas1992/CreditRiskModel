{
 "cells": [
  {
   "cell_type": "code",
   "execution_count": 14,
   "metadata": {},
   "outputs": [
    {
     "data": {
      "text/plain": [
       "(14075487, 6)"
      ]
     },
     "execution_count": 14,
     "metadata": {},
     "output_type": "execute_result"
    }
   ],
   "source": [
    "import polars as pl\n",
    "\n",
    "train_applprev_2 = pl.read_csv(\"Data/csv_files/train/train_applprev_2.csv\")\n",
    "\n",
    "train_applprev_2.shape"
   ]
  },
  {
   "cell_type": "code",
   "execution_count": 2,
   "metadata": {},
   "outputs": [
    {
     "name": "stdout",
     "output_type": "stream",
     "text": [
      "147994\n"
     ]
    }
   ],
   "source": [
    "most_frequent_case_id = (\n",
    "    train_applprev_2.filter(pl.col(\"credacc_cards_status_52L\").is_not_null())\n",
    "    .group_by(\"case_id\")\n",
    "    .agg(pl.len().alias(\"count\"))\n",
    "    .sort(\"count\")\n",
    "    .reverse()\n",
    "    .select(\"case_id\")\n",
    "    .head(1)\n",
    "    .to_series()\n",
    "    [0]\n",
    ")\n",
    "\n",
    "print(most_frequent_case_id)"
   ]
  },
  {
   "cell_type": "markdown",
   "metadata": {},
   "source": [
    "## Exploring Data Indexing with num_group1 and num_group2\n",
    "### Objective\n",
    "To understand how num_group1 and num_group2 index historical records associated with each case_id for accurate data flattening and analysis.\n",
    "\n",
    "### Process\n",
    "Filtered Data: Identified a frequent case_id focusing on non-null credit card statuses to understand how records are indexed.\n",
    "Indexed Data Attributes: Investigated the structure revealed by num_group1 and num_group2, determining their roles in categorizing data hierarchically, e.g., num_group1 for primary categorizations and num_group2 for secondary levels within each category.\n",
    "Conclusion\n",
    "Understanding the indexing mechanism is crucial for data preparation, ensuring accurate feature representation for model training. The exploration provided insights into the dataset's hierarchical structure, aiding in effective data analysis."
   ]
  },
  {
   "cell_type": "code",
   "execution_count": 3,
   "metadata": {},
   "outputs": [
    {
     "data": {
      "text/html": [
       "<div><style>\n",
       ".dataframe > thead > tr,\n",
       ".dataframe > tbody > tr {\n",
       "  text-align: right;\n",
       "  white-space: pre-wrap;\n",
       "}\n",
       "</style>\n",
       "<small>shape: (30, 6)</small><table border=\"1\" class=\"dataframe\"><thead><tr><th>case_id</th><th>cacccardblochreas_147M</th><th>conts_type_509L</th><th>credacc_cards_status_52L</th><th>num_group1</th><th>num_group2</th></tr><tr><td>i64</td><td>str</td><td>str</td><td>str</td><td>i64</td><td>i64</td></tr></thead><tbody><tr><td>147994</td><td>&quot;a55475b1&quot;</td><td>&quot;PRIMARY_MOBILE…</td><td>null</td><td>0</td><td>0</td></tr><tr><td>147994</td><td>&quot;a55475b1&quot;</td><td>null</td><td>null</td><td>0</td><td>1</td></tr><tr><td>147994</td><td>&quot;a55475b1&quot;</td><td>&quot;PRIMARY_MOBILE…</td><td>&quot;CANCELLED&quot;</td><td>1</td><td>0</td></tr><tr><td>147994</td><td>&quot;a55475b1&quot;</td><td>&quot;HOME_PHONE&quot;</td><td>null</td><td>1</td><td>1</td></tr><tr><td>147994</td><td>&quot;a55475b1&quot;</td><td>&quot;PRIMARY_MOBILE…</td><td>&quot;ACTIVE&quot;</td><td>2</td><td>0</td></tr><tr><td>147994</td><td>&quot;a55475b1&quot;</td><td>&quot;PHONE&quot;</td><td>null</td><td>2</td><td>1</td></tr><tr><td>147994</td><td>&quot;a55475b1&quot;</td><td>&quot;PRIMARY_MOBILE…</td><td>&quot;ACTIVE&quot;</td><td>3</td><td>0</td></tr><tr><td>147994</td><td>&quot;a55475b1&quot;</td><td>null</td><td>null</td><td>3</td><td>1</td></tr><tr><td>147994</td><td>&quot;a55475b1&quot;</td><td>&quot;PRIMARY_MOBILE…</td><td>&quot;CANCELLED&quot;</td><td>4</td><td>0</td></tr><tr><td>147994</td><td>&quot;a55475b1&quot;</td><td>&quot;PHONE&quot;</td><td>null</td><td>4</td><td>1</td></tr><tr><td>147994</td><td>&quot;a55475b1&quot;</td><td>&quot;PHONE&quot;</td><td>&quot;CANCELLED&quot;</td><td>5</td><td>0</td></tr><tr><td>147994</td><td>&quot;a55475b1&quot;</td><td>&quot;PRIMARY_MOBILE…</td><td>null</td><td>5</td><td>1</td></tr><tr><td>&hellip;</td><td>&hellip;</td><td>&hellip;</td><td>&hellip;</td><td>&hellip;</td><td>&hellip;</td></tr><tr><td>147994</td><td>&quot;a55475b1&quot;</td><td>&quot;PRIMARY_MOBILE…</td><td>&quot;CANCELLED&quot;</td><td>9</td><td>0</td></tr><tr><td>147994</td><td>&quot;a55475b1&quot;</td><td>null</td><td>null</td><td>9</td><td>1</td></tr><tr><td>147994</td><td>&quot;a55475b1&quot;</td><td>&quot;PRIMARY_MOBILE…</td><td>&quot;CANCELLED&quot;</td><td>10</td><td>0</td></tr><tr><td>147994</td><td>&quot;a55475b1&quot;</td><td>null</td><td>null</td><td>10</td><td>1</td></tr><tr><td>147994</td><td>&quot;a55475b1&quot;</td><td>&quot;PRIMARY_MOBILE…</td><td>&quot;CANCELLED&quot;</td><td>11</td><td>0</td></tr><tr><td>147994</td><td>&quot;a55475b1&quot;</td><td>null</td><td>null</td><td>11</td><td>1</td></tr><tr><td>147994</td><td>&quot;a55475b1&quot;</td><td>&quot;PRIMARY_MOBILE…</td><td>&quot;CANCELLED&quot;</td><td>12</td><td>0</td></tr><tr><td>147994</td><td>&quot;a55475b1&quot;</td><td>null</td><td>null</td><td>12</td><td>1</td></tr><tr><td>147994</td><td>&quot;a55475b1&quot;</td><td>&quot;PRIMARY_MOBILE…</td><td>&quot;ACTIVE&quot;</td><td>13</td><td>0</td></tr><tr><td>147994</td><td>&quot;a55475b1&quot;</td><td>null</td><td>null</td><td>13</td><td>1</td></tr><tr><td>147994</td><td>&quot;a55475b1&quot;</td><td>&quot;PRIMARY_MOBILE…</td><td>&quot;CANCELLED&quot;</td><td>14</td><td>0</td></tr><tr><td>147994</td><td>&quot;a55475b1&quot;</td><td>null</td><td>null</td><td>14</td><td>1</td></tr></tbody></table></div>"
      ],
      "text/plain": [
       "shape: (30, 6)\n",
       "┌─────────┬──────────────────────┬─────────────────┬─────────────────────┬────────────┬────────────┐\n",
       "│ case_id ┆ cacccardblochreas_14 ┆ conts_type_509L ┆ credacc_cards_statu ┆ num_group1 ┆ num_group2 │\n",
       "│ ---     ┆ 7M                   ┆ ---             ┆ s_52L               ┆ ---        ┆ ---        │\n",
       "│ i64     ┆ ---                  ┆ str             ┆ ---                 ┆ i64        ┆ i64        │\n",
       "│         ┆ str                  ┆                 ┆ str                 ┆            ┆            │\n",
       "╞═════════╪══════════════════════╪═════════════════╪═════════════════════╪════════════╪════════════╡\n",
       "│ 147994  ┆ a55475b1             ┆ PRIMARY_MOBILE  ┆ null                ┆ 0          ┆ 0          │\n",
       "│ 147994  ┆ a55475b1             ┆ null            ┆ null                ┆ 0          ┆ 1          │\n",
       "│ 147994  ┆ a55475b1             ┆ PRIMARY_MOBILE  ┆ CANCELLED           ┆ 1          ┆ 0          │\n",
       "│ 147994  ┆ a55475b1             ┆ HOME_PHONE      ┆ null                ┆ 1          ┆ 1          │\n",
       "│ 147994  ┆ a55475b1             ┆ PRIMARY_MOBILE  ┆ ACTIVE              ┆ 2          ┆ 0          │\n",
       "│ …       ┆ …                    ┆ …               ┆ …                   ┆ …          ┆ …          │\n",
       "│ 147994  ┆ a55475b1             ┆ null            ┆ null                ┆ 12         ┆ 1          │\n",
       "│ 147994  ┆ a55475b1             ┆ PRIMARY_MOBILE  ┆ ACTIVE              ┆ 13         ┆ 0          │\n",
       "│ 147994  ┆ a55475b1             ┆ null            ┆ null                ┆ 13         ┆ 1          │\n",
       "│ 147994  ┆ a55475b1             ┆ PRIMARY_MOBILE  ┆ CANCELLED           ┆ 14         ┆ 0          │\n",
       "│ 147994  ┆ a55475b1             ┆ null            ┆ null                ┆ 14         ┆ 1          │\n",
       "└─────────┴──────────────────────┴─────────────────┴─────────────────────┴────────────┴────────────┘"
      ]
     },
     "execution_count": 3,
     "metadata": {},
     "output_type": "execute_result"
    }
   ],
   "source": [
    "filtered_df = train_applprev_2.filter(pl.col(\"case_id\") == most_frequent_case_id)\n",
    "\n",
    "sorted_df = filtered_df.sort([\"num_group1\", \"num_group2\"])\n",
    "\n",
    "sorted_df.head(30)"
   ]
  },
  {
   "cell_type": "code",
   "execution_count": 4,
   "metadata": {},
   "outputs": [],
   "source": [
    "df_lazy = train_applprev_2.group_by([\"case_id\", \"num_group1\"]) \\\n",
    "                  .agg([\n",
    "                      pl.col(\"conts_type_509L\").unique().count().alias(\"unique_contact_types\"),\n",
    "                      pl.col(\"cacccardblochreas_147M\").max().alias(\"first_cacccardblochreas_147M\"),\n",
    "                      pl.col(\"credacc_cards_status_52L\").max().alias(\"first_credacc_cards_status_52L\")\n",
    "                  ])"
   ]
  },
  {
   "cell_type": "code",
   "execution_count": 5,
   "metadata": {},
   "outputs": [
    {
     "data": {
      "text/html": [
       "<div><style>\n",
       ".dataframe > thead > tr,\n",
       ".dataframe > tbody > tr {\n",
       "  text-align: right;\n",
       "  white-space: pre-wrap;\n",
       "}\n",
       "</style>\n",
       "<small>shape: (9, 6)</small><table border=\"1\" class=\"dataframe\"><thead><tr><th>statistic</th><th>case_id</th><th>num_group1</th><th>unique_contact_types</th><th>first_cacccardblochreas_147M</th><th>first_credacc_cards_status_52L</th></tr><tr><td>str</td><td>f64</td><td>f64</td><td>f64</td><td>str</td><td>str</td></tr></thead><tbody><tr><td>&quot;count&quot;</td><td>6.525978e6</td><td>6.525978e6</td><td>6.525978e6</td><td>&quot;6468134&quot;</td><td>&quot;316210&quot;</td></tr><tr><td>&quot;null_count&quot;</td><td>0.0</td><td>0.0</td><td>0.0</td><td>&quot;57844&quot;</td><td>&quot;6209768&quot;</td></tr><tr><td>&quot;mean&quot;</td><td>1.4319e6</td><td>4.194369</td><td>2.069206</td><td>null</td><td>null</td></tr><tr><td>&quot;std&quot;</td><td>787191.344959</td><td>4.274768</td><td>0.77185</td><td>null</td><td>null</td></tr><tr><td>&quot;min&quot;</td><td>2.0</td><td>0.0</td><td>1.0</td><td>&quot;P133_119_56&quot;</td><td>&quot;ACTIVE&quot;</td></tr><tr><td>&quot;25%&quot;</td><td>958657.0</td><td>1.0</td><td>2.0</td><td>null</td><td>null</td></tr><tr><td>&quot;50%&quot;</td><td>1.555975e6</td><td>3.0</td><td>2.0</td><td>null</td><td>null</td></tr><tr><td>&quot;75%&quot;</td><td>1.853312e6</td><td>6.0</td><td>3.0</td><td>null</td><td>null</td></tr><tr><td>&quot;max&quot;</td><td>2.703454e6</td><td>19.0</td><td>6.0</td><td>&quot;a55475b1&quot;</td><td>&quot;UNCONFIRMED&quot;</td></tr></tbody></table></div>"
      ],
      "text/plain": [
       "shape: (9, 6)\n",
       "┌────────────┬───────────────┬────────────┬──────────────────┬──────────────────┬──────────────────┐\n",
       "│ statistic  ┆ case_id       ┆ num_group1 ┆ unique_contact_t ┆ first_cacccardbl ┆ first_credacc_ca │\n",
       "│ ---        ┆ ---           ┆ ---        ┆ ypes             ┆ ochreas_147M     ┆ rds_status_52L   │\n",
       "│ str        ┆ f64           ┆ f64        ┆ ---              ┆ ---              ┆ ---              │\n",
       "│            ┆               ┆            ┆ f64              ┆ str              ┆ str              │\n",
       "╞════════════╪═══════════════╪════════════╪══════════════════╪══════════════════╪══════════════════╡\n",
       "│ count      ┆ 6.525978e6    ┆ 6.525978e6 ┆ 6.525978e6       ┆ 6468134          ┆ 316210           │\n",
       "│ null_count ┆ 0.0           ┆ 0.0        ┆ 0.0              ┆ 57844            ┆ 6209768          │\n",
       "│ mean       ┆ 1.4319e6      ┆ 4.194369   ┆ 2.069206         ┆ null             ┆ null             │\n",
       "│ std        ┆ 787191.344959 ┆ 4.274768   ┆ 0.77185          ┆ null             ┆ null             │\n",
       "│ min        ┆ 2.0           ┆ 0.0        ┆ 1.0              ┆ P133_119_56      ┆ ACTIVE           │\n",
       "│ 25%        ┆ 958657.0      ┆ 1.0        ┆ 2.0              ┆ null             ┆ null             │\n",
       "│ 50%        ┆ 1.555975e6    ┆ 3.0        ┆ 2.0              ┆ null             ┆ null             │\n",
       "│ 75%        ┆ 1.853312e6    ┆ 6.0        ┆ 3.0              ┆ null             ┆ null             │\n",
       "│ max        ┆ 2.703454e6    ┆ 19.0       ┆ 6.0              ┆ a55475b1         ┆ UNCONFIRMED      │\n",
       "└────────────┴───────────────┴────────────┴──────────────────┴──────────────────┴──────────────────┘"
      ]
     },
     "execution_count": 5,
     "metadata": {},
     "output_type": "execute_result"
    }
   ],
   "source": [
    "df_lazy.describe()"
   ]
  },
  {
   "cell_type": "code",
   "execution_count": 6,
   "metadata": {},
   "outputs": [
    {
     "data": {
      "text/html": [
       "<div><style>\n",
       ".dataframe > thead > tr,\n",
       ".dataframe > tbody > tr {\n",
       "  text-align: right;\n",
       "  white-space: pre-wrap;\n",
       "}\n",
       "</style>\n",
       "<small>shape: (20, 5)</small><table border=\"1\" class=\"dataframe\"><thead><tr><th>case_id</th><th>num_group1</th><th>unique_contact_types</th><th>first_cacccardblochreas_147M</th><th>first_credacc_cards_status_52L</th></tr><tr><td>i64</td><td>i64</td><td>u32</td><td>str</td><td>str</td></tr></thead><tbody><tr><td>147994</td><td>0</td><td>2</td><td>&quot;a55475b1&quot;</td><td>null</td></tr><tr><td>147994</td><td>1</td><td>2</td><td>&quot;a55475b1&quot;</td><td>&quot;CANCELLED&quot;</td></tr><tr><td>147994</td><td>2</td><td>2</td><td>&quot;a55475b1&quot;</td><td>&quot;ACTIVE&quot;</td></tr><tr><td>147994</td><td>3</td><td>2</td><td>&quot;a55475b1&quot;</td><td>&quot;ACTIVE&quot;</td></tr><tr><td>147994</td><td>4</td><td>2</td><td>&quot;a55475b1&quot;</td><td>&quot;CANCELLED&quot;</td></tr><tr><td>147994</td><td>5</td><td>2</td><td>&quot;a55475b1&quot;</td><td>&quot;CANCELLED&quot;</td></tr><tr><td>147994</td><td>6</td><td>3</td><td>&quot;a55475b1&quot;</td><td>&quot;CANCELLED&quot;</td></tr><tr><td>147994</td><td>7</td><td>2</td><td>&quot;a55475b1&quot;</td><td>&quot;CANCELLED&quot;</td></tr><tr><td>147994</td><td>8</td><td>1</td><td>&quot;a55475b1&quot;</td><td>&quot;ACTIVE&quot;</td></tr><tr><td>147994</td><td>9</td><td>2</td><td>&quot;a55475b1&quot;</td><td>&quot;CANCELLED&quot;</td></tr><tr><td>147994</td><td>10</td><td>2</td><td>&quot;a55475b1&quot;</td><td>&quot;CANCELLED&quot;</td></tr><tr><td>147994</td><td>11</td><td>2</td><td>&quot;a55475b1&quot;</td><td>&quot;CANCELLED&quot;</td></tr><tr><td>147994</td><td>12</td><td>2</td><td>&quot;a55475b1&quot;</td><td>&quot;CANCELLED&quot;</td></tr><tr><td>147994</td><td>13</td><td>2</td><td>&quot;a55475b1&quot;</td><td>&quot;ACTIVE&quot;</td></tr><tr><td>147994</td><td>14</td><td>2</td><td>&quot;a55475b1&quot;</td><td>&quot;CANCELLED&quot;</td></tr><tr><td>147994</td><td>15</td><td>2</td><td>&quot;a55475b1&quot;</td><td>&quot;CANCELLED&quot;</td></tr><tr><td>147994</td><td>16</td><td>2</td><td>&quot;a55475b1&quot;</td><td>null</td></tr><tr><td>147994</td><td>17</td><td>2</td><td>&quot;a55475b1&quot;</td><td>&quot;CANCELLED&quot;</td></tr><tr><td>147994</td><td>18</td><td>2</td><td>&quot;a55475b1&quot;</td><td>&quot;CANCELLED&quot;</td></tr><tr><td>147994</td><td>19</td><td>2</td><td>&quot;a55475b1&quot;</td><td>&quot;CANCELLED&quot;</td></tr></tbody></table></div>"
      ],
      "text/plain": [
       "shape: (20, 5)\n",
       "┌─────────┬────────────┬──────────────────────┬──────────────────────────┬─────────────────────────┐\n",
       "│ case_id ┆ num_group1 ┆ unique_contact_types ┆ first_cacccardblochreas_ ┆ first_credacc_cards_sta │\n",
       "│ ---     ┆ ---        ┆ ---                  ┆ 147M                     ┆ tus_52L                 │\n",
       "│ i64     ┆ i64        ┆ u32                  ┆ ---                      ┆ ---                     │\n",
       "│         ┆            ┆                      ┆ str                      ┆ str                     │\n",
       "╞═════════╪════════════╪══════════════════════╪══════════════════════════╪═════════════════════════╡\n",
       "│ 147994  ┆ 0          ┆ 2                    ┆ a55475b1                 ┆ null                    │\n",
       "│ 147994  ┆ 1          ┆ 2                    ┆ a55475b1                 ┆ CANCELLED               │\n",
       "│ 147994  ┆ 2          ┆ 2                    ┆ a55475b1                 ┆ ACTIVE                  │\n",
       "│ 147994  ┆ 3          ┆ 2                    ┆ a55475b1                 ┆ ACTIVE                  │\n",
       "│ 147994  ┆ 4          ┆ 2                    ┆ a55475b1                 ┆ CANCELLED               │\n",
       "│ …       ┆ …          ┆ …                    ┆ …                        ┆ …                       │\n",
       "│ 147994  ┆ 15         ┆ 2                    ┆ a55475b1                 ┆ CANCELLED               │\n",
       "│ 147994  ┆ 16         ┆ 2                    ┆ a55475b1                 ┆ null                    │\n",
       "│ 147994  ┆ 17         ┆ 2                    ┆ a55475b1                 ┆ CANCELLED               │\n",
       "│ 147994  ┆ 18         ┆ 2                    ┆ a55475b1                 ┆ CANCELLED               │\n",
       "│ 147994  ┆ 19         ┆ 2                    ┆ a55475b1                 ┆ CANCELLED               │\n",
       "└─────────┴────────────┴──────────────────────┴──────────────────────────┴─────────────────────────┘"
      ]
     },
     "execution_count": 6,
     "metadata": {},
     "output_type": "execute_result"
    }
   ],
   "source": [
    "filtered_df_2 = df_lazy.filter(pl.col(\"case_id\") == most_frequent_case_id)\n",
    "\n",
    "sorted_df_2 = filtered_df_2.sort([\"num_group1\"])\n",
    "\n",
    "sorted_df_2.head(30)"
   ]
  },
  {
   "cell_type": "code",
   "execution_count": 24,
   "metadata": {},
   "outputs": [
    {
     "name": "stdout",
     "output_type": "stream",
     "text": [
      "At least one case_id has at least 2 unique credacc_cards_status_52L.\n",
      "shape: (2, 2)\n",
      "┌─────────┬─────────────────────┐\n",
      "│ case_id ┆ unique_status_count │\n",
      "│ ---     ┆ ---                 │\n",
      "│ i64     ┆ u32                 │\n",
      "╞═════════╪═════════════════════╡\n",
      "│ 257994  ┆ 5                   │\n",
      "│ 227317  ┆ 5                   │\n",
      "└─────────┴─────────────────────┘\n"
     ]
    }
   ],
   "source": [
    "unique_status_counts = df_lazy.group_by('case_id').agg(pl.col('first_credacc_cards_status_52L').n_unique().alias('unique_status_count'))\n",
    "\n",
    "has_at_least_two_unique = unique_status_counts.filter(pl.col('unique_status_count') >= 5)\n",
    "\n",
    "if has_at_least_two_unique.shape[0] > 0:\n",
    "    print(\"At least one case_id has at least 2 unique credacc_cards_status_52L.\")\n",
    "    print(has_at_least_two_unique)\n",
    "else:\n",
    "    print(\"No case_id has at least 2 unique credacc_cards_status_52L.\")\n"
   ]
  }
 ],
 "metadata": {
  "kernelspec": {
   "display_name": "Python 3",
   "language": "python",
   "name": "python3"
  },
  "language_info": {
   "codemirror_mode": {
    "name": "ipython",
    "version": 3
   },
   "file_extension": ".py",
   "mimetype": "text/x-python",
   "name": "python",
   "nbconvert_exporter": "python",
   "pygments_lexer": "ipython3",
   "version": "3.11.8"
  }
 },
 "nbformat": 4,
 "nbformat_minor": 2
}
