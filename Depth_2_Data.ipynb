{
 "cells": [
  {
   "cell_type": "code",
   "execution_count": 20,
   "metadata": {},
   "outputs": [
    {
     "data": {
      "text/plain": [
       "(14075487, 6)"
      ]
     },
     "execution_count": 20,
     "metadata": {},
     "output_type": "execute_result"
    }
   ],
   "source": [
    "import polars as pl\n",
    "import os\n",
    "\n",
    "train_applprev_2 = pl.read_csv(\"Data/csv_files/train/train_applprev_2.csv\")\n",
    "\n",
    "train_applprev_2.shape"
   ]
  },
  {
   "cell_type": "code",
   "execution_count": 2,
   "metadata": {},
   "outputs": [
    {
     "name": "stdout",
     "output_type": "stream",
     "text": [
      "147994\n"
     ]
    }
   ],
   "source": [
    "most_frequent_case_id = (\n",
    "    train_applprev_2.filter(pl.col(\"credacc_cards_status_52L\").is_not_null())\n",
    "    .group_by(\"case_id\")\n",
    "    .agg(pl.len().alias(\"count\"))\n",
    "    .sort(\"count\")\n",
    "    .reverse()\n",
    "    .select(\"case_id\")\n",
    "    .head(1)\n",
    "    .to_series()\n",
    "    [0]\n",
    ")\n",
    "\n",
    "print(most_frequent_case_id)"
   ]
  },
  {
   "cell_type": "markdown",
   "metadata": {},
   "source": [
    "## Exploring Data Indexing with num_group1 and num_group2\n",
    "### Objective\n",
    "To understand how num_group1 and num_group2 index historical records associated with each case_id for accurate data flattening and analysis.\n",
    "\n",
    "### Process\n",
    "Filtered Data: Identified a frequent case_id focusing on non-null credit card statuses to understand how records are indexed.\n",
    "Indexed Data Attributes: Investigated the structure revealed by num_group1 and num_group2, determining their roles in categorizing data hierarchically, e.g., num_group1 for primary categorizations and num_group2 for secondary levels within each category.\n",
    "Conclusion\n",
    "Understanding the indexing mechanism is crucial for data preparation, ensuring accurate feature representation for model training. The exploration provided insights into the dataset's hierarchical structure, aiding in effective data analysis."
   ]
  },
  {
   "cell_type": "code",
   "execution_count": 3,
   "metadata": {},
   "outputs": [
    {
     "data": {
      "text/html": [
       "<div><style>\n",
       ".dataframe > thead > tr,\n",
       ".dataframe > tbody > tr {\n",
       "  text-align: right;\n",
       "  white-space: pre-wrap;\n",
       "}\n",
       "</style>\n",
       "<small>shape: (30, 6)</small><table border=\"1\" class=\"dataframe\"><thead><tr><th>case_id</th><th>cacccardblochreas_147M</th><th>conts_type_509L</th><th>credacc_cards_status_52L</th><th>num_group1</th><th>num_group2</th></tr><tr><td>i64</td><td>str</td><td>str</td><td>str</td><td>i64</td><td>i64</td></tr></thead><tbody><tr><td>147994</td><td>&quot;a55475b1&quot;</td><td>&quot;PRIMARY_MOBILE…</td><td>null</td><td>0</td><td>0</td></tr><tr><td>147994</td><td>&quot;a55475b1&quot;</td><td>null</td><td>null</td><td>0</td><td>1</td></tr><tr><td>147994</td><td>&quot;a55475b1&quot;</td><td>&quot;PRIMARY_MOBILE…</td><td>&quot;CANCELLED&quot;</td><td>1</td><td>0</td></tr><tr><td>147994</td><td>&quot;a55475b1&quot;</td><td>&quot;HOME_PHONE&quot;</td><td>null</td><td>1</td><td>1</td></tr><tr><td>147994</td><td>&quot;a55475b1&quot;</td><td>&quot;PRIMARY_MOBILE…</td><td>&quot;ACTIVE&quot;</td><td>2</td><td>0</td></tr><tr><td>147994</td><td>&quot;a55475b1&quot;</td><td>&quot;PHONE&quot;</td><td>null</td><td>2</td><td>1</td></tr><tr><td>147994</td><td>&quot;a55475b1&quot;</td><td>&quot;PRIMARY_MOBILE…</td><td>&quot;ACTIVE&quot;</td><td>3</td><td>0</td></tr><tr><td>147994</td><td>&quot;a55475b1&quot;</td><td>null</td><td>null</td><td>3</td><td>1</td></tr><tr><td>147994</td><td>&quot;a55475b1&quot;</td><td>&quot;PRIMARY_MOBILE…</td><td>&quot;CANCELLED&quot;</td><td>4</td><td>0</td></tr><tr><td>147994</td><td>&quot;a55475b1&quot;</td><td>&quot;PHONE&quot;</td><td>null</td><td>4</td><td>1</td></tr><tr><td>147994</td><td>&quot;a55475b1&quot;</td><td>&quot;PHONE&quot;</td><td>&quot;CANCELLED&quot;</td><td>5</td><td>0</td></tr><tr><td>147994</td><td>&quot;a55475b1&quot;</td><td>&quot;PRIMARY_MOBILE…</td><td>null</td><td>5</td><td>1</td></tr><tr><td>&hellip;</td><td>&hellip;</td><td>&hellip;</td><td>&hellip;</td><td>&hellip;</td><td>&hellip;</td></tr><tr><td>147994</td><td>&quot;a55475b1&quot;</td><td>&quot;PRIMARY_MOBILE…</td><td>&quot;CANCELLED&quot;</td><td>9</td><td>0</td></tr><tr><td>147994</td><td>&quot;a55475b1&quot;</td><td>null</td><td>null</td><td>9</td><td>1</td></tr><tr><td>147994</td><td>&quot;a55475b1&quot;</td><td>&quot;PRIMARY_MOBILE…</td><td>&quot;CANCELLED&quot;</td><td>10</td><td>0</td></tr><tr><td>147994</td><td>&quot;a55475b1&quot;</td><td>null</td><td>null</td><td>10</td><td>1</td></tr><tr><td>147994</td><td>&quot;a55475b1&quot;</td><td>&quot;PRIMARY_MOBILE…</td><td>&quot;CANCELLED&quot;</td><td>11</td><td>0</td></tr><tr><td>147994</td><td>&quot;a55475b1&quot;</td><td>null</td><td>null</td><td>11</td><td>1</td></tr><tr><td>147994</td><td>&quot;a55475b1&quot;</td><td>&quot;PRIMARY_MOBILE…</td><td>&quot;CANCELLED&quot;</td><td>12</td><td>0</td></tr><tr><td>147994</td><td>&quot;a55475b1&quot;</td><td>null</td><td>null</td><td>12</td><td>1</td></tr><tr><td>147994</td><td>&quot;a55475b1&quot;</td><td>&quot;PRIMARY_MOBILE…</td><td>&quot;ACTIVE&quot;</td><td>13</td><td>0</td></tr><tr><td>147994</td><td>&quot;a55475b1&quot;</td><td>null</td><td>null</td><td>13</td><td>1</td></tr><tr><td>147994</td><td>&quot;a55475b1&quot;</td><td>&quot;PRIMARY_MOBILE…</td><td>&quot;CANCELLED&quot;</td><td>14</td><td>0</td></tr><tr><td>147994</td><td>&quot;a55475b1&quot;</td><td>null</td><td>null</td><td>14</td><td>1</td></tr></tbody></table></div>"
      ],
      "text/plain": [
       "shape: (30, 6)\n",
       "┌─────────┬──────────────────────┬─────────────────┬─────────────────────┬────────────┬────────────┐\n",
       "│ case_id ┆ cacccardblochreas_14 ┆ conts_type_509L ┆ credacc_cards_statu ┆ num_group1 ┆ num_group2 │\n",
       "│ ---     ┆ 7M                   ┆ ---             ┆ s_52L               ┆ ---        ┆ ---        │\n",
       "│ i64     ┆ ---                  ┆ str             ┆ ---                 ┆ i64        ┆ i64        │\n",
       "│         ┆ str                  ┆                 ┆ str                 ┆            ┆            │\n",
       "╞═════════╪══════════════════════╪═════════════════╪═════════════════════╪════════════╪════════════╡\n",
       "│ 147994  ┆ a55475b1             ┆ PRIMARY_MOBILE  ┆ null                ┆ 0          ┆ 0          │\n",
       "│ 147994  ┆ a55475b1             ┆ null            ┆ null                ┆ 0          ┆ 1          │\n",
       "│ 147994  ┆ a55475b1             ┆ PRIMARY_MOBILE  ┆ CANCELLED           ┆ 1          ┆ 0          │\n",
       "│ 147994  ┆ a55475b1             ┆ HOME_PHONE      ┆ null                ┆ 1          ┆ 1          │\n",
       "│ 147994  ┆ a55475b1             ┆ PRIMARY_MOBILE  ┆ ACTIVE              ┆ 2          ┆ 0          │\n",
       "│ …       ┆ …                    ┆ …               ┆ …                   ┆ …          ┆ …          │\n",
       "│ 147994  ┆ a55475b1             ┆ null            ┆ null                ┆ 12         ┆ 1          │\n",
       "│ 147994  ┆ a55475b1             ┆ PRIMARY_MOBILE  ┆ ACTIVE              ┆ 13         ┆ 0          │\n",
       "│ 147994  ┆ a55475b1             ┆ null            ┆ null                ┆ 13         ┆ 1          │\n",
       "│ 147994  ┆ a55475b1             ┆ PRIMARY_MOBILE  ┆ CANCELLED           ┆ 14         ┆ 0          │\n",
       "│ 147994  ┆ a55475b1             ┆ null            ┆ null                ┆ 14         ┆ 1          │\n",
       "└─────────┴──────────────────────┴─────────────────┴─────────────────────┴────────────┴────────────┘"
      ]
     },
     "execution_count": 3,
     "metadata": {},
     "output_type": "execute_result"
    }
   ],
   "source": [
    "filtered_df = train_applprev_2.filter(pl.col(\"case_id\") == most_frequent_case_id)\n",
    "\n",
    "sorted_df = filtered_df.sort([\"num_group1\", \"num_group2\"])\n",
    "\n",
    "sorted_df.head(30)"
   ]
  },
  {
   "cell_type": "code",
   "execution_count": 4,
   "metadata": {},
   "outputs": [],
   "source": [
    "train_applprev_2 = train_applprev_2.group_by([\"case_id\", \"num_group1\"]) \\\n",
    "                  .agg([\n",
    "                      pl.col(\"conts_type_509L\").unique().count().alias(\"unique_contact_types\"),\n",
    "                      pl.col(\"cacccardblochreas_147M\").max().alias(\"first_cacccardblochreas_147M\"),\n",
    "                      pl.col(\"credacc_cards_status_52L\").max().alias(\"first_credacc_cards_status_52L\")\n",
    "                  ])"
   ]
  },
  {
   "cell_type": "code",
   "execution_count": 5,
   "metadata": {},
   "outputs": [
    {
     "data": {
      "text/html": [
       "<div><style>\n",
       ".dataframe > thead > tr,\n",
       ".dataframe > tbody > tr {\n",
       "  text-align: right;\n",
       "  white-space: pre-wrap;\n",
       "}\n",
       "</style>\n",
       "<small>shape: (9, 6)</small><table border=\"1\" class=\"dataframe\"><thead><tr><th>statistic</th><th>case_id</th><th>num_group1</th><th>unique_contact_types</th><th>first_cacccardblochreas_147M</th><th>first_credacc_cards_status_52L</th></tr><tr><td>str</td><td>f64</td><td>f64</td><td>f64</td><td>str</td><td>str</td></tr></thead><tbody><tr><td>&quot;count&quot;</td><td>6.525978e6</td><td>6.525978e6</td><td>6.525978e6</td><td>&quot;6468134&quot;</td><td>&quot;316210&quot;</td></tr><tr><td>&quot;null_count&quot;</td><td>0.0</td><td>0.0</td><td>0.0</td><td>&quot;57844&quot;</td><td>&quot;6209768&quot;</td></tr><tr><td>&quot;mean&quot;</td><td>1.4319e6</td><td>4.194369</td><td>2.069206</td><td>null</td><td>null</td></tr><tr><td>&quot;std&quot;</td><td>787191.344959</td><td>4.274768</td><td>0.77185</td><td>null</td><td>null</td></tr><tr><td>&quot;min&quot;</td><td>2.0</td><td>0.0</td><td>1.0</td><td>&quot;P133_119_56&quot;</td><td>&quot;ACTIVE&quot;</td></tr><tr><td>&quot;25%&quot;</td><td>958657.0</td><td>1.0</td><td>2.0</td><td>null</td><td>null</td></tr><tr><td>&quot;50%&quot;</td><td>1.555975e6</td><td>3.0</td><td>2.0</td><td>null</td><td>null</td></tr><tr><td>&quot;75%&quot;</td><td>1.853312e6</td><td>6.0</td><td>3.0</td><td>null</td><td>null</td></tr><tr><td>&quot;max&quot;</td><td>2.703454e6</td><td>19.0</td><td>6.0</td><td>&quot;a55475b1&quot;</td><td>&quot;UNCONFIRMED&quot;</td></tr></tbody></table></div>"
      ],
      "text/plain": [
       "shape: (9, 6)\n",
       "┌────────────┬───────────────┬────────────┬──────────────────┬──────────────────┬──────────────────┐\n",
       "│ statistic  ┆ case_id       ┆ num_group1 ┆ unique_contact_t ┆ first_cacccardbl ┆ first_credacc_ca │\n",
       "│ ---        ┆ ---           ┆ ---        ┆ ypes             ┆ ochreas_147M     ┆ rds_status_52L   │\n",
       "│ str        ┆ f64           ┆ f64        ┆ ---              ┆ ---              ┆ ---              │\n",
       "│            ┆               ┆            ┆ f64              ┆ str              ┆ str              │\n",
       "╞════════════╪═══════════════╪════════════╪══════════════════╪══════════════════╪══════════════════╡\n",
       "│ count      ┆ 6.525978e6    ┆ 6.525978e6 ┆ 6.525978e6       ┆ 6468134          ┆ 316210           │\n",
       "│ null_count ┆ 0.0           ┆ 0.0        ┆ 0.0              ┆ 57844            ┆ 6209768          │\n",
       "│ mean       ┆ 1.4319e6      ┆ 4.194369   ┆ 2.069206         ┆ null             ┆ null             │\n",
       "│ std        ┆ 787191.344959 ┆ 4.274768   ┆ 0.77185          ┆ null             ┆ null             │\n",
       "│ min        ┆ 2.0           ┆ 0.0        ┆ 1.0              ┆ P133_119_56      ┆ ACTIVE           │\n",
       "│ 25%        ┆ 958657.0      ┆ 1.0        ┆ 2.0              ┆ null             ┆ null             │\n",
       "│ 50%        ┆ 1.555975e6    ┆ 3.0        ┆ 2.0              ┆ null             ┆ null             │\n",
       "│ 75%        ┆ 1.853312e6    ┆ 6.0        ┆ 3.0              ┆ null             ┆ null             │\n",
       "│ max        ┆ 2.703454e6    ┆ 19.0       ┆ 6.0              ┆ a55475b1         ┆ UNCONFIRMED      │\n",
       "└────────────┴───────────────┴────────────┴──────────────────┴──────────────────┴──────────────────┘"
      ]
     },
     "execution_count": 5,
     "metadata": {},
     "output_type": "execute_result"
    }
   ],
   "source": [
    "train_applprev_2.describe()"
   ]
  },
  {
   "cell_type": "code",
   "execution_count": 6,
   "metadata": {},
   "outputs": [
    {
     "data": {
      "text/html": [
       "<div><style>\n",
       ".dataframe > thead > tr,\n",
       ".dataframe > tbody > tr {\n",
       "  text-align: right;\n",
       "  white-space: pre-wrap;\n",
       "}\n",
       "</style>\n",
       "<small>shape: (20, 5)</small><table border=\"1\" class=\"dataframe\"><thead><tr><th>case_id</th><th>num_group1</th><th>unique_contact_types</th><th>first_cacccardblochreas_147M</th><th>first_credacc_cards_status_52L</th></tr><tr><td>i64</td><td>i64</td><td>u32</td><td>str</td><td>str</td></tr></thead><tbody><tr><td>147994</td><td>0</td><td>2</td><td>&quot;a55475b1&quot;</td><td>null</td></tr><tr><td>147994</td><td>1</td><td>2</td><td>&quot;a55475b1&quot;</td><td>&quot;CANCELLED&quot;</td></tr><tr><td>147994</td><td>2</td><td>2</td><td>&quot;a55475b1&quot;</td><td>&quot;ACTIVE&quot;</td></tr><tr><td>147994</td><td>3</td><td>2</td><td>&quot;a55475b1&quot;</td><td>&quot;ACTIVE&quot;</td></tr><tr><td>147994</td><td>4</td><td>2</td><td>&quot;a55475b1&quot;</td><td>&quot;CANCELLED&quot;</td></tr><tr><td>147994</td><td>5</td><td>2</td><td>&quot;a55475b1&quot;</td><td>&quot;CANCELLED&quot;</td></tr><tr><td>147994</td><td>6</td><td>3</td><td>&quot;a55475b1&quot;</td><td>&quot;CANCELLED&quot;</td></tr><tr><td>147994</td><td>7</td><td>2</td><td>&quot;a55475b1&quot;</td><td>&quot;CANCELLED&quot;</td></tr><tr><td>147994</td><td>8</td><td>1</td><td>&quot;a55475b1&quot;</td><td>&quot;ACTIVE&quot;</td></tr><tr><td>147994</td><td>9</td><td>2</td><td>&quot;a55475b1&quot;</td><td>&quot;CANCELLED&quot;</td></tr><tr><td>147994</td><td>10</td><td>2</td><td>&quot;a55475b1&quot;</td><td>&quot;CANCELLED&quot;</td></tr><tr><td>147994</td><td>11</td><td>2</td><td>&quot;a55475b1&quot;</td><td>&quot;CANCELLED&quot;</td></tr><tr><td>147994</td><td>12</td><td>2</td><td>&quot;a55475b1&quot;</td><td>&quot;CANCELLED&quot;</td></tr><tr><td>147994</td><td>13</td><td>2</td><td>&quot;a55475b1&quot;</td><td>&quot;ACTIVE&quot;</td></tr><tr><td>147994</td><td>14</td><td>2</td><td>&quot;a55475b1&quot;</td><td>&quot;CANCELLED&quot;</td></tr><tr><td>147994</td><td>15</td><td>2</td><td>&quot;a55475b1&quot;</td><td>&quot;CANCELLED&quot;</td></tr><tr><td>147994</td><td>16</td><td>2</td><td>&quot;a55475b1&quot;</td><td>null</td></tr><tr><td>147994</td><td>17</td><td>2</td><td>&quot;a55475b1&quot;</td><td>&quot;CANCELLED&quot;</td></tr><tr><td>147994</td><td>18</td><td>2</td><td>&quot;a55475b1&quot;</td><td>&quot;CANCELLED&quot;</td></tr><tr><td>147994</td><td>19</td><td>2</td><td>&quot;a55475b1&quot;</td><td>&quot;CANCELLED&quot;</td></tr></tbody></table></div>"
      ],
      "text/plain": [
       "shape: (20, 5)\n",
       "┌─────────┬────────────┬──────────────────────┬──────────────────────────┬─────────────────────────┐\n",
       "│ case_id ┆ num_group1 ┆ unique_contact_types ┆ first_cacccardblochreas_ ┆ first_credacc_cards_sta │\n",
       "│ ---     ┆ ---        ┆ ---                  ┆ 147M                     ┆ tus_52L                 │\n",
       "│ i64     ┆ i64        ┆ u32                  ┆ ---                      ┆ ---                     │\n",
       "│         ┆            ┆                      ┆ str                      ┆ str                     │\n",
       "╞═════════╪════════════╪══════════════════════╪══════════════════════════╪═════════════════════════╡\n",
       "│ 147994  ┆ 0          ┆ 2                    ┆ a55475b1                 ┆ null                    │\n",
       "│ 147994  ┆ 1          ┆ 2                    ┆ a55475b1                 ┆ CANCELLED               │\n",
       "│ 147994  ┆ 2          ┆ 2                    ┆ a55475b1                 ┆ ACTIVE                  │\n",
       "│ 147994  ┆ 3          ┆ 2                    ┆ a55475b1                 ┆ ACTIVE                  │\n",
       "│ 147994  ┆ 4          ┆ 2                    ┆ a55475b1                 ┆ CANCELLED               │\n",
       "│ …       ┆ …          ┆ …                    ┆ …                        ┆ …                       │\n",
       "│ 147994  ┆ 15         ┆ 2                    ┆ a55475b1                 ┆ CANCELLED               │\n",
       "│ 147994  ┆ 16         ┆ 2                    ┆ a55475b1                 ┆ null                    │\n",
       "│ 147994  ┆ 17         ┆ 2                    ┆ a55475b1                 ┆ CANCELLED               │\n",
       "│ 147994  ┆ 18         ┆ 2                    ┆ a55475b1                 ┆ CANCELLED               │\n",
       "│ 147994  ┆ 19         ┆ 2                    ┆ a55475b1                 ┆ CANCELLED               │\n",
       "└─────────┴────────────┴──────────────────────┴──────────────────────────┴─────────────────────────┘"
      ]
     },
     "execution_count": 6,
     "metadata": {},
     "output_type": "execute_result"
    }
   ],
   "source": [
    "filtered_df_2 = train_applprev_2.filter(pl.col(\"case_id\") == most_frequent_case_id)\n",
    "\n",
    "sorted_df_2 = filtered_df_2.sort([\"num_group1\"])\n",
    "\n",
    "sorted_df_2.head(30)"
   ]
  },
  {
   "cell_type": "code",
   "execution_count": 7,
   "metadata": {},
   "outputs": [],
   "source": [
    "train_applprev_2 = train_applprev_2.with_columns(\n",
    "    pl.col('first_credacc_cards_status_52L')\n",
    "        .fill_null('UNKNOWN')\n",
    "        .alias('status')\n",
    ")\n",
    "\n",
    "train_applprev_2 = train_applprev_2.with_columns([\n",
    "    (pl.col('status') == 'ACTIVE').cast(pl.Int32).alias('is_active'),\n",
    "    (pl.col('status') == 'CANCELLED').cast(pl.Int32).alias('is_cancelled')\n",
    "])\n",
    "\n",
    "\n",
    "train_applprev_2 = train_applprev_2.group_by('case_id').agg([\n",
    "    pl.col('unique_contact_types').max().alias('max_unique_contact_type'),\n",
    "    pl.col('first_cacccardblochreas_147M').n_unique().alias('n_unique_cacccardblochreas_147M'),\n",
    "    pl.sum('is_cancelled').alias('total_cancelled')\n",
    "])"
   ]
  },
  {
   "cell_type": "code",
   "execution_count": 17,
   "metadata": {},
   "outputs": [
    {
     "data": {
      "text/html": [
       "<div><style>\n",
       ".dataframe > thead > tr,\n",
       ".dataframe > tbody > tr {\n",
       "  text-align: right;\n",
       "  white-space: pre-wrap;\n",
       "}\n",
       "</style>\n",
       "<small>shape: (5, 4)</small><table border=\"1\" class=\"dataframe\"><thead><tr><th>case_id</th><th>max_unique_contact_type</th><th>n_unique_cacccardblochreas_147M</th><th>total_cancelled</th></tr><tr><td>i64</td><td>u32</td><td>u32</td><td>i32</td></tr></thead><tbody><tr><td>693544</td><td>2</td><td>1</td><td>0</td></tr><tr><td>1069</td><td>2</td><td>1</td><td>0</td></tr><tr><td>1547930</td><td>3</td><td>1</td><td>0</td></tr><tr><td>1930684</td><td>2</td><td>1</td><td>0</td></tr><tr><td>1434543</td><td>2</td><td>1</td><td>0</td></tr></tbody></table></div>"
      ],
      "text/plain": [
       "shape: (5, 4)\n",
       "┌─────────┬─────────────────────────┬─────────────────────────────────┬─────────────────┐\n",
       "│ case_id ┆ max_unique_contact_type ┆ n_unique_cacccardblochreas_147M ┆ total_cancelled │\n",
       "│ ---     ┆ ---                     ┆ ---                             ┆ ---             │\n",
       "│ i64     ┆ u32                     ┆ u32                             ┆ i32             │\n",
       "╞═════════╪═════════════════════════╪═════════════════════════════════╪═════════════════╡\n",
       "│ 693544  ┆ 2                       ┆ 1                               ┆ 0               │\n",
       "│ 1069    ┆ 2                       ┆ 1                               ┆ 0               │\n",
       "│ 1547930 ┆ 3                       ┆ 1                               ┆ 0               │\n",
       "│ 1930684 ┆ 2                       ┆ 1                               ┆ 0               │\n",
       "│ 1434543 ┆ 2                       ┆ 1                               ┆ 0               │\n",
       "└─────────┴─────────────────────────┴─────────────────────────────────┴─────────────────┘"
      ]
     },
     "execution_count": 17,
     "metadata": {},
     "output_type": "execute_result"
    }
   ],
   "source": [
    "train_applprev_2.head()"
   ]
  },
  {
   "cell_type": "code",
   "execution_count": 9,
   "metadata": {},
   "outputs": [
    {
     "data": {
      "text/plain": [
       "(1643410, 11)"
      ]
     },
     "execution_count": 9,
     "metadata": {},
     "output_type": "execute_result"
    }
   ],
   "source": [
    "train_person_2 = pl.read_csv(\"Data/csv_files/train/train_person_2.csv\")\n",
    "\n",
    "train_person_2.shape"
   ]
  },
  {
   "cell_type": "code",
   "execution_count": 10,
   "metadata": {},
   "outputs": [
    {
     "name": "stdout",
     "output_type": "stream",
     "text": [
      "140528\n"
     ]
    }
   ],
   "source": [
    "most_frequent_case_id = (\n",
    "    train_person_2.filter(pl.col(\"addres_district_368M\").is_not_null())\n",
    "    .group_by(\"case_id\")\n",
    "    .agg(pl.len().alias(\"count\"))\n",
    "    .sort(\"count\")\n",
    "    .reverse()\n",
    "    .select(\"case_id\")\n",
    "    .head(2)\n",
    "    .to_series()\n",
    "    [1]\n",
    ")\n",
    "\n",
    "print(most_frequent_case_id)"
   ]
  },
  {
   "cell_type": "code",
   "execution_count": 11,
   "metadata": {},
   "outputs": [
    {
     "data": {
      "text/html": [
       "<div><style>\n",
       ".dataframe > thead > tr,\n",
       ".dataframe > tbody > tr {\n",
       "  text-align: right;\n",
       "  white-space: pre-wrap;\n",
       "}\n",
       "</style>\n",
       "<small>shape: (34, 11)</small><table border=\"1\" class=\"dataframe\"><thead><tr><th>case_id</th><th>addres_district_368M</th><th>addres_role_871L</th><th>addres_zip_823M</th><th>conts_role_79M</th><th>empls_economicalst_849M</th><th>empls_employedfrom_796D</th><th>empls_employer_name_740M</th><th>num_group1</th><th>num_group2</th><th>relatedpersons_role_762T</th></tr><tr><td>i64</td><td>str</td><td>str</td><td>str</td><td>str</td><td>str</td><td>str</td><td>str</td><td>i64</td><td>i64</td><td>str</td></tr></thead><tbody><tr><td>140528</td><td>&quot;P215_163_136&quot;</td><td>&quot;CONTACT&quot;</td><td>&quot;P85_138_173&quot;</td><td>&quot;P38_92_157&quot;</td><td>&quot;P148_57_109&quot;</td><td>null</td><td>&quot;a55475b1&quot;</td><td>0</td><td>0</td><td>null</td></tr><tr><td>140528</td><td>&quot;P215_163_136&quot;</td><td>&quot;PERMANENT&quot;</td><td>&quot;P85_138_173&quot;</td><td>&quot;a55475b1&quot;</td><td>&quot;a55475b1&quot;</td><td>null</td><td>&quot;a55475b1&quot;</td><td>0</td><td>1</td><td>null</td></tr><tr><td>140528</td><td>&quot;P215_163_136&quot;</td><td>&quot;CONTACT&quot;</td><td>&quot;P85_138_173&quot;</td><td>&quot;P38_92_157&quot;</td><td>&quot;P148_57_109&quot;</td><td>null</td><td>&quot;a55475b1&quot;</td><td>1</td><td>0</td><td>&quot;OTHER_RELATIVE…</td></tr><tr><td>140528</td><td>&quot;P215_163_136&quot;</td><td>&quot;TEMPORARY&quot;</td><td>&quot;P85_138_173&quot;</td><td>&quot;P177_137_98&quot;</td><td>&quot;a55475b1&quot;</td><td>null</td><td>&quot;a55475b1&quot;</td><td>1</td><td>1</td><td>&quot;CHILD&quot;</td></tr><tr><td>140528</td><td>&quot;P215_163_136&quot;</td><td>&quot;PERMANENT&quot;</td><td>&quot;P85_138_173&quot;</td><td>&quot;P177_137_98&quot;</td><td>&quot;a55475b1&quot;</td><td>null</td><td>&quot;a55475b1&quot;</td><td>1</td><td>2</td><td>&quot;SIBLING&quot;</td></tr><tr><td>140528</td><td>&quot;P215_163_136&quot;</td><td>&quot;PERMANENT&quot;</td><td>&quot;P85_138_173&quot;</td><td>&quot;P38_92_157&quot;</td><td>&quot;a55475b1&quot;</td><td>null</td><td>&quot;a55475b1&quot;</td><td>1</td><td>3</td><td>&quot;OTHER_RELATIVE…</td></tr><tr><td>140528</td><td>&quot;a55475b1&quot;</td><td>null</td><td>&quot;a55475b1&quot;</td><td>&quot;P125_14_176&quot;</td><td>&quot;a55475b1&quot;</td><td>null</td><td>&quot;a55475b1&quot;</td><td>1</td><td>4</td><td>&quot;OTHER_RELATIVE…</td></tr><tr><td>140528</td><td>&quot;a55475b1&quot;</td><td>null</td><td>&quot;a55475b1&quot;</td><td>&quot;a55475b1&quot;</td><td>&quot;a55475b1&quot;</td><td>null</td><td>&quot;a55475b1&quot;</td><td>1</td><td>5</td><td>&quot;OTHER_RELATIVE…</td></tr><tr><td>140528</td><td>&quot;a55475b1&quot;</td><td>null</td><td>&quot;a55475b1&quot;</td><td>&quot;a55475b1&quot;</td><td>&quot;a55475b1&quot;</td><td>null</td><td>&quot;a55475b1&quot;</td><td>1</td><td>6</td><td>&quot;PARENT&quot;</td></tr><tr><td>140528</td><td>&quot;a55475b1&quot;</td><td>null</td><td>&quot;a55475b1&quot;</td><td>&quot;a55475b1&quot;</td><td>&quot;a55475b1&quot;</td><td>null</td><td>&quot;a55475b1&quot;</td><td>1</td><td>7</td><td>&quot;OTHER_RELATIVE…</td></tr><tr><td>140528</td><td>&quot;a55475b1&quot;</td><td>null</td><td>&quot;a55475b1&quot;</td><td>&quot;a55475b1&quot;</td><td>&quot;a55475b1&quot;</td><td>null</td><td>&quot;a55475b1&quot;</td><td>1</td><td>8</td><td>&quot;SIBLING&quot;</td></tr><tr><td>140528</td><td>&quot;a55475b1&quot;</td><td>null</td><td>&quot;a55475b1&quot;</td><td>&quot;a55475b1&quot;</td><td>&quot;a55475b1&quot;</td><td>null</td><td>&quot;a55475b1&quot;</td><td>1</td><td>9</td><td>&quot;OTHER_RELATIVE…</td></tr><tr><td>&hellip;</td><td>&hellip;</td><td>&hellip;</td><td>&hellip;</td><td>&hellip;</td><td>&hellip;</td><td>&hellip;</td><td>&hellip;</td><td>&hellip;</td><td>&hellip;</td><td>&hellip;</td></tr><tr><td>140528</td><td>&quot;a55475b1&quot;</td><td>null</td><td>&quot;a55475b1&quot;</td><td>&quot;a55475b1&quot;</td><td>&quot;a55475b1&quot;</td><td>null</td><td>&quot;a55475b1&quot;</td><td>1</td><td>20</td><td>&quot;GRAND_PARENT&quot;</td></tr><tr><td>140528</td><td>&quot;a55475b1&quot;</td><td>null</td><td>&quot;a55475b1&quot;</td><td>&quot;a55475b1&quot;</td><td>&quot;a55475b1&quot;</td><td>null</td><td>&quot;a55475b1&quot;</td><td>1</td><td>21</td><td>&quot;OTHER_RELATIVE…</td></tr><tr><td>140528</td><td>&quot;a55475b1&quot;</td><td>null</td><td>&quot;a55475b1&quot;</td><td>&quot;a55475b1&quot;</td><td>&quot;a55475b1&quot;</td><td>null</td><td>&quot;a55475b1&quot;</td><td>1</td><td>22</td><td>&quot;CHILD&quot;</td></tr><tr><td>140528</td><td>&quot;a55475b1&quot;</td><td>null</td><td>&quot;a55475b1&quot;</td><td>&quot;a55475b1&quot;</td><td>&quot;a55475b1&quot;</td><td>null</td><td>&quot;a55475b1&quot;</td><td>1</td><td>23</td><td>&quot;OTHER_RELATIVE…</td></tr><tr><td>140528</td><td>&quot;a55475b1&quot;</td><td>null</td><td>&quot;a55475b1&quot;</td><td>&quot;a55475b1&quot;</td><td>&quot;a55475b1&quot;</td><td>null</td><td>&quot;a55475b1&quot;</td><td>1</td><td>24</td><td>&quot;OTHER_RELATIVE…</td></tr><tr><td>140528</td><td>&quot;a55475b1&quot;</td><td>null</td><td>&quot;a55475b1&quot;</td><td>&quot;a55475b1&quot;</td><td>&quot;a55475b1&quot;</td><td>null</td><td>&quot;a55475b1&quot;</td><td>1</td><td>25</td><td>&quot;NEIGHBOR&quot;</td></tr><tr><td>140528</td><td>&quot;a55475b1&quot;</td><td>null</td><td>&quot;a55475b1&quot;</td><td>&quot;a55475b1&quot;</td><td>&quot;a55475b1&quot;</td><td>null</td><td>&quot;a55475b1&quot;</td><td>1</td><td>26</td><td>&quot;OTHER_RELATIVE…</td></tr><tr><td>140528</td><td>&quot;a55475b1&quot;</td><td>null</td><td>&quot;a55475b1&quot;</td><td>&quot;a55475b1&quot;</td><td>&quot;a55475b1&quot;</td><td>null</td><td>&quot;a55475b1&quot;</td><td>1</td><td>27</td><td>&quot;OTHER_RELATIVE…</td></tr><tr><td>140528</td><td>&quot;a55475b1&quot;</td><td>null</td><td>&quot;a55475b1&quot;</td><td>&quot;a55475b1&quot;</td><td>&quot;a55475b1&quot;</td><td>null</td><td>&quot;a55475b1&quot;</td><td>1</td><td>28</td><td>&quot;SIBLING&quot;</td></tr><tr><td>140528</td><td>&quot;a55475b1&quot;</td><td>null</td><td>&quot;a55475b1&quot;</td><td>&quot;a55475b1&quot;</td><td>&quot;a55475b1&quot;</td><td>null</td><td>&quot;a55475b1&quot;</td><td>1</td><td>29</td><td>&quot;CHILD&quot;</td></tr><tr><td>140528</td><td>&quot;a55475b1&quot;</td><td>null</td><td>&quot;a55475b1&quot;</td><td>&quot;a55475b1&quot;</td><td>&quot;a55475b1&quot;</td><td>null</td><td>&quot;a55475b1&quot;</td><td>1</td><td>30</td><td>&quot;OTHER_RELATIVE…</td></tr><tr><td>140528</td><td>&quot;a55475b1&quot;</td><td>null</td><td>&quot;a55475b1&quot;</td><td>&quot;a55475b1&quot;</td><td>&quot;a55475b1&quot;</td><td>null</td><td>&quot;a55475b1&quot;</td><td>1</td><td>31</td><td>&quot;OTHER_RELATIVE…</td></tr></tbody></table></div>"
      ],
      "text/plain": [
       "shape: (34, 11)\n",
       "┌─────────┬────────────┬───────────┬───────────┬───┬───────────┬───────────┬───────────┬───────────┐\n",
       "│ case_id ┆ addres_dis ┆ addres_ro ┆ addres_zi ┆ … ┆ empls_emp ┆ num_group ┆ num_group ┆ relatedpe │\n",
       "│ ---     ┆ trict_368M ┆ le_871L   ┆ p_823M    ┆   ┆ loyer_nam ┆ 1         ┆ 2         ┆ rsons_rol │\n",
       "│ i64     ┆ ---        ┆ ---       ┆ ---       ┆   ┆ e_740M    ┆ ---       ┆ ---       ┆ e_762T    │\n",
       "│         ┆ str        ┆ str       ┆ str       ┆   ┆ ---       ┆ i64       ┆ i64       ┆ ---       │\n",
       "│         ┆            ┆           ┆           ┆   ┆ str       ┆           ┆           ┆ str       │\n",
       "╞═════════╪════════════╪═══════════╪═══════════╪═══╪═══════════╪═══════════╪═══════════╪═══════════╡\n",
       "│ 140528  ┆ P215_163_1 ┆ CONTACT   ┆ P85_138_1 ┆ … ┆ a55475b1  ┆ 0         ┆ 0         ┆ null      │\n",
       "│         ┆ 36         ┆           ┆ 73        ┆   ┆           ┆           ┆           ┆           │\n",
       "│ 140528  ┆ P215_163_1 ┆ PERMANENT ┆ P85_138_1 ┆ … ┆ a55475b1  ┆ 0         ┆ 1         ┆ null      │\n",
       "│         ┆ 36         ┆           ┆ 73        ┆   ┆           ┆           ┆           ┆           │\n",
       "│ 140528  ┆ P215_163_1 ┆ CONTACT   ┆ P85_138_1 ┆ … ┆ a55475b1  ┆ 1         ┆ 0         ┆ OTHER_REL │\n",
       "│         ┆ 36         ┆           ┆ 73        ┆   ┆           ┆           ┆           ┆ ATIVE     │\n",
       "│ 140528  ┆ P215_163_1 ┆ TEMPORARY ┆ P85_138_1 ┆ … ┆ a55475b1  ┆ 1         ┆ 1         ┆ CHILD     │\n",
       "│         ┆ 36         ┆           ┆ 73        ┆   ┆           ┆           ┆           ┆           │\n",
       "│ 140528  ┆ P215_163_1 ┆ PERMANENT ┆ P85_138_1 ┆ … ┆ a55475b1  ┆ 1         ┆ 2         ┆ SIBLING   │\n",
       "│         ┆ 36         ┆           ┆ 73        ┆   ┆           ┆           ┆           ┆           │\n",
       "│ …       ┆ …          ┆ …         ┆ …         ┆ … ┆ …         ┆ …         ┆ …         ┆ …         │\n",
       "│ 140528  ┆ a55475b1   ┆ null      ┆ a55475b1  ┆ … ┆ a55475b1  ┆ 1         ┆ 27        ┆ OTHER_REL │\n",
       "│         ┆            ┆           ┆           ┆   ┆           ┆           ┆           ┆ ATIVE     │\n",
       "│ 140528  ┆ a55475b1   ┆ null      ┆ a55475b1  ┆ … ┆ a55475b1  ┆ 1         ┆ 28        ┆ SIBLING   │\n",
       "│ 140528  ┆ a55475b1   ┆ null      ┆ a55475b1  ┆ … ┆ a55475b1  ┆ 1         ┆ 29        ┆ CHILD     │\n",
       "│ 140528  ┆ a55475b1   ┆ null      ┆ a55475b1  ┆ … ┆ a55475b1  ┆ 1         ┆ 30        ┆ OTHER_REL │\n",
       "│         ┆            ┆           ┆           ┆   ┆           ┆           ┆           ┆ ATIVE     │\n",
       "│ 140528  ┆ a55475b1   ┆ null      ┆ a55475b1  ┆ … ┆ a55475b1  ┆ 1         ┆ 31        ┆ OTHER_REL │\n",
       "│         ┆            ┆           ┆           ┆   ┆           ┆           ┆           ┆ ATIVE     │\n",
       "└─────────┴────────────┴───────────┴───────────┴───┴───────────┴───────────┴───────────┴───────────┘"
      ]
     },
     "execution_count": 11,
     "metadata": {},
     "output_type": "execute_result"
    }
   ],
   "source": [
    "filtered_2_df = train_person_2.filter(pl.col(\"case_id\") == most_frequent_case_id)\n",
    "\n",
    "sorted_2_df = filtered_2_df.sort([\"num_group1\", \"num_group2\"])\n",
    "\n",
    "sorted_2_df.head(50)"
   ]
  },
  {
   "cell_type": "code",
   "execution_count": 12,
   "metadata": {},
   "outputs": [],
   "source": [
    "train_person_2 = train_person_2.group_by('case_id').agg([\n",
    "    pl.col('addres_district_368M').n_unique().alias('n_unique_addres_district_368M'),\n",
    "    pl.col('addres_role_871L').n_unique().alias('n_unique_addres_role_871L'),\n",
    "    pl.col('addres_zip_823M').n_unique().alias('n_unique_addres_zip_823M'),\n",
    "    pl.col('conts_role_79M').n_unique().alias('n_unique_conts_role_79M'),\n",
    "    pl.col('empls_economicalst_849M').n_unique().alias('n_unique_empls_economicalst_849M'),\n",
    "    pl.col('empls_employedfrom_796D').n_unique().alias('n_unique_empls_employedfrom_796D'),\n",
    "    pl.col('empls_employer_name_740M').n_unique().alias('n_unique_empls_employer_name_740M'),\n",
    "    pl.col('relatedpersons_role_762T').n_unique().alias('n_unique_relatedpersons_role_762T')\n",
    "])"
   ]
  },
  {
   "cell_type": "code",
   "execution_count": 18,
   "metadata": {},
   "outputs": [
    {
     "data": {
      "text/html": [
       "<div><style>\n",
       ".dataframe > thead > tr,\n",
       ".dataframe > tbody > tr {\n",
       "  text-align: right;\n",
       "  white-space: pre-wrap;\n",
       "}\n",
       "</style>\n",
       "<small>shape: (5, 9)</small><table border=\"1\" class=\"dataframe\"><thead><tr><th>case_id</th><th>n_unique_addres_district_368M</th><th>n_unique_addres_role_871L</th><th>n_unique_addres_zip_823M</th><th>n_unique_conts_role_79M</th><th>n_unique_empls_economicalst_849M</th><th>n_unique_empls_employedfrom_796D</th><th>n_unique_empls_employer_name_740M</th><th>n_unique_relatedpersons_role_762T</th></tr><tr><td>i64</td><td>u32</td><td>u32</td><td>u32</td><td>u32</td><td>u32</td><td>u32</td><td>u32</td><td>u32</td></tr></thead><tbody><tr><td>981528</td><td>1</td><td>1</td><td>1</td><td>1</td><td>1</td><td>1</td><td>1</td><td>1</td></tr><tr><td>1484877</td><td>1</td><td>1</td><td>1</td><td>1</td><td>1</td><td>1</td><td>1</td><td>1</td></tr><tr><td>1562617</td><td>1</td><td>1</td><td>1</td><td>1</td><td>1</td><td>1</td><td>1</td><td>1</td></tr><tr><td>1569292</td><td>1</td><td>1</td><td>1</td><td>1</td><td>1</td><td>1</td><td>1</td><td>1</td></tr><tr><td>217086</td><td>1</td><td>1</td><td>1</td><td>1</td><td>1</td><td>1</td><td>1</td><td>1</td></tr></tbody></table></div>"
      ],
      "text/plain": [
       "shape: (5, 9)\n",
       "┌─────────┬────────────┬───────────┬───────────┬───┬───────────┬───────────┬───────────┬───────────┐\n",
       "│ case_id ┆ n_unique_a ┆ n_unique_ ┆ n_unique_ ┆ … ┆ n_unique_ ┆ n_unique_ ┆ n_unique_ ┆ n_unique_ │\n",
       "│ ---     ┆ ddres_dist ┆ addres_ro ┆ addres_zi ┆   ┆ empls_eco ┆ empls_emp ┆ empls_emp ┆ relatedpe │\n",
       "│ i64     ┆ rict_368M  ┆ le_871L   ┆ p_823M    ┆   ┆ nomicalst ┆ loyedfrom ┆ loyer_nam ┆ rsons_rol │\n",
       "│         ┆ ---        ┆ ---       ┆ ---       ┆   ┆ _849M     ┆ _796D     ┆ e_740…    ┆ e_762…    │\n",
       "│         ┆ u32        ┆ u32       ┆ u32       ┆   ┆ ---       ┆ ---       ┆ ---       ┆ ---       │\n",
       "│         ┆            ┆           ┆           ┆   ┆ u32       ┆ u32       ┆ u32       ┆ u32       │\n",
       "╞═════════╪════════════╪═══════════╪═══════════╪═══╪═══════════╪═══════════╪═══════════╪═══════════╡\n",
       "│ 981528  ┆ 1          ┆ 1         ┆ 1         ┆ … ┆ 1         ┆ 1         ┆ 1         ┆ 1         │\n",
       "│ 1484877 ┆ 1          ┆ 1         ┆ 1         ┆ … ┆ 1         ┆ 1         ┆ 1         ┆ 1         │\n",
       "│ 1562617 ┆ 1          ┆ 1         ┆ 1         ┆ … ┆ 1         ┆ 1         ┆ 1         ┆ 1         │\n",
       "│ 1569292 ┆ 1          ┆ 1         ┆ 1         ┆ … ┆ 1         ┆ 1         ┆ 1         ┆ 1         │\n",
       "│ 217086  ┆ 1          ┆ 1         ┆ 1         ┆ … ┆ 1         ┆ 1         ┆ 1         ┆ 1         │\n",
       "└─────────┴────────────┴───────────┴───────────┴───┴───────────┴───────────┴───────────┴───────────┘"
      ]
     },
     "execution_count": 18,
     "metadata": {},
     "output_type": "execute_result"
    }
   ],
   "source": [
    "train_person_2.head()"
   ]
  },
  {
   "cell_type": "code",
   "execution_count": 19,
   "metadata": {},
   "outputs": [
    {
     "data": {
      "text/html": [
       "<div><style>\n",
       ".dataframe > thead > tr,\n",
       ".dataframe > tbody > tr {\n",
       "  text-align: right;\n",
       "  white-space: pre-wrap;\n",
       "}\n",
       "</style>\n",
       "<small>shape: (5, 12)</small><table border=\"1\" class=\"dataframe\"><thead><tr><th>case_id</th><th>max_unique_contact_type</th><th>n_unique_cacccardblochreas_147M</th><th>total_cancelled</th><th>n_unique_addres_district_368M</th><th>n_unique_addres_role_871L</th><th>n_unique_addres_zip_823M</th><th>n_unique_conts_role_79M</th><th>n_unique_empls_economicalst_849M</th><th>n_unique_empls_employedfrom_796D</th><th>n_unique_empls_employer_name_740M</th><th>n_unique_relatedpersons_role_762T</th></tr><tr><td>i64</td><td>u32</td><td>u32</td><td>i32</td><td>u32</td><td>u32</td><td>u32</td><td>u32</td><td>u32</td><td>u32</td><td>u32</td><td>u32</td></tr></thead><tbody><tr><td>1484877</td><td>2</td><td>1</td><td>0</td><td>1</td><td>1</td><td>1</td><td>1</td><td>1</td><td>1</td><td>1</td><td>1</td></tr><tr><td>1562617</td><td>3</td><td>1</td><td>0</td><td>1</td><td>1</td><td>1</td><td>1</td><td>1</td><td>1</td><td>1</td><td>1</td></tr><tr><td>1569292</td><td>2</td><td>1</td><td>0</td><td>1</td><td>1</td><td>1</td><td>1</td><td>1</td><td>1</td><td>1</td><td>1</td></tr><tr><td>217086</td><td>2</td><td>1</td><td>0</td><td>1</td><td>1</td><td>1</td><td>1</td><td>1</td><td>1</td><td>1</td><td>1</td></tr><tr><td>1749144</td><td>3</td><td>1</td><td>0</td><td>1</td><td>1</td><td>1</td><td>1</td><td>1</td><td>1</td><td>1</td><td>1</td></tr></tbody></table></div>"
      ],
      "text/plain": [
       "shape: (5, 12)\n",
       "┌─────────┬────────────┬───────────┬───────────┬───┬───────────┬───────────┬───────────┬───────────┐\n",
       "│ case_id ┆ max_unique ┆ n_unique_ ┆ total_can ┆ … ┆ n_unique_ ┆ n_unique_ ┆ n_unique_ ┆ n_unique_ │\n",
       "│ ---     ┆ _contact_t ┆ cacccardb ┆ celled    ┆   ┆ empls_eco ┆ empls_emp ┆ empls_emp ┆ relatedpe │\n",
       "│ i64     ┆ ype        ┆ lochreas_ ┆ ---       ┆   ┆ nomicalst ┆ loyedfrom ┆ loyer_nam ┆ rsons_rol │\n",
       "│         ┆ ---        ┆ 147M      ┆ i32       ┆   ┆ _849M     ┆ _796D     ┆ e_740…    ┆ e_762…    │\n",
       "│         ┆ u32        ┆ ---       ┆           ┆   ┆ ---       ┆ ---       ┆ ---       ┆ ---       │\n",
       "│         ┆            ┆ u32       ┆           ┆   ┆ u32       ┆ u32       ┆ u32       ┆ u32       │\n",
       "╞═════════╪════════════╪═══════════╪═══════════╪═══╪═══════════╪═══════════╪═══════════╪═══════════╡\n",
       "│ 1484877 ┆ 2          ┆ 1         ┆ 0         ┆ … ┆ 1         ┆ 1         ┆ 1         ┆ 1         │\n",
       "│ 1562617 ┆ 3          ┆ 1         ┆ 0         ┆ … ┆ 1         ┆ 1         ┆ 1         ┆ 1         │\n",
       "│ 1569292 ┆ 2          ┆ 1         ┆ 0         ┆ … ┆ 1         ┆ 1         ┆ 1         ┆ 1         │\n",
       "│ 217086  ┆ 2          ┆ 1         ┆ 0         ┆ … ┆ 1         ┆ 1         ┆ 1         ┆ 1         │\n",
       "│ 1749144 ┆ 3          ┆ 1         ┆ 0         ┆ … ┆ 1         ┆ 1         ┆ 1         ┆ 1         │\n",
       "└─────────┴────────────┴───────────┴───────────┴───┴───────────┴───────────┴───────────┴───────────┘"
      ]
     },
     "execution_count": 19,
     "metadata": {},
     "output_type": "execute_result"
    }
   ],
   "source": [
    "train_DEPTH_2 = train_applprev_2.join(\n",
    "    train_person_2,\n",
    "    on='case_id',\n",
    "    how='inner',\n",
    ")\n",
    "\n",
    "train_DEPTH_2.head()"
   ]
  },
  {
   "cell_type": "code",
   "execution_count": 21,
   "metadata": {},
   "outputs": [],
   "source": [
    "directory = r\"C:\\Users\\afise\\.git\\CreditRiskModel\\Merged_Data\"\n",
    "filename = \"train_DEPTH_2.csv\"\n",
    "file_path = os.path.join(directory, filename)\n",
    "\n",
    "if not os.path.exists(directory):\n",
    "    os.makedirs(directory)\n",
    "\n",
    "train_DEPTH_2.write_csv(file_path)"
   ]
  }
 ],
 "metadata": {
  "kernelspec": {
   "display_name": "Python 3",
   "language": "python",
   "name": "python3"
  },
  "language_info": {
   "codemirror_mode": {
    "name": "ipython",
    "version": 3
   },
   "file_extension": ".py",
   "mimetype": "text/x-python",
   "name": "python",
   "nbconvert_exporter": "python",
   "pygments_lexer": "ipython3",
   "version": "3.11.9"
  }
 },
 "nbformat": 4,
 "nbformat_minor": 2
}
