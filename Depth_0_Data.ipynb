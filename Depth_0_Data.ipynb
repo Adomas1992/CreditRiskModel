{
 "cells": [
  {
   "cell_type": "code",
   "execution_count": 1,
   "metadata": {},
   "outputs": [],
   "source": [
    "from kaggle.api.kaggle_api_extended import KaggleApi\n",
    "import zipfile\n",
    "import os\n",
    "\n",
    "api = KaggleApi()\n",
    "api.authenticate()\n",
    "\n",
    "competition_name = 'home-credit-credit-risk-model-stability'\n",
    "api.competition_download_files(competition_name, path='./Data/')\n",
    "\n",
    "zip_file_path = f'./Data/{competition_name}.zip'\n",
    "\n",
    "with zipfile.ZipFile(zip_file_path, 'r') as zip_ref:\n",
    "    zip_ref.extractall('./Data/')\n",
    "\n",
    "os.remove(zip_file_path)"
   ]
  },
  {
   "cell_type": "code",
   "execution_count": 2,
   "metadata": {},
   "outputs": [],
   "source": [
    "import polars as pl\n",
    "\n",
    "train_base = pl.read_csv(\"Data/csv_files/train/train_base.csv\")\n",
    "\n",
    "train_static_0_0 = pl.read_csv(\"Data/csv_files/train/train_static_0_0.csv\")\n",
    "train_static_0_1 = pl.read_csv(\"Data/csv_files/train/train_static_0_1.csv\")"
   ]
  },
  {
   "cell_type": "code",
   "execution_count": 3,
   "metadata": {},
   "outputs": [],
   "source": [
    "columns_to_float = [\n",
    "    'amtinstpaidbefduel24m_4187115A',\n",
    "    'avgdbddpdlast3m_4187120P',\n",
    "    'avgdbdtollast24m_4525197P',\n",
    "    'avglnamtstart24m_4525187A',\n",
    "    'avgoutstandbalancel6m_4187114A',\n",
    "    'avgpmtlast12m_4525200A',\n",
    "    'maxlnamtstart6m_4525199A',\n",
    "    'maxoutstandbalancel12m_4187113A',\n",
    "    'maxpmtlast3m_4525190A',\n",
    "    'mindbdtollast24m_4525191P',\n",
    "    'numinstlswithdpd5_4187116L',\n",
    "    'numinstmatpaidtearly2d_4499204L',\n",
    "    'numinstpaid_4499208L',\n",
    "    'numinstpaidearly3dest_4493216L',\n",
    "    'numinstpaidearly5dest_4493211L',\n",
    "    'numinstpaidearly5dobd_4499205L',\n",
    "    'numinstpaidearlyest_4493214L',\n",
    "    'numinstpaidlastcontr_4325080L',\n",
    "    'numinstregularpaidest_4493210L',\n",
    "    'numinsttopaygrest_4493213L',\n",
    "    'numinstunpaidmaxest_4493212L',\n",
    "    'sumoutstandtotalest_4493215A',\n",
    "    'totinstallast1m_4525188A'\n",
    "]\n",
    "\n",
    "special_casts = {\n",
    "    'clientscnt_136L': pl.Float64,\n",
    "    'maxdbddpdtollast6m_4187119P': pl.Float64\n",
    "}\n",
    "\n",
    "def convert_columns_to_float(df, columns):\n",
    "    for column in columns:\n",
    "        if column in df.columns:\n",
    "            df = df.with_columns(pl.col(column).cast(pl.Float64).alias(column))\n",
    "    return df\n",
    "\n",
    "def convert_columns(df, columns_to_float, special_casts):\n",
    "    for column in columns_to_float:\n",
    "        if column in df.columns:\n",
    "            df = df.with_columns(pl.col(column).cast(pl.Float64).alias(column))\n",
    "    for column, dtype in special_casts.items():\n",
    "        if column in df.columns:\n",
    "            df = df.with_columns(pl.col(column).cast(dtype).alias(column))\n",
    "    return df\n",
    "\n",
    "train_static_0_0_converted = convert_columns(train_static_0_0, columns_to_float, special_casts)\n",
    "train_static_0_1_converted = convert_columns(train_static_0_1, columns_to_float, special_casts)"
   ]
  },
  {
   "cell_type": "code",
   "execution_count": 4,
   "metadata": {},
   "outputs": [],
   "source": [
    "train_static_0_1_converted = train_static_0_1_converted.with_columns(\n",
    "    pl.when(pl.col(\"isbidproductrequest_292L\") == \"true\")\n",
    "    .then(True)\n",
    "    .when(pl.col(\"isbidproductrequest_292L\") == \"false\")\n",
    "    .then(False)\n",
    "    .otherwise(pl.col(\"isbidproductrequest_292L\").is_null())\n",
    "    .alias(\"isbidproductrequest_292L\")\n",
    ")\n",
    "\n",
    "train_static_0_1_converted = train_static_0_1_converted.with_columns(\n",
    "    pl.col(\"isbidproductrequest_292L\").cast(pl.Boolean).alias(\"isbidproductrequest_292L\")\n",
    ")"
   ]
  },
  {
   "cell_type": "code",
   "execution_count": 5,
   "metadata": {},
   "outputs": [],
   "source": [
    "train_static_0 = pl.concat([train_static_0_0_converted, train_static_0_1_converted])"
   ]
  },
  {
   "cell_type": "code",
   "execution_count": 6,
   "metadata": {},
   "outputs": [],
   "source": [
    "train_static_cb_0 = pl.read_csv(\"Data/csv_files/train/train_static_cb_0.csv\")"
   ]
  },
  {
   "cell_type": "code",
   "execution_count": 7,
   "metadata": {},
   "outputs": [],
   "source": [
    "train_static = train_static_0.join(\n",
    "    train_static_cb_0,\n",
    "    on=\"case_id\",\n",
    "    how=\"left\"\n",
    ")"
   ]
  },
  {
   "cell_type": "code",
   "execution_count": 8,
   "metadata": {},
   "outputs": [],
   "source": [
    "train_DEPTH_0 = train_base.join(\n",
    "    train_static,\n",
    "    on=\"case_id\",\n",
    "    how=\"outer\"\n",
    ")"
   ]
  },
  {
   "cell_type": "code",
   "execution_count": 9,
   "metadata": {},
   "outputs": [
    {
     "data": {
      "text/plain": [
       "(1526659, 225)"
      ]
     },
     "execution_count": 9,
     "metadata": {},
     "output_type": "execute_result"
    }
   ],
   "source": [
    "train_DEPTH_0.shape"
   ]
  },
  {
   "cell_type": "code",
   "execution_count": 11,
   "metadata": {},
   "outputs": [],
   "source": [
    "directory = r\"C:\\Users\\afise\\.git\\CreditRiskModel\\Merged_Data\"\n",
    "filename = \"train_DEPTH_0.csv\"\n",
    "file_path = os.path.join(directory, filename)\n",
    "\n",
    "if not os.path.exists(directory):\n",
    "    os.makedirs(directory)\n",
    "\n",
    "train_DEPTH_0.write_csv(file_path)"
   ]
  }
 ],
 "metadata": {
  "kernelspec": {
   "display_name": "Python 3",
   "language": "python",
   "name": "python3"
  },
  "language_info": {
   "codemirror_mode": {
    "name": "ipython",
    "version": 3
   },
   "file_extension": ".py",
   "mimetype": "text/x-python",
   "name": "python",
   "nbconvert_exporter": "python",
   "pygments_lexer": "ipython3",
   "version": "3.11.8"
  }
 },
 "nbformat": 4,
 "nbformat_minor": 2
}
