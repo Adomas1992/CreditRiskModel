{
 "cells": [
  {
   "cell_type": "code",
   "execution_count": 1,
   "metadata": {},
   "outputs": [],
   "source": [
    "from kaggle.api.kaggle_api_extended import KaggleApi\n",
    "import zipfile\n",
    "import os\n",
    "import polars as pl\n",
    "\n",
    "api = KaggleApi()\n",
    "api.authenticate()\n",
    "\n",
    "competition_name = 'home-credit-credit-risk-model-stability'\n",
    "\n",
    "zip_file_path = f'./Data/{competition_name}.zip'"
   ]
  },
  {
   "cell_type": "code",
   "execution_count": 2,
   "metadata": {},
   "outputs": [],
   "source": [
    "train_base = pl.read_csv(\"Data/csv_files/train/train_base.csv\")\n",
    "train_static_0_0 = pl.read_csv(\"Data/csv_files/train/train_static_0_0.csv\")\n",
    "train_static_0_1 = pl.read_csv(\"Data/csv_files/train/train_static_0_1.csv\")"
   ]
  },
  {
   "cell_type": "code",
   "execution_count": 3,
   "metadata": {},
   "outputs": [],
   "source": [
    "columns_to_float = [\n",
    "    'amtinstpaidbefduel24m_4187115A',\n",
    "    'avgdbddpdlast3m_4187120P',\n",
    "    'avgdbdtollast24m_4525197P',\n",
    "    'avglnamtstart24m_4525187A',\n",
    "    'avgoutstandbalancel6m_4187114A',\n",
    "    'avgpmtlast12m_4525200A',\n",
    "    'maxlnamtstart6m_4525199A',\n",
    "    'maxoutstandbalancel12m_4187113A',\n",
    "    'maxpmtlast3m_4525190A',\n",
    "    'mindbdtollast24m_4525191P',\n",
    "    'numinstlswithdpd5_4187116L',\n",
    "    'numinstmatpaidtearly2d_4499204L',\n",
    "    'numinstpaid_4499208L',\n",
    "    'numinstpaidearly3dest_4493216L',\n",
    "    'numinstpaidearly5dest_4493211L',\n",
    "    'numinstpaidearly5dobd_4499205L',\n",
    "    'numinstpaidearlyest_4493214L',\n",
    "    'numinstpaidlastcontr_4325080L',\n",
    "    'numinstregularpaidest_4493210L',\n",
    "    'numinsttopaygrest_4493213L',\n",
    "    'numinstunpaidmaxest_4493212L',\n",
    "    'sumoutstandtotalest_4493215A',\n",
    "    'totinstallast1m_4525188A'\n",
    "]\n",
    "\n",
    "special_casts = {\n",
    "    'clientscnt_136L': pl.Float64,\n",
    "    'maxdbddpdtollast6m_4187119P': pl.Float64\n",
    "}\n",
    "\n",
    "def convert_columns_to_float(df, columns):\n",
    "    for column in columns:\n",
    "        if column in df.columns:\n",
    "            df = df.with_columns(pl.col(column).cast(pl.Float64).alias(column))\n",
    "    return df\n",
    "\n",
    "def convert_columns(df, columns_to_float, special_casts):\n",
    "    for column in columns_to_float:\n",
    "        if column in df.columns:\n",
    "            df = df.with_columns(pl.col(column).cast(pl.Float64).alias(column))\n",
    "    for column, dtype in special_casts.items():\n",
    "        if column in df.columns:\n",
    "            df = df.with_columns(pl.col(column).cast(dtype).alias(column))\n",
    "    return df\n",
    "\n",
    "train_static_0_0_converted = convert_columns(train_static_0_0, columns_to_float, special_casts)\n",
    "train_static_0_1_converted = convert_columns(train_static_0_1, columns_to_float, special_casts)"
   ]
  },
  {
   "cell_type": "code",
   "execution_count": 4,
   "metadata": {},
   "outputs": [],
   "source": [
    "train_static_0_1_converted = train_static_0_1_converted.with_columns(\n",
    "    pl.when(pl.col(\"isbidproductrequest_292L\") == \"true\")\n",
    "    .then(True)\n",
    "    .when(pl.col(\"isbidproductrequest_292L\") == \"false\")\n",
    "    .then(False)\n",
    "    .otherwise(pl.col(\"isbidproductrequest_292L\").is_null())\n",
    "    .alias(\"isbidproductrequest_292L\")\n",
    ")\n",
    "\n",
    "train_static_0_1_converted = train_static_0_1_converted.with_columns(\n",
    "    pl.col(\"isbidproductrequest_292L\").cast(pl.Boolean).alias(\"isbidproductrequest_292L\")\n",
    ")"
   ]
  },
  {
   "cell_type": "code",
   "execution_count": 5,
   "metadata": {},
   "outputs": [],
   "source": [
    "train_static_0 = pl.concat([train_static_0_0_converted, train_static_0_1_converted])\n",
    "train_static_cb_0 = pl.read_csv(\"Data/csv_files/train/train_static_cb_0.csv\")"
   ]
  },
  {
   "cell_type": "code",
   "execution_count": 6,
   "metadata": {},
   "outputs": [],
   "source": [
    "train_static = train_static_0.join(\n",
    "    train_static_cb_0,\n",
    "    on=\"case_id\",\n",
    "    how=\"left\"\n",
    ")"
   ]
  },
  {
   "cell_type": "code",
   "execution_count": 7,
   "metadata": {},
   "outputs": [],
   "source": [
    "train_DEPTH_0 = train_base.join(\n",
    "    train_static,\n",
    "    on=\"case_id\",\n",
    "    how=\"outer\"\n",
    ")"
   ]
  },
  {
   "cell_type": "code",
   "execution_count": 8,
   "metadata": {},
   "outputs": [],
   "source": [
    "string_columns = [col_name for col_name, dtype in train_DEPTH_0.schema.items() if dtype == pl.Utf8]"
   ]
  },
  {
   "cell_type": "code",
   "execution_count": 9,
   "metadata": {},
   "outputs": [],
   "source": [
    "import polars as pl\n",
    "\n",
    "def convert_to_ordinal(date_column):\n",
    "    min_date = pl.lit(\"0001-01-01\").str.strptime(pl.Date)\n",
    "    date_parsed = date_column.str.strptime(pl.Date, strict=False)\n",
    "    return pl.when(date_parsed.is_not_null() & (date_parsed > min_date)) \\\n",
    "             .then((date_parsed.cast(pl.Int64) - min_date.cast(pl.Int64))) \\\n",
    "             .otherwise(pl.lit(None))\n",
    "\n",
    "def convert_to_float(amount_column):\n",
    "    return pl.when(amount_column.is_not_null()) \\\n",
    "        .then(amount_column.str.replace(\",\", \"\").cast(pl.Float64)) \\\n",
    "        .otherwise(pl.lit(None))\n",
    "\n",
    "date_columns = [col for col in string_columns if col.endswith('D')] + ['date_decision']\n",
    "amount_columns = [col for col in string_columns if col.endswith('A')]\n",
    "one_hot_encode_columns = ['education_1103M', 'maritalst_385M']\n",
    "\n",
    "for col in date_columns:\n",
    "    train_DEPTH_0 = train_DEPTH_0.with_columns(\n",
    "        convert_to_ordinal(pl.col(col)).alias(col)\n",
    "    )\n",
    "\n",
    "for col in amount_columns:\n",
    "    train_DEPTH_0 = train_DEPTH_0.with_columns(\n",
    "        convert_to_float(pl.col(col)).alias(col)\n",
    "    )\n",
    "\n",
    "for col in one_hot_encode_columns:\n",
    "    dummy_df = train_DEPTH_0.select(col).to_dummies()\n",
    "    train_DEPTH_0 = train_DEPTH_0.drop(col)\n",
    "    train_DEPTH_0 = train_DEPTH_0.hstack(dummy_df)\n",
    "\n",
    "remaining_columns = [\n",
    "    col for col in string_columns \n",
    "    if col not in date_columns \n",
    "    and col not in amount_columns \n",
    "    and col not in one_hot_encode_columns\n",
    "]\n",
    "\n",
    "train_DEPTH_0 = train_DEPTH_0.drop(remaining_columns)"
   ]
  },
  {
   "cell_type": "code",
   "execution_count": 10,
   "metadata": {},
   "outputs": [],
   "source": [
    "directory = r\"C:\\Users\\afise\\.git\\CreditRiskModel\\Merged_Data\"\n",
    "filename = \"train_DEPTH_0.csv\"\n",
    "file_path = os.path.join(directory, filename)\n",
    "\n",
    "if not os.path.exists(directory):\n",
    "    os.makedirs(directory)\n",
    "\n",
    "train_DEPTH_0.write_csv(file_path)"
   ]
  }
 ],
 "metadata": {
  "kernelspec": {
   "display_name": "Python 3",
   "language": "python",
   "name": "python3"
  },
  "language_info": {
   "codemirror_mode": {
    "name": "ipython",
    "version": 3
   },
   "file_extension": ".py",
   "mimetype": "text/x-python",
   "name": "python",
   "nbconvert_exporter": "python",
   "pygments_lexer": "ipython3",
   "version": "3.11.9"
  }
 },
 "nbformat": 4,
 "nbformat_minor": 2
}
