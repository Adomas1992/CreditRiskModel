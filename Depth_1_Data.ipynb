{
 "cells": [
  {
   "cell_type": "code",
   "execution_count": 1,
   "metadata": {},
   "outputs": [],
   "source": [
    "from datetime import date\n",
    "import polars as pl\n",
    "import os\n",
    "\n",
    "train_applprev_1_0 = pl.read_csv(\"Data/csv_files/train/train_applprev_1_0.csv\")\n",
    "train_applprev_1_1 = pl.read_csv(\"Data/csv_files/train/train_applprev_1_1.csv\")"
   ]
  },
  {
   "cell_type": "code",
   "execution_count": 2,
   "metadata": {},
   "outputs": [],
   "source": [
    "train_applprev_1 = pl.concat([train_applprev_1_0, train_applprev_1_1])\n",
    "\n",
    "directory = r\"C:\\Users\\afise\\.git\\CreditRiskModel\\Merged_Data\"\n",
    "filename = \"train_applprev_1.csv\"\n",
    "file_path = os.path.join(directory, filename)"
   ]
  },
  {
   "cell_type": "code",
   "execution_count": 3,
   "metadata": {},
   "outputs": [],
   "source": [
    "train_applprev_1 = train_applprev_1.lazy()"
   ]
  },
  {
   "cell_type": "code",
   "execution_count": 4,
   "metadata": {},
   "outputs": [],
   "source": [
    "def try_parse_date(col, fmt1, fmt2):\n",
    "    date1 = col.str.strptime(pl.Date, fmt1, strict=False)\n",
    "    date2 = col.str.strptime(pl.Date, fmt2, strict=False)\n",
    "    return pl.when(date1.is_not_null()).then(date1).otherwise(date2)\n",
    "\n",
    "train_applprev_1 = (\n",
    "    train_applprev_1\n",
    "    .with_columns([\n",
    "        try_parse_date(pl.col(\"approvaldate_319D\"), \"%m/%d/%Y\", \"%Y-%m-%d\").alias(\"approvaldate_319D\"),\n",
    "        try_parse_date(pl.col(\"dateactivated_425D\"), \"%m/%d/%Y\", \"%Y-%m-%d\").alias(\"dateactivated_425D\"),\n",
    "        try_parse_date(pl.col(\"creationdate_885D\"), \"%m/%d/%Y\", \"%Y-%m-%d\").alias(\"creationdate_885D\"),\n",
    "        try_parse_date(pl.col(\"dtlastpmt_581D\"), \"%m/%d/%Y\", \"%Y-%m-%d\").alias(\"dtlastpmt_581D\"),\n",
    "        try_parse_date(pl.col(\"employedfrom_700D\"), \"%m/%d/%Y\", \"%Y-%m-%d\").alias(\"employedfrom_700D\"),\n",
    "        try_parse_date(pl.col(\"dtlastpmtallstes_3545839D\"), \"%m/%d/%Y\", \"%Y-%m-%d\").alias(\"dtlastpmtallstes_3545839D\"),\n",
    "        try_parse_date(pl.col(\"firstnonzeroinstldate_307D\"), \"%m/%d/%Y\", \"%Y-%m-%d\").alias(\"firstnonzeroinstldate_307D\"),\n",
    "    ])\n",
    "    .group_by(\"case_id\")\n",
    "    .agg([\n",
    "        pl.col(\"actualdpd_943P\").mean().alias(\"actualdpd_943P_mean\"),\n",
    "        pl.col(\"annuity_853A\").sum().alias(\"annuity_853A_sum\"),\n",
    "        pl.col(\"childnum_21L\").sum().alias(\"childnum_21L_sum\"),\n",
    "        pl.col(\"credacc_actualbalance_314A\").mean().alias(\"credacc_actualbalance_314A_mean\"),\n",
    "        pl.col(\"credacc_credlmt_575A\").mean().alias(\"credacc_credlmt_575A_mean\"),\n",
    "        pl.col(\"credacc_maxhisbal_375A\").max().alias(\"credacc_maxhisbal_375A_max\"),\n",
    "        pl.col(\"credacc_minhisbal_90A\").min().alias(\"credacc_minhisbal_90A_min\"),\n",
    "        pl.col(\"credacc_transactions_402L\").sum().alias(\"credacc_transactions_402L_sum\"),\n",
    "        pl.col(\"credamount_590A\").mean().alias(\"credamount_590A_mean\"),\n",
    "        pl.col(\"currdebt_94A\").mean().alias(\"currdebt_94A_mean\"),\n",
    "        pl.col(\"downpmt_134A\").sum().alias(\"downpmt_134A_sum\"),\n",
    "        pl.col(\"mainoccupationinc_437A\").mean().alias(\"mainoccupationinc_437A_mean\"),\n",
    "        pl.col(\"outstandingdebt_522A\").sum().alias(\"outstandingdebt_522A_sum\"),\n",
    "        pl.col(\"pmtnum_8L\").max().alias(\"pmtnum_8L_max\"),\n",
    "        pl.col(\"tenor_203L\").min().alias(\"tenor_203L_min\"),\n",
    "        pl.col(\"isbidproduct_390L\").cast(pl.UInt32).sum().alias(\"isbidproduct_390L_sum\"),\n",
    "        pl.col(\"isdebitcard_527L\").cast(pl.UInt32).sum().alias(\"isdebitcard_527L_sum\"),\n",
    "        pl.col(\"credacc_status_367L\").n_unique().alias(\"credacc_status_367L_n_unique\"),\n",
    "        pl.col(\"credtype_587L\").n_unique().alias(\"credtype_587L_n_unique\"),\n",
    "        pl.col(\"education_1138M\").n_unique().alias(\"education_1138M_n_unique\"),\n",
    "        pl.col(\"familystate_726L\").n_unique().alias(\"familystate_726L_n_unique\"),\n",
    "        pl.col(\"postype_4733339M\").n_unique().alias(\"postype_4733339M_n_unique\"),\n",
    "        pl.col(\"profession_152M\").n_unique().alias(\"profession_152M_n_unique\"),\n",
    "        pl.col(\"rejectreason_755M\").n_unique().alias(\"rejectreason_755M_n_unique\"),\n",
    "        pl.col(\"rejectreasonclient_4145042M\").n_unique().alias(\"rejectreasonclient_4145042M_n_unique\"),\n",
    "        pl.col(\"status_219L\").n_unique().alias(\"status_219L_n_unique\"),\n",
    "        (pl.col(\"approvaldate_319D\").diff().abs().min()).alias(\"approval_to_activation_min_diff\"),\n",
    "        (pl.col(\"creationdate_885D\").diff().abs().min()).alias(\"creation_min_diff\"),\n",
    "        (pl.col(\"dtlastpmt_581D\").diff().abs().max()).alias(\"payment_max_diff\"),\n",
    "        pl.col(\"employedfrom_700D\").min().alias(\"earliest_employment_date\"),\n",
    "        pl.col(\"byoccupationinc_3656910L\").n_unique().alias(\"byoccupationinc_3656910L_n_unique\"),\n",
    "        pl.col(\"cancelreason_3545846M\").n_unique().alias(\"cancelreason_3545846M_n_unique\"),\n",
    "        pl.col(\"district_544M\").n_unique().alias(\"district_544M_n_unique\"),\n",
    "        pl.col(\"dtlastpmtallstes_3545839D\").min().alias(\"earliest_last_payment_date\"),\n",
    "        pl.col(\"firstnonzeroinstldate_307D\").min().alias(\"earliest_first_nonzero_installment_date\"),\n",
    "        pl.col(\"inittransactioncode_279L\").n_unique().alias(\"inittransactioncode_279L_n_unique\"),\n",
    "        pl.col(\"maxdpdtolerance_577P\").max().alias(\"maximum_dpd_tolerance\"),\n",
    "        pl.col(\"revolvingaccount_394A\").sum().alias(\"sum_revolving_accounts\"),\n",
    "    ])\n",
    "    .collect()\n",
    ")"
   ]
  },
  {
   "cell_type": "code",
   "execution_count": 5,
   "metadata": {},
   "outputs": [],
   "source": [
    "train_other_1 = pl.scan_csv(\"Data/csv_files/train/train_other_1.csv\")"
   ]
  },
  {
   "cell_type": "code",
   "execution_count": 6,
   "metadata": {},
   "outputs": [],
   "source": [
    "train_other_1 = (\n",
    "    train_other_1.group_by(\"case_id\")\n",
    "    .agg([\n",
    "        pl.col(\"amtdebitincoming_4809443A\").sum().alias(\"sum_amtdebitincoming\"),\n",
    "        pl.col(\"amtdebitoutgoing_4809440A\").sum().alias(\"sum_amtdebitoutgoing\"),\n",
    "        pl.col(\"amtdepositbalance_4809441A\").mean().alias(\"avg_amtdepositbalance\"),\n",
    "        pl.col(\"amtdepositincoming_4809444A\").sum().alias(\"sum_amtdepositincoming\"),\n",
    "        pl.col(\"amtdepositoutgoing_4809442A\").sum().alias(\"sum_amtdepositoutgoing\"),\n",
    "    ])\n",
    ")\n",
    "\n",
    "train_other_1 = train_other_1.collect()"
   ]
  },
  {
   "cell_type": "code",
   "execution_count": 7,
   "metadata": {},
   "outputs": [],
   "source": [
    "train_applprev_1 = train_applprev_1.lazy()\n",
    "train_other_1 = train_other_1.lazy()\n",
    "\n",
    "df_joined = train_applprev_1.join(\n",
    "    train_other_1,\n",
    "    on=\"case_id\",\n",
    "    how=\"left\"\n",
    ")\n",
    "\n",
    "df_joined = df_joined.collect()"
   ]
  },
  {
   "cell_type": "code",
   "execution_count": 8,
   "metadata": {},
   "outputs": [],
   "source": [
    "train_deposit_1 = pl.scan_csv(\"Data/csv_files/train/train_deposit_1.csv\")"
   ]
  },
  {
   "cell_type": "code",
   "execution_count": 9,
   "metadata": {},
   "outputs": [],
   "source": [
    "transformations = (\n",
    "    train_deposit_1\n",
    "    .group_by(\"case_id\")\n",
    "    .agg([\n",
    "        pl.col(\"amount_416A\").mean().alias(\"average_amount\"),\n",
    "        pl.count(\"openingdate_313D\").alias(\"open_contracts_count\"),\n",
    "        pl.count(\"contractenddate_991D\").alias(\"closed_contracts_count\"),\n",
    "    ])\n",
    ")\n",
    "\n",
    "train_deposit_1 = transformations.collect()"
   ]
  },
  {
   "cell_type": "code",
   "execution_count": 10,
   "metadata": {},
   "outputs": [],
   "source": [
    "df_joined = df_joined.lazy()\n",
    "train_deposit_1 = train_deposit_1.lazy()\n",
    "\n",
    "df_joined = df_joined.join(\n",
    "    train_deposit_1,\n",
    "    on=\"case_id\",\n",
    "    how=\"left\"\n",
    ")\n",
    "\n",
    "df_joined = df_joined.collect()"
   ]
  },
  {
   "cell_type": "code",
   "execution_count": 11,
   "metadata": {},
   "outputs": [],
   "source": [
    "train_person_1 = pl.read_csv(\"Data/csv_files/train/train_person_1.csv\")"
   ]
  },
  {
   "cell_type": "code",
   "execution_count": 12,
   "metadata": {},
   "outputs": [],
   "source": [
    "transformations_2 = [\n",
    "    pl.col(\"birth_259D\").n_unique().alias(\"unique_birth_dates\"),\n",
    "    pl.col(\"birthdate_87D\").n_unique().alias(\"unique_birth_dates_87D\"),\n",
    "    pl.col(\"childnum_185L\").max().alias(\"max_children\"),\n",
    "    pl.col(\"education_927M\").n_unique().alias(\"unique_educations\"),\n",
    "    pl.col(\"empl_employedtotal_800L\").mean().alias(\"avg_employment_length\"),\n",
    "    pl.col(\"mainoccupationinc_384A\").sum().alias(\"total_main_income\"),\n",
    "    pl.col(\"gender_992L\").n_unique().alias(\"unique_genders\"),\n",
    "    pl.col(\"housetype_905L\").n_unique().alias(\"unique_house_types\"),\n",
    "    pl.col(\"housingtype_772L\").n_unique().alias(\"unique_housing_types\"),\n",
    "    pl.col(\"incometype_1044T\").n_unique().alias(\"unique_income_types\"),\n",
    "    pl.col(\"maritalst_703L\").n_unique().alias(\"unique_marital_statuses\"),\n",
    "    pl.col(\"persontype_1072L\").n_unique().alias(\"unique_person_types_1072L\"),\n",
    "    pl.col(\"persontype_792L\").n_unique().alias(\"unique_person_types_792L\"),\n",
    "    pl.col(\"relationshiptoclient_415T\").n_unique().alias(\"unique_relationships_415T\"),\n",
    "    pl.col(\"relationshiptoclient_642T\").n_unique().alias(\"unique_relationships_642T\"),\n",
    "    pl.col(\"remitter_829L\").sum().alias(\"sum_remitters\"),\n",
    "    pl.col(\"role_1084L\").n_unique().alias(\"unique_roles_1084L\"),\n",
    "    pl.col(\"role_993L\").n_unique().alias(\"unique_roles_993L\"),\n",
    "    pl.col(\"safeguarantyflag_411L\").sum().alias(\"sum_safeguaranty_flags\"),\n",
    "    pl.col(\"sex_738L\").n_unique().alias(\"unique_sexes\"),\n",
    "    pl.col(\"type_25L\").n_unique().alias(\"unique_contact_types\"),\n",
    "    pl.col(\"contaddr_district_15M\").n_unique().alias(\"unique_contact_address_districts\"),\n",
    "    pl.col(\"empladdr_district_926M\").n_unique().alias(\"unique_employer_address_districts\"),\n",
    "    pl.col(\"registaddr_district_1083M\").n_unique().alias(\"unique_registered_address_districts\"),\n",
    "    pl.col(\"isreference_387L\").sum().alias(\"sum_is_reference_flags\"),\n",
    "    pl.col(\"empl_industry_691L\").n_unique().alias(\"unique_industries\"),\n",
    "    pl.col(\"empladdr_zipcode_114M\").n_unique().alias(\"unique_employer_zipcodes\"),\n",
    "    pl.col(\"contaddr_zipcode_807M\").n_unique().alias(\"unique_contact_zipcodes\"),\n",
    "    pl.col(\"registaddr_zipcode_184M\").n_unique().alias(\"unique_registered_zipcodes\"),\n",
    "    pl.col(\"language1_981M\").n_unique().alias(\"unique_languages\"),\n",
    "    pl.col(\"familystate_447L\").n_unique().alias(\"unique_family_states\"),\n",
    "    pl.col(\"contaddr_matchlist_1032L\").sum().alias(\"sum_contact_address_matchlist\"),\n",
    "    pl.col(\"contaddr_smempladdr_334L\").sum().alias(\"sum_contact_same_employer_address\"),\n",
    "    pl.col(\"personindex_1023L\").n_unique().alias(\"unique_person_indices\")\n",
    "]\n",
    "\n",
    "train_person_1 = train_person_1.group_by(\"case_id\").agg(transformations_2)\n",
    "\n",
    "columns_to_drop = [\n",
    "    \"birth_259D\", \"birthdate_87D\", \"empl_employedfrom_271D\", \"childnum_185L\", \"education_927M\",\n",
    "    \"empl_employedtotal_800L\", \"mainoccupationinc_384A\", \"gender_992L\", \"housetype_905L\", \"housingtype_772L\",\n",
    "    \"incometype_1044T\", \"maritalst_703L\", \"persontype_1072L\", \"persontype_792L\", \"relationshiptoclient_415T\",\n",
    "    \"relationshiptoclient_642T\", \"remitter_829L\", \"role_1084L\", \"role_993L\", \"safeguarantyflag_411L\", \"sex_738L\",\n",
    "    \"type_25L\", \"contaddr_district_15M\", \"empladdr_district_926M\", \"registaddr_district_1083M\", \"isreference_387L\",\n",
    "    \"empl_industry_691L\", \"empladdr_zipcode_114M\", \"contaddr_zipcode_807M\", \"registaddr_zipcode_184M\",\n",
    "    \"language1_981M\", \"familystate_447L\", \"contaddr_matchlist_1032L\", \"contaddr_smempladdr_334L\", \"personindex_1023L\",\n",
    "    \"empl_employedfrom_271D\"\n",
    "]\n",
    "\n",
    "train_person_1 = train_person_1.drop(columns_to_drop)"
   ]
  },
  {
   "cell_type": "code",
   "execution_count": 13,
   "metadata": {},
   "outputs": [],
   "source": [
    "df_joined = df_joined.lazy()\n",
    "train_person_1 = train_person_1.lazy()\n",
    "\n",
    "df_joined = df_joined.join(\n",
    "    train_person_1,\n",
    "    on=\"case_id\",\n",
    "    how=\"left\"\n",
    ")\n",
    "\n",
    "df_joined = df_joined.collect()"
   ]
  },
  {
   "cell_type": "code",
   "execution_count": 14,
   "metadata": {},
   "outputs": [],
   "source": [
    "train_debitcard_1 = pl.read_csv(\"Data/csv_files/train/train_debitcard_1.csv\")"
   ]
  },
  {
   "cell_type": "code",
   "execution_count": 15,
   "metadata": {},
   "outputs": [],
   "source": [
    "train_debitcard_1 = train_debitcard_1.with_columns([\n",
    "    pl.col(\"last180dayaveragebalance_704A\").cast(pl.Float64).fill_null(0).alias(\"last180dayaveragebalance_704A\"),\n",
    "    pl.col(\"last180dayturnover_1134A\").cast(pl.Float64).fill_null(0).alias(\"last180dayturnover_1134A\"),\n",
    "    pl.col(\"last30dayturnover_651A\").cast(pl.Float64).fill_null(0).alias(\"last30dayturnover_651A\")\n",
    "])\n",
    "\n",
    "train_debitcard_1 = train_debitcard_1.with_columns(\n",
    "    pl.col(\"openingdate_857D\").str.strptime(pl.Date, \"%Y-%m-%d\").alias(\"parsed_openingdate\")\n",
    ").drop(\"openingdate_857D\")\n",
    "       \n",
    "train_debitcard_1 = train_debitcard_1.group_by(\"case_id\").agg([\n",
    "    pl.sum(\"last180dayaveragebalance_704A\").alias(\"total_180dayaveragebalance\"),\n",
    "    pl.sum(\"last180dayturnover_1134A\").alias(\"total_180dayturnover\"),\n",
    "    pl.sum(\"last30dayturnover_651A\").alias(\"total_30dayturnover\"),\n",
    "    pl.min(\"parsed_openingdate\").alias(\"earliest_openingdate\")\n",
    "])"
   ]
  },
  {
   "cell_type": "code",
   "execution_count": 16,
   "metadata": {},
   "outputs": [],
   "source": [
    "df_joined = df_joined.lazy()\n",
    "train_debitcard_1 = train_debitcard_1.lazy()\n",
    "\n",
    "df_joined = df_joined.join(\n",
    "    train_debitcard_1,\n",
    "    on=\"case_id\",\n",
    "    how=\"left\"\n",
    ")\n",
    "\n",
    "df_joined = df_joined.collect()"
   ]
  },
  {
   "cell_type": "code",
   "execution_count": 17,
   "metadata": {},
   "outputs": [],
   "source": [
    "duration_columns = [\n",
    "    \"approval_to_activation_min_diff\",\n",
    "    \"creation_min_diff\",\n",
    "    \"payment_max_diff\"\n",
    "]\n",
    "\n",
    "for column in duration_columns:\n",
    "    df_joined = df_joined.with_columns(\n",
    "        pl.col(column).str.replace(\"d\", \"\").cast(pl.Int64) * 1440\n",
    "    )"
   ]
  },
  {
   "cell_type": "code",
   "execution_count": 18,
   "metadata": {},
   "outputs": [],
   "source": [
    "column_names = df_joined.columns\n",
    "column_types = df_joined.dtypes\n",
    "\n",
    "date_columns = [name for name, dtype in zip(column_names, column_types) if dtype == pl.Date]\n",
    "string_columns = [name for name, dtype in zip(column_names, column_types) if dtype == pl.Utf8]\n",
    "\n",
    "def convert_to_ordinal(date):\n",
    "    return pl.when(date.is_not_null()).then(\n",
    "        (date.dt.year() * 365) + (date.dt.month() * 30) + date.dt.day()\n",
    "    ).otherwise(None)\n",
    "\n",
    "for col in date_columns:\n",
    "    df_joined = df_joined.with_columns(\n",
    "        convert_to_ordinal(pl.col(col)).alias(col)\n",
    "    )\n",
    "df_joined = df_joined.drop(string_columns)"
   ]
  },
  {
   "cell_type": "code",
   "execution_count": 19,
   "metadata": {},
   "outputs": [],
   "source": [
    "train_DEPTH_1 = df_joined\n",
    "\n",
    "directory = r\"C:\\Users\\afise\\.git\\CreditRiskModel\\Merged_Data\"\n",
    "filename = \"train_DEPTH_1.csv\"\n",
    "file_path = os.path.join(directory, filename)\n",
    "\n",
    "if not os.path.exists(directory):\n",
    "    os.makedirs(directory)\n",
    "\n",
    "train_DEPTH_1.write_csv(file_path)"
   ]
  }
 ],
 "metadata": {
  "kernelspec": {
   "display_name": "Python 3",
   "language": "python",
   "name": "python3"
  },
  "language_info": {
   "codemirror_mode": {
    "name": "ipython",
    "version": 3
   },
   "file_extension": ".py",
   "mimetype": "text/x-python",
   "name": "python",
   "nbconvert_exporter": "python",
   "pygments_lexer": "ipython3",
   "version": "3.11.9"
  }
 },
 "nbformat": 4,
 "nbformat_minor": 2
}
