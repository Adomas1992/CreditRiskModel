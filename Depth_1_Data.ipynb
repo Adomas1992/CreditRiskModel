{
 "cells": [
  {
   "cell_type": "code",
   "execution_count": 1,
   "metadata": {},
   "outputs": [],
   "source": [
    "import polars as pl\n",
    "import os\n",
    "\n",
    "train_applprev_1_0 = pl.read_csv(\"Data/csv_files/train/train_applprev_1_0.csv\")\n",
    "train_applprev_1_1 = pl.read_csv(\"Data/csv_files/train/train_applprev_1_1.csv\")"
   ]
  },
  {
   "cell_type": "code",
   "execution_count": 2,
   "metadata": {},
   "outputs": [],
   "source": [
    "train_applprev_1 = pl.concat([train_applprev_1_0, train_applprev_1_1])"
   ]
  },
  {
   "cell_type": "code",
   "execution_count": 3,
   "metadata": {},
   "outputs": [],
   "source": [
    "train_other_1_lazy = pl.scan_csv(\"Data/csv_files/train/train_other_1.csv\")\n",
    "\n",
    "train_applprev_1_lazy = train_applprev_1.lazy()"
   ]
  },
  {
   "cell_type": "code",
   "execution_count": null,
   "metadata": {},
   "outputs": [],
   "source": [
    "batch_size = 50000\n",
    "\n",
    "total_rows_result = train_applprev_1_lazy.count().collect()\n",
    "total_rows = total_rows_result.to_series()[0]\n",
    "num_batches = (total_rows + batch_size - 1) // batch_size\n",
    "\n",
    "final_result = pl.DataFrame()\n",
    "\n",
    "for i in range(num_batches):\n",
    "    start_idx = i * batch_size\n",
    "    batch_size_adjusted = min(batch_size, total_rows - start_idx)\n",
    "\n",
    "    batch_train_applprev_1 = train_applprev_1_lazy.slice(start_idx, batch_size_adjusted)\n",
    "    batch_train_other_1 = train_other_1_lazy.slice(start_idx, batch_size_adjusted)\n",
    "\n",
    "    batch_result = batch_train_applprev_1.join(\n",
    "        batch_train_other_1,\n",
    "        on=\"num_group1\",\n",
    "        how=\"inner\"\n",
    "    ).collect()\n",
    "\n",
    "    final_result = pl.concat([final_result, batch_result])"
   ]
  },
  {
   "cell_type": "code",
   "execution_count": null,
   "metadata": {},
   "outputs": [],
   "source": [
    "train_deposit_1 = pl.read_csv(\"Data/csv_files/train/train_deposit_1.csv\")\n",
    "train_person_1 = pl.read_csv(\"Data/csv_files/train/train_person_1.csv\")\n",
    "train_debitcard_1 = pl.read_csv(\"Data/csv_files/train/train_debitcard_1.csv\")"
   ]
  }
 ],
 "metadata": {
  "kernelspec": {
   "display_name": "Python 3",
   "language": "python",
   "name": "python3"
  },
  "language_info": {
   "codemirror_mode": {
    "name": "ipython",
    "version": 3
   },
   "file_extension": ".py",
   "mimetype": "text/x-python",
   "name": "python",
   "nbconvert_exporter": "python",
   "pygments_lexer": "ipython3",
   "version": "3.11.8"
  }
 },
 "nbformat": 4,
 "nbformat_minor": 2
}
