{
 "cells": [
  {
   "cell_type": "code",
   "execution_count": 1,
   "metadata": {},
   "outputs": [],
   "source": [
    "import polars as pl\n",
    "import os\n",
    "\n",
    "train_applprev_1_0 = pl.read_csv(\"Data/csv_files/train/train_applprev_1_0.csv\")\n",
    "train_applprev_1_1 = pl.read_csv(\"Data/csv_files/train/train_applprev_1_1.csv\")"
   ]
  },
  {
   "cell_type": "code",
   "execution_count": 2,
   "metadata": {},
   "outputs": [],
   "source": [
    "train_applprev_1 = pl.concat([train_applprev_1_0, train_applprev_1_1])\n",
    "\n",
    "directory = r\"C:\\Users\\afise\\.git\\CreditRiskModel\\Merged_Data\"\n",
    "filename = \"train_applprev_1.csv\"\n",
    "file_path = os.path.join(directory, filename)"
   ]
  },
  {
   "cell_type": "code",
   "execution_count": 3,
   "metadata": {},
   "outputs": [
    {
     "name": "stdout",
     "output_type": "stream",
     "text": [
      "shape: (1, 1)\n",
      "┌─────────┐\n",
      "│ case_id │\n",
      "│ ---     │\n",
      "│ u32     │\n",
      "╞═════════╡\n",
      "│ 1221522 │\n",
      "└─────────┘\n"
     ]
    }
   ],
   "source": [
    "unique_case_id_count = train_applprev_1.select(pl.col(\"case_id\").unique().count())\n",
    "print(unique_case_id_count)"
   ]
  },
  {
   "cell_type": "code",
   "execution_count": 4,
   "metadata": {},
   "outputs": [
    {
     "data": {
      "text/plain": [
       "(6525979, 41)"
      ]
     },
     "execution_count": 4,
     "metadata": {},
     "output_type": "execute_result"
    }
   ],
   "source": [
    "train_applprev_1.shape"
   ]
  },
  {
   "cell_type": "code",
   "execution_count": 5,
   "metadata": {},
   "outputs": [],
   "source": [
    "df_joined = train_applprev_1.lazy()"
   ]
  },
  {
   "cell_type": "code",
   "execution_count": 6,
   "metadata": {},
   "outputs": [],
   "source": [
    "def try_parse_date(col, fmt1, fmt2):\n",
    "    date1 = col.str.strptime(pl.Date, fmt1, strict=False)\n",
    "    date2 = col.str.strptime(pl.Date, fmt2, strict=False)\n",
    "    return pl.when(date1.is_not_null()).then(date1).otherwise(date2)\n",
    "\n",
    "df_joined = (\n",
    "    df_joined\n",
    "    .with_columns([\n",
    "        try_parse_date(pl.col(\"approvaldate_319D\"), \"%m/%d/%Y\", \"%Y-%m-%d\").alias(\"approvaldate_319D\"),\n",
    "        try_parse_date(pl.col(\"dateactivated_425D\"), \"%m/%d/%Y\", \"%Y-%m-%d\").alias(\"dateactivated_425D\"),\n",
    "        try_parse_date(pl.col(\"creationdate_885D\"), \"%m/%d/%Y\", \"%Y-%m-%d\").alias(\"creationdate_885D\"),\n",
    "        try_parse_date(pl.col(\"dtlastpmt_581D\"), \"%m/%d/%Y\", \"%Y-%m-%d\").alias(\"dtlastpmt_581D\"),\n",
    "        try_parse_date(pl.col(\"employedfrom_700D\"), \"%m/%d/%Y\", \"%Y-%m-%d\").alias(\"employedfrom_700D\"),\n",
    "        try_parse_date(pl.col(\"dtlastpmtallstes_3545839D\"), \"%m/%d/%Y\", \"%Y-%m-%d\").alias(\"dtlastpmtallstes_3545839D\"),\n",
    "        try_parse_date(pl.col(\"firstnonzeroinstldate_307D\"), \"%m/%d/%Y\", \"%Y-%m-%d\").alias(\"firstnonzeroinstldate_307D\"),\n",
    "    ])\n",
    "    .group_by(\"case_id\")\n",
    "    .agg([\n",
    "        pl.col(\"actualdpd_943P\").mean().alias(\"actualdpd_943P_mean\"),\n",
    "        pl.col(\"annuity_853A\").sum().alias(\"annuity_853A_sum\"),\n",
    "        pl.col(\"childnum_21L\").sum().alias(\"childnum_21L_sum\"),\n",
    "        pl.col(\"credacc_actualbalance_314A\").mean().alias(\"credacc_actualbalance_314A_mean\"),\n",
    "        pl.col(\"credacc_credlmt_575A\").mean().alias(\"credacc_credlmt_575A_mean\"),\n",
    "        pl.col(\"credacc_maxhisbal_375A\").max().alias(\"credacc_maxhisbal_375A_max\"),\n",
    "        pl.col(\"credacc_minhisbal_90A\").min().alias(\"credacc_minhisbal_90A_min\"),\n",
    "        pl.col(\"credacc_transactions_402L\").sum().alias(\"credacc_transactions_402L_sum\"),\n",
    "        pl.col(\"credamount_590A\").mean().alias(\"credamount_590A_mean\"),\n",
    "        pl.col(\"currdebt_94A\").mean().alias(\"currdebt_94A_mean\"),\n",
    "        pl.col(\"downpmt_134A\").sum().alias(\"downpmt_134A_sum\"),\n",
    "        pl.col(\"mainoccupationinc_437A\").mean().alias(\"mainoccupationinc_437A_mean\"),\n",
    "        pl.col(\"outstandingdebt_522A\").sum().alias(\"outstandingdebt_522A_sum\"),\n",
    "        pl.col(\"pmtnum_8L\").max().alias(\"pmtnum_8L_max\"),\n",
    "        pl.col(\"tenor_203L\").min().alias(\"tenor_203L_min\"),\n",
    "        pl.col(\"isbidproduct_390L\").cast(pl.UInt32).sum().alias(\"isbidproduct_390L_sum\"),\n",
    "        pl.col(\"isdebitcard_527L\").cast(pl.UInt32).sum().alias(\"isdebitcard_527L_sum\"),\n",
    "        pl.col(\"credacc_status_367L\").n_unique().alias(\"credacc_status_367L_n_unique\"),\n",
    "        pl.col(\"credtype_587L\").n_unique().alias(\"credtype_587L_n_unique\"),\n",
    "        pl.col(\"education_1138M\").n_unique().alias(\"education_1138M_n_unique\"),\n",
    "        pl.col(\"familystate_726L\").n_unique().alias(\"familystate_726L_n_unique\"),\n",
    "        pl.col(\"postype_4733339M\").n_unique().alias(\"postype_4733339M_n_unique\"),\n",
    "        pl.col(\"profession_152M\").n_unique().alias(\"profession_152M_n_unique\"),\n",
    "        pl.col(\"rejectreason_755M\").n_unique().alias(\"rejectreason_755M_n_unique\"),\n",
    "        pl.col(\"rejectreasonclient_4145042M\").n_unique().alias(\"rejectreasonclient_4145042M_n_unique\"),\n",
    "        pl.col(\"status_219L\").n_unique().alias(\"status_219L_n_unique\"),\n",
    "        (pl.col(\"approvaldate_319D\").diff().abs().min()).alias(\"approval_to_activation_min_diff\"),\n",
    "        (pl.col(\"creationdate_885D\").diff().abs().min()).alias(\"creation_min_diff\"),\n",
    "        (pl.col(\"dtlastpmt_581D\").diff().abs().max()).alias(\"payment_max_diff\"),\n",
    "        pl.col(\"employedfrom_700D\").min().alias(\"earliest_employment_date\"),\n",
    "        pl.col(\"byoccupationinc_3656910L\").n_unique().alias(\"byoccupationinc_3656910L_n_unique\"),\n",
    "        pl.col(\"cancelreason_3545846M\").n_unique().alias(\"cancelreason_3545846M_n_unique\"),\n",
    "        pl.col(\"district_544M\").n_unique().alias(\"district_544M_n_unique\"),\n",
    "        pl.col(\"dtlastpmtallstes_3545839D\").min().alias(\"earliest_last_payment_date\"),\n",
    "        pl.col(\"firstnonzeroinstldate_307D\").min().alias(\"earliest_first_nonzero_installment_date\"),\n",
    "        pl.col(\"inittransactioncode_279L\").n_unique().alias(\"inittransactioncode_279L_n_unique\"),\n",
    "        pl.col(\"maxdpdtolerance_577P\").max().alias(\"maximum_dpd_tolerance\"),\n",
    "        pl.col(\"revolvingaccount_394A\").sum().alias(\"sum_revolving_accounts\"),\n",
    "    ])\n",
    "    .collect()\n",
    ")"
   ]
  },
  {
   "cell_type": "code",
   "execution_count": 7,
   "metadata": {},
   "outputs": [
    {
     "data": {
      "text/html": [
       "<div><style>\n",
       ".dataframe > thead > tr,\n",
       ".dataframe > tbody > tr {\n",
       "  text-align: right;\n",
       "  white-space: pre-wrap;\n",
       "}\n",
       "</style>\n",
       "<small>shape: (5, 39)</small><table border=\"1\" class=\"dataframe\"><thead><tr><th>case_id</th><th>actualdpd_943P_mean</th><th>annuity_853A_sum</th><th>childnum_21L_sum</th><th>credacc_actualbalance_314A_mean</th><th>credacc_credlmt_575A_mean</th><th>credacc_maxhisbal_375A_max</th><th>credacc_minhisbal_90A_min</th><th>credacc_transactions_402L_sum</th><th>credamount_590A_mean</th><th>currdebt_94A_mean</th><th>downpmt_134A_sum</th><th>mainoccupationinc_437A_mean</th><th>outstandingdebt_522A_sum</th><th>pmtnum_8L_max</th><th>tenor_203L_min</th><th>isbidproduct_390L_sum</th><th>isdebitcard_527L_sum</th><th>credacc_status_367L_n_unique</th><th>credtype_587L_n_unique</th><th>education_1138M_n_unique</th><th>familystate_726L_n_unique</th><th>postype_4733339M_n_unique</th><th>profession_152M_n_unique</th><th>rejectreason_755M_n_unique</th><th>rejectreasonclient_4145042M_n_unique</th><th>status_219L_n_unique</th><th>approval_to_activation_min_diff</th><th>creation_min_diff</th><th>payment_max_diff</th><th>earliest_employment_date</th><th>byoccupationinc_3656910L_n_unique</th><th>cancelreason_3545846M_n_unique</th><th>district_544M_n_unique</th><th>earliest_last_payment_date</th><th>earliest_first_nonzero_installment_date</th><th>inittransactioncode_279L_n_unique</th><th>maximum_dpd_tolerance</th><th>sum_revolving_accounts</th></tr><tr><td>i64</td><td>f64</td><td>f64</td><td>f64</td><td>f64</td><td>f64</td><td>f64</td><td>f64</td><td>f64</td><td>f64</td><td>f64</td><td>f64</td><td>f64</td><td>f64</td><td>f64</td><td>f64</td><td>u32</td><td>u32</td><td>u32</td><td>u32</td><td>u32</td><td>u32</td><td>u32</td><td>u32</td><td>u32</td><td>u32</td><td>u32</td><td>duration[ms]</td><td>duration[ms]</td><td>duration[ms]</td><td>date</td><td>u32</td><td>u32</td><td>u32</td><td>date</td><td>date</td><td>u32</td><td>f64</td><td>f64</td></tr></thead><tbody><tr><td>182207</td><td>0.0</td><td>29913.6002</td><td>0.0</td><td>null</td><td>0.0</td><td>null</td><td>null</td><td>0.0</td><td>26387.65</td><td>0.0</td><td>0.0</td><td>45250.0</td><td>0.0</td><td>16.0</td><td>3.0</td><td>0</td><td>0</td><td>1</td><td>2</td><td>2</td><td>2</td><td>1</td><td>1</td><td>2</td><td>2</td><td>3</td><td>15d</td><td>1d</td><td>114d</td><td>2018-01-15</td><td>1</td><td>3</td><td>2</td><td>2019-05-25</td><td>2018-05-01</td><td>2</td><td>0.0</td><td>0.0</td></tr><tr><td>877588</td><td>0.0</td><td>3330.4001</td><td>0.0</td><td>null</td><td>55208.8</td><td>null</td><td>null</td><td>0.0</td><td>68527.533333</td><td>null</td><td>0.0</td><td>86666.666667</td><td>0.0</td><td>16.0</td><td>16.0</td><td>0</td><td>0</td><td>1</td><td>2</td><td>2</td><td>2</td><td>1</td><td>1</td><td>3</td><td>2</td><td>2</td><td>null</td><td>0ms</td><td>null</td><td>2005-01-15</td><td>1</td><td>2</td><td>1</td><td>null</td><td>2019-02-01</td><td>1</td><td>null</td><td>0.0</td></tr><tr><td>1547933</td><td>0.0</td><td>2222.0</td><td>0.0</td><td>null</td><td>0.0</td><td>null</td><td>null</td><td>0.0</td><td>10896.4</td><td>0.0</td><td>695.60004</td><td>39000.0</td><td>0.0</td><td>6.0</td><td>6.0</td><td>0</td><td>0</td><td>1</td><td>1</td><td>1</td><td>1</td><td>1</td><td>1</td><td>1</td><td>1</td><td>1</td><td>null</td><td>null</td><td>null</td><td>2014-02-15</td><td>1</td><td>1</td><td>1</td><td>2019-10-03</td><td>2019-05-15</td><td>1</td><td>0.0</td><td>0.0</td></tr><tr><td>161640</td><td>0.0</td><td>5347.0</td><td>5.0</td><td>null</td><td>0.0</td><td>null</td><td>null</td><td>0.0</td><td>8193.333333</td><td>0.0</td><td>0.0</td><td>30333.333333</td><td>0.0</td><td>6.0</td><td>4.0</td><td>0</td><td>0</td><td>1</td><td>2</td><td>2</td><td>2</td><td>1</td><td>1</td><td>2</td><td>2</td><td>2</td><td>null</td><td>137d</td><td>null</td><td>2007-01-15</td><td>1</td><td>2</td><td>1</td><td>2017-12-06</td><td>2017-09-08</td><td>2</td><td>1.0</td><td>0.0</td></tr><tr><td>176318</td><td>0.0</td><td>21445.6003</td><td>0.0</td><td>null</td><td>0.0</td><td>null</td><td>null</td><td>0.0</td><td>96475.0</td><td>57664.906</td><td>500.0</td><td>44050.0</td><td>80393.2</td><td>36.0</td><td>24.0</td><td>0</td><td>0</td><td>1</td><td>2</td><td>2</td><td>4</td><td>1</td><td>1</td><td>1</td><td>1</td><td>3</td><td>null</td><td>152d</td><td>null</td><td>2006-04-15</td><td>2</td><td>2</td><td>2</td><td>2019-11-06</td><td>2008-09-07</td><td>2</td><td>0.0</td><td>0.0</td></tr></tbody></table></div>"
      ],
      "text/plain": [
       "shape: (5, 39)\n",
       "┌─────────┬────────────┬───────────┬───────────┬───┬───────────┬───────────┬───────────┬───────────┐\n",
       "│ case_id ┆ actualdpd_ ┆ annuity_8 ┆ childnum_ ┆ … ┆ earliest_ ┆ inittrans ┆ maximum_d ┆ sum_revol │\n",
       "│ ---     ┆ 943P_mean  ┆ 53A_sum   ┆ 21L_sum   ┆   ┆ first_non ┆ actioncod ┆ pd_tolera ┆ ving_acco │\n",
       "│ i64     ┆ ---        ┆ ---       ┆ ---       ┆   ┆ zero_inst ┆ e_279L_n_ ┆ nce       ┆ unts      │\n",
       "│         ┆ f64        ┆ f64       ┆ f64       ┆   ┆ allme…    ┆ uniqu…    ┆ ---       ┆ ---       │\n",
       "│         ┆            ┆           ┆           ┆   ┆ ---       ┆ ---       ┆ f64       ┆ f64       │\n",
       "│         ┆            ┆           ┆           ┆   ┆ date      ┆ u32       ┆           ┆           │\n",
       "╞═════════╪════════════╪═══════════╪═══════════╪═══╪═══════════╪═══════════╪═══════════╪═══════════╡\n",
       "│ 182207  ┆ 0.0        ┆ 29913.600 ┆ 0.0       ┆ … ┆ 2018-05-0 ┆ 2         ┆ 0.0       ┆ 0.0       │\n",
       "│         ┆            ┆ 2         ┆           ┆   ┆ 1         ┆           ┆           ┆           │\n",
       "│ 877588  ┆ 0.0        ┆ 3330.4001 ┆ 0.0       ┆ … ┆ 2019-02-0 ┆ 1         ┆ null      ┆ 0.0       │\n",
       "│         ┆            ┆           ┆           ┆   ┆ 1         ┆           ┆           ┆           │\n",
       "│ 1547933 ┆ 0.0        ┆ 2222.0    ┆ 0.0       ┆ … ┆ 2019-05-1 ┆ 1         ┆ 0.0       ┆ 0.0       │\n",
       "│         ┆            ┆           ┆           ┆   ┆ 5         ┆           ┆           ┆           │\n",
       "│ 161640  ┆ 0.0        ┆ 5347.0    ┆ 5.0       ┆ … ┆ 2017-09-0 ┆ 2         ┆ 1.0       ┆ 0.0       │\n",
       "│         ┆            ┆           ┆           ┆   ┆ 8         ┆           ┆           ┆           │\n",
       "│ 176318  ┆ 0.0        ┆ 21445.600 ┆ 0.0       ┆ … ┆ 2008-09-0 ┆ 2         ┆ 0.0       ┆ 0.0       │\n",
       "│         ┆            ┆ 3         ┆           ┆   ┆ 7         ┆           ┆           ┆           │\n",
       "└─────────┴────────────┴───────────┴───────────┴───┴───────────┴───────────┴───────────┴───────────┘"
      ]
     },
     "execution_count": 7,
     "metadata": {},
     "output_type": "execute_result"
    }
   ],
   "source": [
    "df_joined.head()"
   ]
  },
  {
   "cell_type": "code",
   "execution_count": 8,
   "metadata": {},
   "outputs": [
    {
     "data": {
      "text/plain": [
       "(1221522, 39)"
      ]
     },
     "execution_count": 8,
     "metadata": {},
     "output_type": "execute_result"
    }
   ],
   "source": [
    "df_joined.shape"
   ]
  },
  {
   "cell_type": "code",
   "execution_count": 9,
   "metadata": {},
   "outputs": [
    {
     "data": {
      "text/html": [
       "<div><style>\n",
       ".dataframe > thead > tr,\n",
       ".dataframe > tbody > tr {\n",
       "  text-align: right;\n",
       "  white-space: pre-wrap;\n",
       "}\n",
       "</style>\n",
       "<small>shape: (9, 40)</small><table border=\"1\" class=\"dataframe\"><thead><tr><th>statistic</th><th>case_id</th><th>actualdpd_943P_mean</th><th>annuity_853A_sum</th><th>childnum_21L_sum</th><th>credacc_actualbalance_314A_mean</th><th>credacc_credlmt_575A_mean</th><th>credacc_maxhisbal_375A_max</th><th>credacc_minhisbal_90A_min</th><th>credacc_transactions_402L_sum</th><th>credamount_590A_mean</th><th>currdebt_94A_mean</th><th>downpmt_134A_sum</th><th>mainoccupationinc_437A_mean</th><th>outstandingdebt_522A_sum</th><th>pmtnum_8L_max</th><th>tenor_203L_min</th><th>isbidproduct_390L_sum</th><th>isdebitcard_527L_sum</th><th>credacc_status_367L_n_unique</th><th>credtype_587L_n_unique</th><th>education_1138M_n_unique</th><th>familystate_726L_n_unique</th><th>postype_4733339M_n_unique</th><th>profession_152M_n_unique</th><th>rejectreason_755M_n_unique</th><th>rejectreasonclient_4145042M_n_unique</th><th>status_219L_n_unique</th><th>approval_to_activation_min_diff</th><th>creation_min_diff</th><th>payment_max_diff</th><th>earliest_employment_date</th><th>byoccupationinc_3656910L_n_unique</th><th>cancelreason_3545846M_n_unique</th><th>district_544M_n_unique</th><th>earliest_last_payment_date</th><th>earliest_first_nonzero_installment_date</th><th>inittransactioncode_279L_n_unique</th><th>maximum_dpd_tolerance</th><th>sum_revolving_accounts</th></tr><tr><td>str</td><td>f64</td><td>f64</td><td>f64</td><td>f64</td><td>f64</td><td>f64</td><td>f64</td><td>f64</td><td>f64</td><td>f64</td><td>f64</td><td>f64</td><td>f64</td><td>f64</td><td>f64</td><td>f64</td><td>f64</td><td>f64</td><td>f64</td><td>f64</td><td>f64</td><td>f64</td><td>f64</td><td>f64</td><td>f64</td><td>f64</td><td>f64</td><td>str</td><td>str</td><td>str</td><td>str</td><td>f64</td><td>f64</td><td>f64</td><td>str</td><td>str</td><td>f64</td><td>f64</td><td>f64</td></tr></thead><tbody><tr><td>&quot;count&quot;</td><td>1.221522e6</td><td>1.221505e6</td><td>1.221522e6</td><td>1.221522e6</td><td>253573.0</td><td>1.219218e6</td><td>253573.0</td><td>253573.0</td><td>1.221522e6</td><td>1.219218e6</td><td>1.107653e6</td><td>1.221522e6</td><td>1.220298e6</td><td>1.221522e6</td><td>1.205213e6</td><td>1.205213e6</td><td>1.221522e6</td><td>1.221522e6</td><td>1.221522e6</td><td>1.221522e6</td><td>1.221522e6</td><td>1.221522e6</td><td>1.221522e6</td><td>1.221522e6</td><td>1.221522e6</td><td>1.221522e6</td><td>1.221522e6</td><td>&quot;692445&quot;</td><td>&quot;991940&quot;</td><td>&quot;378717&quot;</td><td>&quot;967490&quot;</td><td>1.221522e6</td><td>1.221522e6</td><td>1.221522e6</td><td>&quot;977672&quot;</td><td>&quot;1191786&quot;</td><td>1.221522e6</td><td>1.07569e6</td><td>1.221522e6</td></tr><tr><td>&quot;null_count&quot;</td><td>0.0</td><td>17.0</td><td>0.0</td><td>0.0</td><td>967949.0</td><td>2304.0</td><td>967949.0</td><td>967949.0</td><td>0.0</td><td>2304.0</td><td>113869.0</td><td>0.0</td><td>1224.0</td><td>0.0</td><td>16309.0</td><td>16309.0</td><td>0.0</td><td>0.0</td><td>0.0</td><td>0.0</td><td>0.0</td><td>0.0</td><td>0.0</td><td>0.0</td><td>0.0</td><td>0.0</td><td>0.0</td><td>&quot;529077&quot;</td><td>&quot;229582&quot;</td><td>&quot;842805&quot;</td><td>&quot;254032&quot;</td><td>0.0</td><td>0.0</td><td>0.0</td><td>&quot;243850&quot;</td><td>&quot;29736&quot;</td><td>0.0</td><td>145832.0</td><td>0.0</td></tr><tr><td>&quot;mean&quot;</td><td>1.4265e6</td><td>0.030591</td><td>17720.976509</td><td>2.046892</td><td>18546.031519</td><td>4041.530706</td><td>-2243.567787</td><td>-7196.173839</td><td>0.143494</td><td>38093.537901</td><td>6194.017659</td><td>2226.114053</td><td>41373.602041</td><td>24577.43702</td><td>23.048162</td><td>8.949868</td><td>0.29769</td><td>0.085311</td><td>1.208817</td><td>1.815662</td><td>1.823952</td><td>1.827529</td><td>1.449317</td><td>1.055198</td><td>1.741444</td><td>1.469942</td><td>2.143259</td><td>&quot;343 days, 10:1…</td><td>&quot;213 days, 8:05…</td><td>&quot;401 days, 22:5…</td><td>&quot;2008-12-02&quot;</td><td>1.767326</td><td>1.768969</td><td>1.387249</td><td>&quot;2018-04-07&quot;</td><td>&quot;2014-07-25&quot;</td><td>1.709584</td><td>42.158345</td><td>1.8233e8</td></tr><tr><td>&quot;std&quot;</td><td>727480.516437</td><td>7.963274</td><td>18651.611357</td><td>3.612884</td><td>25937.474619</td><td>11922.735759</td><td>30575.874422</td><td>18648.737517</td><td>1.826906</td><td>26292.487333</td><td>13294.102219</td><td>7716.459315</td><td>23704.035719</td><td>55767.475314</td><td>12.825517</td><td>6.454601</td><td>0.715703</td><td>0.332567</td><td>0.443788</td><td>0.818038</td><td>0.625126</td><td>0.728848</td><td>0.881747</td><td>0.248796</td><td>0.942567</td><td>0.639868</td><td>0.974922</td><td>null</td><td>null</td><td>null</td><td>null</td><td>1.159203</td><td>0.934977</td><td>0.609845</td><td>null</td><td>null</td><td>0.780494</td><td>251.051895</td><td>3.9165e8</td></tr><tr><td>&quot;min&quot;</td><td>2.0</td><td>0.0</td><td>0.0</td><td>0.0</td><td>-134008.42</td><td>0.0</td><td>-199950.0</td><td>-350532.6</td><td>0.0</td><td>0.0</td><td>0.0</td><td>0.0</td><td>0.0</td><td>0.0</td><td>3.0</td><td>3.0</td><td>0.0</td><td>0.0</td><td>1.0</td><td>1.0</td><td>1.0</td><td>1.0</td><td>1.0</td><td>1.0</td><td>1.0</td><td>1.0</td><td>1.0</td><td>&quot;0:00:00&quot;</td><td>&quot;0:00:00&quot;</td><td>&quot;0:00:00&quot;</td><td>&quot;1961-09-15&quot;</td><td>1.0</td><td>1.0</td><td>1.0</td><td>&quot;2008-07-04&quot;</td><td>&quot;2006-01-26&quot;</td><td>1.0</td><td>0.0</td><td>0.0</td></tr><tr><td>&quot;25%&quot;</td><td>948908.0</td><td>0.0</td><td>4924.0</td><td>0.0</td><td>2.0</td><td>0.0</td><td>0.0</td><td>-2116.2</td><td>0.0</td><td>20048.0</td><td>0.0</td><td>0.0</td><td>26086.568421</td><td>0.0</td><td>12.0</td><td>5.0</td><td>0.0</td><td>0.0</td><td>1.0</td><td>1.0</td><td>1.0</td><td>1.0</td><td>1.0</td><td>1.0</td><td>1.0</td><td>1.0</td><td>1.0</td><td>&quot;74 days, 0:00:…</td><td>&quot;0:00:00&quot;</td><td>&quot;200 days, 0:00…</td><td>&quot;2005-08-15&quot;</td><td>1.0</td><td>1.0</td><td>1.0</td><td>&quot;2017-03-13&quot;</td><td>&quot;2012-01-29&quot;</td><td>1.0</td><td>0.0</td><td>0.0</td></tr><tr><td>&quot;50%&quot;</td><td>1.509927e6</td><td>0.0</td><td>11518.8001</td><td>0.0</td><td>9320.797</td><td>0.0</td><td>0.0</td><td>0.0</td><td>0.0</td><td>32177.75</td><td>0.0</td><td>0.0</td><td>37100.0</td><td>0.0</td><td>24.0</td><td>6.0</td><td>0.0</td><td>0.0</td><td>1.0</td><td>2.0</td><td>2.0</td><td>2.0</td><td>1.0</td><td>1.0</td><td>1.0</td><td>1.0</td><td>2.0</td><td>&quot;168 days, 0:00…</td><td>&quot;19 days, 0:00:…</td><td>&quot;364 days, 0:00…</td><td>&quot;2010-09-15&quot;</td><td>1.0</td><td>2.0</td><td>1.0</td><td>&quot;2018-05-30&quot;</td><td>&quot;2015-02-15&quot;</td><td>2.0</td><td>0.0</td><td>0.0</td></tr><tr><td>&quot;75%&quot;</td><td>1.815307e6</td><td>0.0</td><td>24088.4001</td><td>3.0</td><td>28138.201</td><td>0.0</td><td>4.0</td><td>0.0</td><td>0.0</td><td>49144.633333</td><td>7033.728</td><td>1000.0</td><td>50666.666667</td><td>22636.0</td><td>30.0</td><td>12.0</td><td>0.0</td><td>0.0</td><td>1.0</td><td>2.0</td><td>2.0</td><td>2.0</td><td>2.0</td><td>1.0</td><td>2.0</td><td>2.0</td><td>3.0</td><td>&quot;342 days, 0:00…</td><td>&quot;182 days, 0:00…</td><td>&quot;554 days, 0:00…</td><td>&quot;2014-05-15&quot;</td><td>2.0</td><td>2.0</td><td>2.0</td><td>&quot;2019-05-02&quot;</td><td>&quot;2018-01-03&quot;</td><td>2.0</td><td>5.0</td><td>0.0</td></tr><tr><td>&quot;max&quot;</td><td>2.703454e6</td><td>4206.0</td><td>484046.01</td><td>98.0</td><td>2.54073e6</td><td>400000.0</td><td>7988198.5</td><td>199567.0</td><td>310.0</td><td>400000.0</td><td>339996.38</td><td>1.435102e6</td><td>199600.0</td><td>1.2759e6</td><td>63.0</td><td>60.0</td><td>14.0</td><td>15.0</td><td>5.0</td><td>4.0</td><td>5.0</td><td>6.0</td><td>7.0</td><td>8.0</td><td>8.0</td><td>7.0</td><td>6.0</td><td>&quot;5197 days, 0:0…</td><td>&quot;5356 days, 0:0…</td><td>&quot;3762 days, 0:0…</td><td>&quot;2020-07-15&quot;</td><td>14.0</td><td>10.0</td><td>8.0</td><td>&quot;2020-10-19&quot;</td><td>&quot;2020-11-19&quot;</td><td>4.0</td><td>4362.0</td><td>9.9651e9</td></tr></tbody></table></div>"
      ],
      "text/plain": [
       "shape: (9, 40)\n",
       "┌───────────┬───────────┬───────────┬───────────┬───┬───────────┬───────────┬───────────┬──────────┐\n",
       "│ statistic ┆ case_id   ┆ actualdpd ┆ annuity_8 ┆ … ┆ earliest_ ┆ inittrans ┆ maximum_d ┆ sum_revo │\n",
       "│ ---       ┆ ---       ┆ _943P_mea ┆ 53A_sum   ┆   ┆ first_non ┆ actioncod ┆ pd_tolera ┆ lving_ac │\n",
       "│ str       ┆ f64       ┆ n         ┆ ---       ┆   ┆ zero_inst ┆ e_279L_n_ ┆ nce       ┆ counts   │\n",
       "│           ┆           ┆ ---       ┆ f64       ┆   ┆ allme…    ┆ uniqu…    ┆ ---       ┆ ---      │\n",
       "│           ┆           ┆ f64       ┆           ┆   ┆ ---       ┆ ---       ┆ f64       ┆ f64      │\n",
       "│           ┆           ┆           ┆           ┆   ┆ str       ┆ f64       ┆           ┆          │\n",
       "╞═══════════╪═══════════╪═══════════╪═══════════╪═══╪═══════════╪═══════════╪═══════════╪══════════╡\n",
       "│ count     ┆ 1.221522e ┆ 1.221505e ┆ 1.221522e ┆ … ┆ 1191786   ┆ 1.221522e ┆ 1.07569e6 ┆ 1.221522 │\n",
       "│           ┆ 6         ┆ 6         ┆ 6         ┆   ┆           ┆ 6         ┆           ┆ e6       │\n",
       "│ null_coun ┆ 0.0       ┆ 17.0      ┆ 0.0       ┆ … ┆ 29736     ┆ 0.0       ┆ 145832.0  ┆ 0.0      │\n",
       "│ t         ┆           ┆           ┆           ┆   ┆           ┆           ┆           ┆          │\n",
       "│ mean      ┆ 1.4265e6  ┆ 0.030591  ┆ 17720.976 ┆ … ┆ 2014-07-2 ┆ 1.709584  ┆ 42.158345 ┆ 1.8233e8 │\n",
       "│           ┆           ┆           ┆ 509       ┆   ┆ 5         ┆           ┆           ┆          │\n",
       "│ std       ┆ 727480.51 ┆ 7.963274  ┆ 18651.611 ┆ … ┆ null      ┆ 0.780494  ┆ 251.05189 ┆ 3.9165e8 │\n",
       "│           ┆ 6437      ┆           ┆ 357       ┆   ┆           ┆           ┆ 5         ┆          │\n",
       "│ min       ┆ 2.0       ┆ 0.0       ┆ 0.0       ┆ … ┆ 2006-01-2 ┆ 1.0       ┆ 0.0       ┆ 0.0      │\n",
       "│           ┆           ┆           ┆           ┆   ┆ 6         ┆           ┆           ┆          │\n",
       "│ 25%       ┆ 948908.0  ┆ 0.0       ┆ 4924.0    ┆ … ┆ 2012-01-2 ┆ 1.0       ┆ 0.0       ┆ 0.0      │\n",
       "│           ┆           ┆           ┆           ┆   ┆ 9         ┆           ┆           ┆          │\n",
       "│ 50%       ┆ 1.509927e ┆ 0.0       ┆ 11518.800 ┆ … ┆ 2015-02-1 ┆ 2.0       ┆ 0.0       ┆ 0.0      │\n",
       "│           ┆ 6         ┆           ┆ 1         ┆   ┆ 5         ┆           ┆           ┆          │\n",
       "│ 75%       ┆ 1.815307e ┆ 0.0       ┆ 24088.400 ┆ … ┆ 2018-01-0 ┆ 2.0       ┆ 5.0       ┆ 0.0      │\n",
       "│           ┆ 6         ┆           ┆ 1         ┆   ┆ 3         ┆           ┆           ┆          │\n",
       "│ max       ┆ 2.703454e ┆ 4206.0    ┆ 484046.01 ┆ … ┆ 2020-11-1 ┆ 4.0       ┆ 4362.0    ┆ 9.9651e9 │\n",
       "│           ┆ 6         ┆           ┆           ┆   ┆ 9         ┆           ┆           ┆          │\n",
       "└───────────┴───────────┴───────────┴───────────┴───┴───────────┴───────────┴───────────┴──────────┘"
      ]
     },
     "execution_count": 9,
     "metadata": {},
     "output_type": "execute_result"
    }
   ],
   "source": [
    "df_joined.describe()"
   ]
  },
  {
   "cell_type": "code",
   "execution_count": 10,
   "metadata": {},
   "outputs": [],
   "source": [
    "train_other_1 = pl.read_csv(\"Data/csv_files/train/train_other_1.csv\")"
   ]
  },
  {
   "cell_type": "code",
   "execution_count": 11,
   "metadata": {},
   "outputs": [
    {
     "name": "stdout",
     "output_type": "stream",
     "text": [
      "shape: (1, 1)\n",
      "┌─────────┐\n",
      "│ case_id │\n",
      "│ ---     │\n",
      "│ u32     │\n",
      "╞═════════╡\n",
      "│ 51109   │\n",
      "└─────────┘\n"
     ]
    }
   ],
   "source": [
    "unique_case_id_count = train_other_1.select(pl.col(\"case_id\").unique().count())\n",
    "print(unique_case_id_count)"
   ]
  },
  {
   "cell_type": "code",
   "execution_count": 12,
   "metadata": {},
   "outputs": [
    {
     "data": {
      "text/plain": [
       "(51109, 7)"
      ]
     },
     "execution_count": 12,
     "metadata": {},
     "output_type": "execute_result"
    }
   ],
   "source": [
    "train_other_1.shape"
   ]
  },
  {
   "cell_type": "code",
   "execution_count": 13,
   "metadata": {},
   "outputs": [],
   "source": [
    "df_lazy_2 = pl.scan_csv(\"Data/csv_files/train/train_other_1.csv\")"
   ]
  },
  {
   "cell_type": "code",
   "execution_count": 14,
   "metadata": {},
   "outputs": [],
   "source": [
    "df_lazy_2 = (\n",
    "    df_lazy_2.group_by(\"case_id\")\n",
    "    .agg([\n",
    "        pl.col(\"amtdebitincoming_4809443A\").sum().alias(\"sum_amtdebitincoming\"),\n",
    "        pl.col(\"amtdebitoutgoing_4809440A\").sum().alias(\"sum_amtdebitoutgoing\"),\n",
    "        pl.col(\"amtdepositbalance_4809441A\").mean().alias(\"avg_amtdepositbalance\"),\n",
    "        pl.col(\"amtdepositincoming_4809444A\").sum().alias(\"sum_amtdepositincoming\"),\n",
    "        pl.col(\"amtdepositoutgoing_4809442A\").sum().alias(\"sum_amtdepositoutgoing\"),\n",
    "    ])\n",
    ")\n",
    "\n",
    "df_lazy_2 = df_lazy_2.collect()"
   ]
  },
  {
   "cell_type": "code",
   "execution_count": 15,
   "metadata": {},
   "outputs": [
    {
     "data": {
      "text/html": [
       "<div><style>\n",
       ".dataframe > thead > tr,\n",
       ".dataframe > tbody > tr {\n",
       "  text-align: right;\n",
       "  white-space: pre-wrap;\n",
       "}\n",
       "</style>\n",
       "<small>shape: (5, 6)</small><table border=\"1\" class=\"dataframe\"><thead><tr><th>case_id</th><th>sum_amtdebitincoming</th><th>sum_amtdebitoutgoing</th><th>avg_amtdepositbalance</th><th>sum_amtdepositincoming</th><th>sum_amtdepositoutgoing</th></tr><tr><td>i64</td><td>f64</td><td>f64</td><td>f64</td><td>f64</td><td>f64</td></tr></thead><tbody><tr><td>196489</td><td>2684.8</td><td>2650.0</td><td>0.0</td><td>0.0</td><td>0.0</td></tr><tr><td>215237</td><td>38666.6</td><td>38666.6</td><td>0.0</td><td>0.0</td><td>0.0</td></tr><tr><td>1814561</td><td>30000.0</td><td>30000.0</td><td>0.0</td><td>0.0</td><td>0.0</td></tr><tr><td>1844837</td><td>9634.601</td><td>9634.601</td><td>0.0</td><td>0.0</td><td>0.0</td></tr><tr><td>210390</td><td>10000.0</td><td>10000.0</td><td>0.0</td><td>0.0</td><td>0.0</td></tr></tbody></table></div>"
      ],
      "text/plain": [
       "shape: (5, 6)\n",
       "┌─────────┬─────────────────┬─────────────────┬─────────────────┬─────────────────┬────────────────┐\n",
       "│ case_id ┆ sum_amtdebitinc ┆ sum_amtdebitout ┆ avg_amtdepositb ┆ sum_amtdepositi ┆ sum_amtdeposit │\n",
       "│ ---     ┆ oming           ┆ going           ┆ alance          ┆ ncoming         ┆ outgoing       │\n",
       "│ i64     ┆ ---             ┆ ---             ┆ ---             ┆ ---             ┆ ---            │\n",
       "│         ┆ f64             ┆ f64             ┆ f64             ┆ f64             ┆ f64            │\n",
       "╞═════════╪═════════════════╪═════════════════╪═════════════════╪═════════════════╪════════════════╡\n",
       "│ 196489  ┆ 2684.8          ┆ 2650.0          ┆ 0.0             ┆ 0.0             ┆ 0.0            │\n",
       "│ 215237  ┆ 38666.6         ┆ 38666.6         ┆ 0.0             ┆ 0.0             ┆ 0.0            │\n",
       "│ 1814561 ┆ 30000.0         ┆ 30000.0         ┆ 0.0             ┆ 0.0             ┆ 0.0            │\n",
       "│ 1844837 ┆ 9634.601        ┆ 9634.601        ┆ 0.0             ┆ 0.0             ┆ 0.0            │\n",
       "│ 210390  ┆ 10000.0         ┆ 10000.0         ┆ 0.0             ┆ 0.0             ┆ 0.0            │\n",
       "└─────────┴─────────────────┴─────────────────┴─────────────────┴─────────────────┴────────────────┘"
      ]
     },
     "execution_count": 15,
     "metadata": {},
     "output_type": "execute_result"
    }
   ],
   "source": [
    "df_lazy_2.head()"
   ]
  },
  {
   "cell_type": "code",
   "execution_count": 16,
   "metadata": {},
   "outputs": [],
   "source": [
    "df_joined = df_joined.lazy()\n",
    "df_lazy_2 = df_lazy_2.lazy()\n",
    "\n",
    "df_joined = df_joined.join(\n",
    "    df_lazy_2,\n",
    "    on=\"case_id\",\n",
    "    how=\"left\"\n",
    ")\n",
    "\n",
    "df_joined = df_joined.collect()"
   ]
  },
  {
   "cell_type": "code",
   "execution_count": 17,
   "metadata": {},
   "outputs": [
    {
     "data": {
      "text/plain": [
       "(1221522, 44)"
      ]
     },
     "execution_count": 17,
     "metadata": {},
     "output_type": "execute_result"
    }
   ],
   "source": [
    "df_joined.shape"
   ]
  },
  {
   "cell_type": "code",
   "execution_count": 18,
   "metadata": {},
   "outputs": [],
   "source": [
    "train_deposit_1 = pl.read_csv(\"Data/csv_files/train/train_deposit_1.csv\")"
   ]
  },
  {
   "cell_type": "code",
   "execution_count": 19,
   "metadata": {},
   "outputs": [
    {
     "data": {
      "text/plain": [
       "(145086, 5)"
      ]
     },
     "execution_count": 19,
     "metadata": {},
     "output_type": "execute_result"
    }
   ],
   "source": [
    "train_deposit_1.shape"
   ]
  },
  {
   "cell_type": "code",
   "execution_count": 20,
   "metadata": {},
   "outputs": [
    {
     "name": "stdout",
     "output_type": "stream",
     "text": [
      "shape: (1, 1)\n",
      "┌─────────┐\n",
      "│ case_id │\n",
      "│ ---     │\n",
      "│ u32     │\n",
      "╞═════════╡\n",
      "│ 105111  │\n",
      "└─────────┘\n"
     ]
    }
   ],
   "source": [
    "unique_case_id_count = train_deposit_1.select(pl.col(\"case_id\").unique().count())\n",
    "print(unique_case_id_count)"
   ]
  },
  {
   "cell_type": "code",
   "execution_count": 21,
   "metadata": {},
   "outputs": [],
   "source": [
    "df_lazy_3 = pl.scan_csv(\"Data/csv_files/train/train_deposit_1.csv\")"
   ]
  },
  {
   "cell_type": "code",
   "execution_count": 22,
   "metadata": {},
   "outputs": [],
   "source": [
    "transformations = (\n",
    "    df_lazy_3\n",
    "    .group_by(\"case_id\")\n",
    "    .agg([\n",
    "        pl.col(\"amount_416A\").mean().alias(\"average_amount\"),\n",
    "        pl.count(\"openingdate_313D\").alias(\"open_contracts_count\"),\n",
    "        pl.count(\"contractenddate_991D\").alias(\"closed_contracts_count\"),\n",
    "    ])\n",
    ")\n",
    "\n",
    "df_lazy_3 = transformations.collect()"
   ]
  },
  {
   "cell_type": "code",
   "execution_count": 23,
   "metadata": {},
   "outputs": [
    {
     "data": {
      "text/html": [
       "<div><style>\n",
       ".dataframe > thead > tr,\n",
       ".dataframe > tbody > tr {\n",
       "  text-align: right;\n",
       "  white-space: pre-wrap;\n",
       "}\n",
       "</style>\n",
       "<small>shape: (5, 4)</small><table border=\"1\" class=\"dataframe\"><thead><tr><th>case_id</th><th>average_amount</th><th>open_contracts_count</th><th>closed_contracts_count</th></tr><tr><td>i64</td><td>f64</td><td>u32</td><td>u32</td></tr></thead><tbody><tr><td>122959</td><td>1189.837005</td><td>2</td><td>1</td></tr><tr><td>1715971</td><td>0.0</td><td>2</td><td>1</td></tr><tr><td>197296</td><td>1338.572</td><td>1</td><td>0</td></tr><tr><td>1263093</td><td>0.0</td><td>1</td><td>0</td></tr><tr><td>1392349</td><td>10231.9715</td><td>2</td><td>1</td></tr></tbody></table></div>"
      ],
      "text/plain": [
       "shape: (5, 4)\n",
       "┌─────────┬────────────────┬──────────────────────┬────────────────────────┐\n",
       "│ case_id ┆ average_amount ┆ open_contracts_count ┆ closed_contracts_count │\n",
       "│ ---     ┆ ---            ┆ ---                  ┆ ---                    │\n",
       "│ i64     ┆ f64            ┆ u32                  ┆ u32                    │\n",
       "╞═════════╪════════════════╪══════════════════════╪════════════════════════╡\n",
       "│ 122959  ┆ 1189.837005    ┆ 2                    ┆ 1                      │\n",
       "│ 1715971 ┆ 0.0            ┆ 2                    ┆ 1                      │\n",
       "│ 197296  ┆ 1338.572       ┆ 1                    ┆ 0                      │\n",
       "│ 1263093 ┆ 0.0            ┆ 1                    ┆ 0                      │\n",
       "│ 1392349 ┆ 10231.9715     ┆ 2                    ┆ 1                      │\n",
       "└─────────┴────────────────┴──────────────────────┴────────────────────────┘"
      ]
     },
     "execution_count": 23,
     "metadata": {},
     "output_type": "execute_result"
    }
   ],
   "source": [
    "df_lazy_3.head()"
   ]
  },
  {
   "cell_type": "code",
   "execution_count": 24,
   "metadata": {},
   "outputs": [],
   "source": [
    "df_joined = df_joined.lazy()\n",
    "df_lazy_3 = df_lazy_3.lazy()\n",
    "\n",
    "df_joined = df_joined.join(\n",
    "    df_lazy_3,\n",
    "    on=\"case_id\",\n",
    "    how=\"left\"\n",
    ")\n",
    "\n",
    "df_joined = df_joined.collect()"
   ]
  },
  {
   "cell_type": "code",
   "execution_count": 25,
   "metadata": {},
   "outputs": [
    {
     "data": {
      "text/html": [
       "<div><style>\n",
       ".dataframe > thead > tr,\n",
       ".dataframe > tbody > tr {\n",
       "  text-align: right;\n",
       "  white-space: pre-wrap;\n",
       "}\n",
       "</style>\n",
       "<small>shape: (5, 47)</small><table border=\"1\" class=\"dataframe\"><thead><tr><th>case_id</th><th>actualdpd_943P_mean</th><th>annuity_853A_sum</th><th>childnum_21L_sum</th><th>credacc_actualbalance_314A_mean</th><th>credacc_credlmt_575A_mean</th><th>credacc_maxhisbal_375A_max</th><th>credacc_minhisbal_90A_min</th><th>credacc_transactions_402L_sum</th><th>credamount_590A_mean</th><th>currdebt_94A_mean</th><th>downpmt_134A_sum</th><th>mainoccupationinc_437A_mean</th><th>outstandingdebt_522A_sum</th><th>pmtnum_8L_max</th><th>tenor_203L_min</th><th>isbidproduct_390L_sum</th><th>isdebitcard_527L_sum</th><th>credacc_status_367L_n_unique</th><th>credtype_587L_n_unique</th><th>education_1138M_n_unique</th><th>familystate_726L_n_unique</th><th>postype_4733339M_n_unique</th><th>profession_152M_n_unique</th><th>rejectreason_755M_n_unique</th><th>rejectreasonclient_4145042M_n_unique</th><th>status_219L_n_unique</th><th>approval_to_activation_min_diff</th><th>creation_min_diff</th><th>payment_max_diff</th><th>earliest_employment_date</th><th>byoccupationinc_3656910L_n_unique</th><th>cancelreason_3545846M_n_unique</th><th>district_544M_n_unique</th><th>earliest_last_payment_date</th><th>earliest_first_nonzero_installment_date</th><th>inittransactioncode_279L_n_unique</th><th>maximum_dpd_tolerance</th><th>sum_revolving_accounts</th><th>sum_amtdebitincoming</th><th>sum_amtdebitoutgoing</th><th>avg_amtdepositbalance</th><th>sum_amtdepositincoming</th><th>sum_amtdepositoutgoing</th><th>average_amount</th><th>open_contracts_count</th><th>closed_contracts_count</th></tr><tr><td>i64</td><td>f64</td><td>f64</td><td>f64</td><td>f64</td><td>f64</td><td>f64</td><td>f64</td><td>f64</td><td>f64</td><td>f64</td><td>f64</td><td>f64</td><td>f64</td><td>f64</td><td>f64</td><td>u32</td><td>u32</td><td>u32</td><td>u32</td><td>u32</td><td>u32</td><td>u32</td><td>u32</td><td>u32</td><td>u32</td><td>u32</td><td>duration[ms]</td><td>duration[ms]</td><td>duration[ms]</td><td>date</td><td>u32</td><td>u32</td><td>u32</td><td>date</td><td>date</td><td>u32</td><td>f64</td><td>f64</td><td>f64</td><td>f64</td><td>f64</td><td>f64</td><td>f64</td><td>f64</td><td>u32</td><td>u32</td></tr></thead><tbody><tr><td>182207</td><td>0.0</td><td>29913.6002</td><td>0.0</td><td>null</td><td>0.0</td><td>null</td><td>null</td><td>0.0</td><td>26387.65</td><td>0.0</td><td>0.0</td><td>45250.0</td><td>0.0</td><td>16.0</td><td>3.0</td><td>0</td><td>0</td><td>1</td><td>2</td><td>2</td><td>2</td><td>1</td><td>1</td><td>2</td><td>2</td><td>3</td><td>15d</td><td>1d</td><td>114d</td><td>2018-01-15</td><td>1</td><td>3</td><td>2</td><td>2019-05-25</td><td>2018-05-01</td><td>2</td><td>0.0</td><td>0.0</td><td>null</td><td>null</td><td>null</td><td>null</td><td>null</td><td>null</td><td>null</td><td>null</td></tr><tr><td>877588</td><td>0.0</td><td>3330.4001</td><td>0.0</td><td>null</td><td>55208.8</td><td>null</td><td>null</td><td>0.0</td><td>68527.533333</td><td>null</td><td>0.0</td><td>86666.666667</td><td>0.0</td><td>16.0</td><td>16.0</td><td>0</td><td>0</td><td>1</td><td>2</td><td>2</td><td>2</td><td>1</td><td>1</td><td>3</td><td>2</td><td>2</td><td>null</td><td>0ms</td><td>null</td><td>2005-01-15</td><td>1</td><td>2</td><td>1</td><td>null</td><td>2019-02-01</td><td>1</td><td>null</td><td>0.0</td><td>null</td><td>null</td><td>null</td><td>null</td><td>null</td><td>null</td><td>null</td><td>null</td></tr><tr><td>1547933</td><td>0.0</td><td>2222.0</td><td>0.0</td><td>null</td><td>0.0</td><td>null</td><td>null</td><td>0.0</td><td>10896.4</td><td>0.0</td><td>695.60004</td><td>39000.0</td><td>0.0</td><td>6.0</td><td>6.0</td><td>0</td><td>0</td><td>1</td><td>1</td><td>1</td><td>1</td><td>1</td><td>1</td><td>1</td><td>1</td><td>1</td><td>null</td><td>null</td><td>null</td><td>2014-02-15</td><td>1</td><td>1</td><td>1</td><td>2019-10-03</td><td>2019-05-15</td><td>1</td><td>0.0</td><td>0.0</td><td>null</td><td>null</td><td>null</td><td>null</td><td>null</td><td>null</td><td>null</td><td>null</td></tr><tr><td>161640</td><td>0.0</td><td>5347.0</td><td>5.0</td><td>null</td><td>0.0</td><td>null</td><td>null</td><td>0.0</td><td>8193.333333</td><td>0.0</td><td>0.0</td><td>30333.333333</td><td>0.0</td><td>6.0</td><td>4.0</td><td>0</td><td>0</td><td>1</td><td>2</td><td>2</td><td>2</td><td>1</td><td>1</td><td>2</td><td>2</td><td>2</td><td>null</td><td>137d</td><td>null</td><td>2007-01-15</td><td>1</td><td>2</td><td>1</td><td>2017-12-06</td><td>2017-09-08</td><td>2</td><td>1.0</td><td>0.0</td><td>null</td><td>null</td><td>null</td><td>null</td><td>null</td><td>null</td><td>null</td><td>null</td></tr><tr><td>176318</td><td>0.0</td><td>21445.6003</td><td>0.0</td><td>null</td><td>0.0</td><td>null</td><td>null</td><td>0.0</td><td>96475.0</td><td>57664.906</td><td>500.0</td><td>44050.0</td><td>80393.2</td><td>36.0</td><td>24.0</td><td>0</td><td>0</td><td>1</td><td>2</td><td>2</td><td>4</td><td>1</td><td>1</td><td>1</td><td>1</td><td>3</td><td>null</td><td>152d</td><td>null</td><td>2006-04-15</td><td>2</td><td>2</td><td>2</td><td>2019-11-06</td><td>2008-09-07</td><td>2</td><td>0.0</td><td>0.0</td><td>null</td><td>null</td><td>null</td><td>null</td><td>null</td><td>null</td><td>null</td><td>null</td></tr></tbody></table></div>"
      ],
      "text/plain": [
       "shape: (5, 47)\n",
       "┌─────────┬────────────┬───────────┬───────────┬───┬───────────┬───────────┬───────────┬───────────┐\n",
       "│ case_id ┆ actualdpd_ ┆ annuity_8 ┆ childnum_ ┆ … ┆ sum_amtde ┆ average_a ┆ open_cont ┆ closed_co │\n",
       "│ ---     ┆ 943P_mean  ┆ 53A_sum   ┆ 21L_sum   ┆   ┆ positoutg ┆ mount     ┆ racts_cou ┆ ntracts_c │\n",
       "│ i64     ┆ ---        ┆ ---       ┆ ---       ┆   ┆ oing      ┆ ---       ┆ nt        ┆ ount      │\n",
       "│         ┆ f64        ┆ f64       ┆ f64       ┆   ┆ ---       ┆ f64       ┆ ---       ┆ ---       │\n",
       "│         ┆            ┆           ┆           ┆   ┆ f64       ┆           ┆ u32       ┆ u32       │\n",
       "╞═════════╪════════════╪═══════════╪═══════════╪═══╪═══════════╪═══════════╪═══════════╪═══════════╡\n",
       "│ 182207  ┆ 0.0        ┆ 29913.600 ┆ 0.0       ┆ … ┆ null      ┆ null      ┆ null      ┆ null      │\n",
       "│         ┆            ┆ 2         ┆           ┆   ┆           ┆           ┆           ┆           │\n",
       "│ 877588  ┆ 0.0        ┆ 3330.4001 ┆ 0.0       ┆ … ┆ null      ┆ null      ┆ null      ┆ null      │\n",
       "│ 1547933 ┆ 0.0        ┆ 2222.0    ┆ 0.0       ┆ … ┆ null      ┆ null      ┆ null      ┆ null      │\n",
       "│ 161640  ┆ 0.0        ┆ 5347.0    ┆ 5.0       ┆ … ┆ null      ┆ null      ┆ null      ┆ null      │\n",
       "│ 176318  ┆ 0.0        ┆ 21445.600 ┆ 0.0       ┆ … ┆ null      ┆ null      ┆ null      ┆ null      │\n",
       "│         ┆            ┆ 3         ┆           ┆   ┆           ┆           ┆           ┆           │\n",
       "└─────────┴────────────┴───────────┴───────────┴───┴───────────┴───────────┴───────────┴───────────┘"
      ]
     },
     "execution_count": 25,
     "metadata": {},
     "output_type": "execute_result"
    }
   ],
   "source": [
    "df_joined.head()"
   ]
  },
  {
   "cell_type": "code",
   "execution_count": 26,
   "metadata": {},
   "outputs": [],
   "source": [
    "train_person_1 = pl.read_csv(\"Data/csv_files/train/train_person_1.csv\")"
   ]
  },
  {
   "cell_type": "code",
   "execution_count": 27,
   "metadata": {},
   "outputs": [
    {
     "data": {
      "text/plain": [
       "(2973991, 37)"
      ]
     },
     "execution_count": 27,
     "metadata": {},
     "output_type": "execute_result"
    }
   ],
   "source": [
    "train_person_1.shape"
   ]
  },
  {
   "cell_type": "code",
   "execution_count": 28,
   "metadata": {},
   "outputs": [
    {
     "name": "stdout",
     "output_type": "stream",
     "text": [
      "shape: (1, 1)\n",
      "┌─────────┐\n",
      "│ case_id │\n",
      "│ ---     │\n",
      "│ u32     │\n",
      "╞═════════╡\n",
      "│ 1526659 │\n",
      "└─────────┘\n"
     ]
    }
   ],
   "source": [
    "unique_case_id_count = train_person_1.select(pl.col(\"case_id\").unique().count())\n",
    "print(unique_case_id_count)"
   ]
  },
  {
   "cell_type": "code",
   "execution_count": 29,
   "metadata": {},
   "outputs": [],
   "source": [
    "df_lazy_4 = pl.read_csv(\"Data/csv_files/train/train_person_1.csv\")"
   ]
  },
  {
   "cell_type": "code",
   "execution_count": 30,
   "metadata": {},
   "outputs": [],
   "source": [
    "from datetime import date\n",
    "\n",
    "transformations_2 = [\n",
    "    pl.col(\"birth_259D\").n_unique().alias(\"unique_birth_dates\"),\n",
    "    pl.col(\"birthdate_87D\").n_unique().alias(\"unique_birth_dates_87D\"),\n",
    "    pl.col(\"childnum_185L\").max().alias(\"max_children\"),\n",
    "    pl.col(\"education_927M\").n_unique().alias(\"unique_educations\"),\n",
    "    pl.col(\"empl_employedtotal_800L\").mean().alias(\"avg_employment_length\"),\n",
    "    pl.col(\"mainoccupationinc_384A\").sum().alias(\"total_main_income\"),\n",
    "    pl.col(\"gender_992L\").n_unique().alias(\"unique_genders\"),\n",
    "    pl.col(\"housetype_905L\").n_unique().alias(\"unique_house_types\"),\n",
    "    pl.col(\"housingtype_772L\").n_unique().alias(\"unique_housing_types\"),\n",
    "    pl.col(\"incometype_1044T\").n_unique().alias(\"unique_income_types\"),\n",
    "    pl.col(\"maritalst_703L\").n_unique().alias(\"unique_marital_statuses\"),\n",
    "    pl.col(\"persontype_1072L\").n_unique().alias(\"unique_person_types_1072L\"),\n",
    "    pl.col(\"persontype_792L\").n_unique().alias(\"unique_person_types_792L\"),\n",
    "    pl.col(\"relationshiptoclient_415T\").n_unique().alias(\"unique_relationships_415T\"),\n",
    "    pl.col(\"relationshiptoclient_642T\").n_unique().alias(\"unique_relationships_642T\"),\n",
    "    pl.col(\"remitter_829L\").sum().alias(\"sum_remitters\"),\n",
    "    pl.col(\"role_1084L\").n_unique().alias(\"unique_roles_1084L\"),\n",
    "    pl.col(\"role_993L\").n_unique().alias(\"unique_roles_993L\"),\n",
    "    pl.col(\"safeguarantyflag_411L\").sum().alias(\"sum_safeguaranty_flags\"),\n",
    "    pl.col(\"sex_738L\").n_unique().alias(\"unique_sexes\"),\n",
    "    pl.col(\"type_25L\").n_unique().alias(\"unique_contact_types\"),\n",
    "    pl.col(\"contaddr_district_15M\").n_unique().alias(\"unique_contact_address_districts\"),\n",
    "    pl.col(\"empladdr_district_926M\").n_unique().alias(\"unique_employer_address_districts\"),\n",
    "    pl.col(\"registaddr_district_1083M\").n_unique().alias(\"unique_registered_address_districts\"),\n",
    "    pl.col(\"isreference_387L\").sum().alias(\"sum_is_reference_flags\"),\n",
    "    pl.col(\"empl_industry_691L\").n_unique().alias(\"unique_industries\"),\n",
    "    pl.col(\"empladdr_zipcode_114M\").n_unique().alias(\"unique_employer_zipcodes\"),\n",
    "    pl.col(\"contaddr_zipcode_807M\").n_unique().alias(\"unique_contact_zipcodes\"),\n",
    "    pl.col(\"registaddr_zipcode_184M\").n_unique().alias(\"unique_registered_zipcodes\"),\n",
    "    pl.col(\"language1_981M\").n_unique().alias(\"unique_languages\"),\n",
    "    pl.col(\"familystate_447L\").n_unique().alias(\"unique_family_states\"),\n",
    "    pl.col(\"contaddr_matchlist_1032L\").sum().alias(\"sum_contact_address_matchlist\"),\n",
    "    pl.col(\"contaddr_smempladdr_334L\").sum().alias(\"sum_contact_same_employer_address\"),\n",
    "    pl.col(\"personindex_1023L\").n_unique().alias(\"unique_person_indices\")\n",
    "]\n",
    "\n",
    "df_lazy_4 = df_lazy_4.group_by(\"case_id\").agg(transformations_2)\n",
    "\n",
    "columns_to_drop = [\n",
    "    \"birth_259D\", \"birthdate_87D\", \"empl_employedfrom_271D\", \"childnum_185L\", \"education_927M\",\n",
    "    \"empl_employedtotal_800L\", \"mainoccupationinc_384A\", \"gender_992L\", \"housetype_905L\", \"housingtype_772L\",\n",
    "    \"incometype_1044T\", \"maritalst_703L\", \"persontype_1072L\", \"persontype_792L\", \"relationshiptoclient_415T\",\n",
    "    \"relationshiptoclient_642T\", \"remitter_829L\", \"role_1084L\", \"role_993L\", \"safeguarantyflag_411L\", \"sex_738L\",\n",
    "    \"type_25L\", \"contaddr_district_15M\", \"empladdr_district_926M\", \"registaddr_district_1083M\", \"isreference_387L\",\n",
    "    \"empl_industry_691L\", \"empladdr_zipcode_114M\", \"contaddr_zipcode_807M\", \"registaddr_zipcode_184M\",\n",
    "    \"language1_981M\", \"familystate_447L\", \"contaddr_matchlist_1032L\", \"contaddr_smempladdr_334L\", \"personindex_1023L\",\n",
    "    \"empl_employedfrom_271D\"\n",
    "]\n",
    "\n",
    "df_lazy_4 = df_lazy_4.drop(columns_to_drop)"
   ]
  },
  {
   "cell_type": "code",
   "execution_count": 31,
   "metadata": {},
   "outputs": [
    {
     "data": {
      "text/html": [
       "<div><style>\n",
       ".dataframe > thead > tr,\n",
       ".dataframe > tbody > tr {\n",
       "  text-align: right;\n",
       "  white-space: pre-wrap;\n",
       "}\n",
       "</style>\n",
       "<small>shape: (5, 35)</small><table border=\"1\" class=\"dataframe\"><thead><tr><th>case_id</th><th>unique_birth_dates</th><th>unique_birth_dates_87D</th><th>max_children</th><th>unique_educations</th><th>avg_employment_length</th><th>total_main_income</th><th>unique_genders</th><th>unique_house_types</th><th>unique_housing_types</th><th>unique_income_types</th><th>unique_marital_statuses</th><th>unique_person_types_1072L</th><th>unique_person_types_792L</th><th>unique_relationships_415T</th><th>unique_relationships_642T</th><th>sum_remitters</th><th>unique_roles_1084L</th><th>unique_roles_993L</th><th>sum_safeguaranty_flags</th><th>unique_sexes</th><th>unique_contact_types</th><th>unique_contact_address_districts</th><th>unique_employer_address_districts</th><th>unique_registered_address_districts</th><th>sum_is_reference_flags</th><th>unique_industries</th><th>unique_employer_zipcodes</th><th>unique_contact_zipcodes</th><th>unique_registered_zipcodes</th><th>unique_languages</th><th>unique_family_states</th><th>sum_contact_address_matchlist</th><th>sum_contact_same_employer_address</th><th>unique_person_indices</th></tr><tr><td>i64</td><td>u32</td><td>u32</td><td>f64</td><td>u32</td><td>str</td><td>f64</td><td>u32</td><td>u32</td><td>u32</td><td>u32</td><td>u32</td><td>u32</td><td>u32</td><td>u32</td><td>u32</td><td>u32</td><td>u32</td><td>u32</td><td>u32</td><td>u32</td><td>u32</td><td>u32</td><td>u32</td><td>u32</td><td>u32</td><td>u32</td><td>u32</td><td>u32</td><td>u32</td><td>u32</td><td>u32</td><td>u32</td><td>u32</td><td>u32</td></tr></thead><tbody><tr><td>1815734</td><td>1</td><td>1</td><td>null</td><td>1</td><td>null</td><td>34000.0</td><td>1</td><td>1</td><td>1</td><td>1</td><td>1</td><td>1</td><td>1</td><td>1</td><td>1</td><td>0</td><td>1</td><td>1</td><td>1</td><td>1</td><td>1</td><td>1</td><td>1</td><td>1</td><td>0</td><td>1</td><td>1</td><td>1</td><td>1</td><td>1</td><td>1</td><td>0</td><td>0</td><td>1</td></tr><tr><td>1700897</td><td>1</td><td>1</td><td>null</td><td>1</td><td>null</td><td>40000.0</td><td>1</td><td>1</td><td>1</td><td>1</td><td>1</td><td>1</td><td>1</td><td>1</td><td>1</td><td>0</td><td>1</td><td>1</td><td>1</td><td>1</td><td>1</td><td>1</td><td>1</td><td>1</td><td>0</td><td>1</td><td>1</td><td>1</td><td>1</td><td>1</td><td>1</td><td>0</td><td>0</td><td>1</td></tr><tr><td>727777</td><td>2</td><td>1</td><td>null</td><td>2</td><td>null</td><td>24000.0</td><td>1</td><td>1</td><td>1</td><td>2</td><td>1</td><td>2</td><td>2</td><td>2</td><td>2</td><td>0</td><td>2</td><td>1</td><td>1</td><td>2</td><td>2</td><td>2</td><td>1</td><td>2</td><td>0</td><td>1</td><td>1</td><td>2</td><td>2</td><td>2</td><td>2</td><td>0</td><td>0</td><td>2</td></tr><tr><td>670360</td><td>2</td><td>1</td><td>null</td><td>2</td><td>null</td><td>46000.0</td><td>1</td><td>1</td><td>1</td><td>2</td><td>1</td><td>2</td><td>3</td><td>2</td><td>2</td><td>0</td><td>3</td><td>1</td><td>1</td><td>2</td><td>2</td><td>2</td><td>2</td><td>2</td><td>0</td><td>2</td><td>2</td><td>2</td><td>2</td><td>2</td><td>2</td><td>0</td><td>0</td><td>3</td></tr><tr><td>1311733</td><td>1</td><td>1</td><td>null</td><td>1</td><td>null</td><td>50000.0</td><td>1</td><td>1</td><td>1</td><td>1</td><td>1</td><td>1</td><td>1</td><td>1</td><td>1</td><td>0</td><td>1</td><td>1</td><td>1</td><td>1</td><td>1</td><td>1</td><td>1</td><td>1</td><td>0</td><td>1</td><td>1</td><td>1</td><td>1</td><td>1</td><td>1</td><td>0</td><td>0</td><td>1</td></tr></tbody></table></div>"
      ],
      "text/plain": [
       "shape: (5, 35)\n",
       "┌─────────┬────────────┬───────────┬───────────┬───┬───────────┬───────────┬───────────┬───────────┐\n",
       "│ case_id ┆ unique_bir ┆ unique_bi ┆ max_child ┆ … ┆ unique_fa ┆ sum_conta ┆ sum_conta ┆ unique_pe │\n",
       "│ ---     ┆ th_dates   ┆ rth_dates ┆ ren       ┆   ┆ mily_stat ┆ ct_addres ┆ ct_same_e ┆ rson_indi │\n",
       "│ i64     ┆ ---        ┆ _87D      ┆ ---       ┆   ┆ es        ┆ s_matchli ┆ mployer_a ┆ ces       │\n",
       "│         ┆ u32        ┆ ---       ┆ f64       ┆   ┆ ---       ┆ st        ┆ ddres…    ┆ ---       │\n",
       "│         ┆            ┆ u32       ┆           ┆   ┆ u32       ┆ ---       ┆ ---       ┆ u32       │\n",
       "│         ┆            ┆           ┆           ┆   ┆           ┆ u32       ┆ u32       ┆           │\n",
       "╞═════════╪════════════╪═══════════╪═══════════╪═══╪═══════════╪═══════════╪═══════════╪═══════════╡\n",
       "│ 1815734 ┆ 1          ┆ 1         ┆ null      ┆ … ┆ 1         ┆ 0         ┆ 0         ┆ 1         │\n",
       "│ 1700897 ┆ 1          ┆ 1         ┆ null      ┆ … ┆ 1         ┆ 0         ┆ 0         ┆ 1         │\n",
       "│ 727777  ┆ 2          ┆ 1         ┆ null      ┆ … ┆ 2         ┆ 0         ┆ 0         ┆ 2         │\n",
       "│ 670360  ┆ 2          ┆ 1         ┆ null      ┆ … ┆ 2         ┆ 0         ┆ 0         ┆ 3         │\n",
       "│ 1311733 ┆ 1          ┆ 1         ┆ null      ┆ … ┆ 1         ┆ 0         ┆ 0         ┆ 1         │\n",
       "└─────────┴────────────┴───────────┴───────────┴───┴───────────┴───────────┴───────────┴───────────┘"
      ]
     },
     "execution_count": 31,
     "metadata": {},
     "output_type": "execute_result"
    }
   ],
   "source": [
    "df_lazy_4.head()"
   ]
  },
  {
   "cell_type": "code",
   "execution_count": 32,
   "metadata": {},
   "outputs": [],
   "source": [
    "df_joined = df_joined.lazy()\n",
    "df_lazy_4 = df_lazy_4.lazy()\n",
    "\n",
    "df_joined = df_joined.join(\n",
    "    df_lazy_4,\n",
    "    on=\"case_id\",\n",
    "    how=\"left\"\n",
    ")\n",
    "\n",
    "df_joined = df_joined.collect()"
   ]
  },
  {
   "cell_type": "code",
   "execution_count": 33,
   "metadata": {},
   "outputs": [
    {
     "data": {
      "text/html": [
       "<div><style>\n",
       ".dataframe > thead > tr,\n",
       ".dataframe > tbody > tr {\n",
       "  text-align: right;\n",
       "  white-space: pre-wrap;\n",
       "}\n",
       "</style>\n",
       "<small>shape: (5, 81)</small><table border=\"1\" class=\"dataframe\"><thead><tr><th>case_id</th><th>actualdpd_943P_mean</th><th>annuity_853A_sum</th><th>childnum_21L_sum</th><th>credacc_actualbalance_314A_mean</th><th>credacc_credlmt_575A_mean</th><th>credacc_maxhisbal_375A_max</th><th>credacc_minhisbal_90A_min</th><th>credacc_transactions_402L_sum</th><th>credamount_590A_mean</th><th>currdebt_94A_mean</th><th>downpmt_134A_sum</th><th>mainoccupationinc_437A_mean</th><th>outstandingdebt_522A_sum</th><th>pmtnum_8L_max</th><th>tenor_203L_min</th><th>isbidproduct_390L_sum</th><th>isdebitcard_527L_sum</th><th>credacc_status_367L_n_unique</th><th>credtype_587L_n_unique</th><th>education_1138M_n_unique</th><th>familystate_726L_n_unique</th><th>postype_4733339M_n_unique</th><th>profession_152M_n_unique</th><th>rejectreason_755M_n_unique</th><th>rejectreasonclient_4145042M_n_unique</th><th>status_219L_n_unique</th><th>approval_to_activation_min_diff</th><th>creation_min_diff</th><th>payment_max_diff</th><th>earliest_employment_date</th><th>byoccupationinc_3656910L_n_unique</th><th>cancelreason_3545846M_n_unique</th><th>district_544M_n_unique</th><th>earliest_last_payment_date</th><th>earliest_first_nonzero_installment_date</th><th>inittransactioncode_279L_n_unique</th><th>&hellip;</th><th>average_amount</th><th>open_contracts_count</th><th>closed_contracts_count</th><th>unique_birth_dates</th><th>unique_birth_dates_87D</th><th>max_children</th><th>unique_educations</th><th>avg_employment_length</th><th>total_main_income</th><th>unique_genders</th><th>unique_house_types</th><th>unique_housing_types</th><th>unique_income_types</th><th>unique_marital_statuses</th><th>unique_person_types_1072L</th><th>unique_person_types_792L</th><th>unique_relationships_415T</th><th>unique_relationships_642T</th><th>sum_remitters</th><th>unique_roles_1084L</th><th>unique_roles_993L</th><th>sum_safeguaranty_flags</th><th>unique_sexes</th><th>unique_contact_types</th><th>unique_contact_address_districts</th><th>unique_employer_address_districts</th><th>unique_registered_address_districts</th><th>sum_is_reference_flags</th><th>unique_industries</th><th>unique_employer_zipcodes</th><th>unique_contact_zipcodes</th><th>unique_registered_zipcodes</th><th>unique_languages</th><th>unique_family_states</th><th>sum_contact_address_matchlist</th><th>sum_contact_same_employer_address</th><th>unique_person_indices</th></tr><tr><td>i64</td><td>f64</td><td>f64</td><td>f64</td><td>f64</td><td>f64</td><td>f64</td><td>f64</td><td>f64</td><td>f64</td><td>f64</td><td>f64</td><td>f64</td><td>f64</td><td>f64</td><td>f64</td><td>u32</td><td>u32</td><td>u32</td><td>u32</td><td>u32</td><td>u32</td><td>u32</td><td>u32</td><td>u32</td><td>u32</td><td>u32</td><td>duration[ms]</td><td>duration[ms]</td><td>duration[ms]</td><td>date</td><td>u32</td><td>u32</td><td>u32</td><td>date</td><td>date</td><td>u32</td><td>&hellip;</td><td>f64</td><td>u32</td><td>u32</td><td>u32</td><td>u32</td><td>f64</td><td>u32</td><td>str</td><td>f64</td><td>u32</td><td>u32</td><td>u32</td><td>u32</td><td>u32</td><td>u32</td><td>u32</td><td>u32</td><td>u32</td><td>u32</td><td>u32</td><td>u32</td><td>u32</td><td>u32</td><td>u32</td><td>u32</td><td>u32</td><td>u32</td><td>u32</td><td>u32</td><td>u32</td><td>u32</td><td>u32</td><td>u32</td><td>u32</td><td>u32</td><td>u32</td><td>u32</td></tr></thead><tbody><tr><td>182207</td><td>0.0</td><td>29913.6002</td><td>0.0</td><td>null</td><td>0.0</td><td>null</td><td>null</td><td>0.0</td><td>26387.65</td><td>0.0</td><td>0.0</td><td>45250.0</td><td>0.0</td><td>16.0</td><td>3.0</td><td>0</td><td>0</td><td>1</td><td>2</td><td>2</td><td>2</td><td>1</td><td>1</td><td>2</td><td>2</td><td>3</td><td>15d</td><td>1d</td><td>114d</td><td>2018-01-15</td><td>1</td><td>3</td><td>2</td><td>2019-05-25</td><td>2018-05-01</td><td>2</td><td>&hellip;</td><td>null</td><td>null</td><td>null</td><td>2</td><td>1</td><td>null</td><td>2</td><td>null</td><td>20000.0</td><td>1</td><td>1</td><td>1</td><td>2</td><td>1</td><td>3</td><td>4</td><td>3</td><td>3</td><td>0</td><td>3</td><td>1</td><td>1</td><td>2</td><td>2</td><td>2</td><td>2</td><td>2</td><td>0</td><td>2</td><td>2</td><td>2</td><td>2</td><td>2</td><td>2</td><td>0</td><td>0</td><td>4</td></tr><tr><td>877588</td><td>0.0</td><td>3330.4001</td><td>0.0</td><td>null</td><td>55208.8</td><td>null</td><td>null</td><td>0.0</td><td>68527.533333</td><td>null</td><td>0.0</td><td>86666.666667</td><td>0.0</td><td>16.0</td><td>16.0</td><td>0</td><td>0</td><td>1</td><td>2</td><td>2</td><td>2</td><td>1</td><td>1</td><td>3</td><td>2</td><td>2</td><td>null</td><td>0ms</td><td>null</td><td>2005-01-15</td><td>1</td><td>2</td><td>1</td><td>null</td><td>2019-02-01</td><td>1</td><td>&hellip;</td><td>null</td><td>null</td><td>null</td><td>2</td><td>1</td><td>null</td><td>2</td><td>null</td><td>60000.0</td><td>1</td><td>1</td><td>1</td><td>2</td><td>1</td><td>2</td><td>3</td><td>2</td><td>2</td><td>0</td><td>3</td><td>1</td><td>1</td><td>2</td><td>2</td><td>2</td><td>2</td><td>2</td><td>0</td><td>2</td><td>2</td><td>2</td><td>2</td><td>2</td><td>2</td><td>0</td><td>0</td><td>3</td></tr><tr><td>1547933</td><td>0.0</td><td>2222.0</td><td>0.0</td><td>null</td><td>0.0</td><td>null</td><td>null</td><td>0.0</td><td>10896.4</td><td>0.0</td><td>695.60004</td><td>39000.0</td><td>0.0</td><td>6.0</td><td>6.0</td><td>0</td><td>0</td><td>1</td><td>1</td><td>1</td><td>1</td><td>1</td><td>1</td><td>1</td><td>1</td><td>1</td><td>null</td><td>null</td><td>null</td><td>2014-02-15</td><td>1</td><td>1</td><td>1</td><td>2019-10-03</td><td>2019-05-15</td><td>1</td><td>&hellip;</td><td>null</td><td>null</td><td>null</td><td>1</td><td>1</td><td>null</td><td>1</td><td>null</td><td>46000.0</td><td>1</td><td>1</td><td>1</td><td>1</td><td>1</td><td>1</td><td>1</td><td>1</td><td>1</td><td>0</td><td>1</td><td>1</td><td>1</td><td>1</td><td>1</td><td>1</td><td>1</td><td>1</td><td>0</td><td>1</td><td>1</td><td>1</td><td>1</td><td>1</td><td>1</td><td>0</td><td>0</td><td>1</td></tr><tr><td>161640</td><td>0.0</td><td>5347.0</td><td>5.0</td><td>null</td><td>0.0</td><td>null</td><td>null</td><td>0.0</td><td>8193.333333</td><td>0.0</td><td>0.0</td><td>30333.333333</td><td>0.0</td><td>6.0</td><td>4.0</td><td>0</td><td>0</td><td>1</td><td>2</td><td>2</td><td>2</td><td>1</td><td>1</td><td>2</td><td>2</td><td>2</td><td>null</td><td>137d</td><td>null</td><td>2007-01-15</td><td>1</td><td>2</td><td>1</td><td>2017-12-06</td><td>2017-09-08</td><td>2</td><td>&hellip;</td><td>null</td><td>null</td><td>null</td><td>2</td><td>1</td><td>null</td><td>2</td><td>null</td><td>20000.0</td><td>1</td><td>1</td><td>1</td><td>2</td><td>1</td><td>2</td><td>3</td><td>3</td><td>3</td><td>0</td><td>3</td><td>1</td><td>1</td><td>2</td><td>2</td><td>2</td><td>2</td><td>2</td><td>0</td><td>2</td><td>2</td><td>2</td><td>2</td><td>2</td><td>2</td><td>0</td><td>0</td><td>4</td></tr><tr><td>176318</td><td>0.0</td><td>21445.6003</td><td>0.0</td><td>null</td><td>0.0</td><td>null</td><td>null</td><td>0.0</td><td>96475.0</td><td>57664.906</td><td>500.0</td><td>44050.0</td><td>80393.2</td><td>36.0</td><td>24.0</td><td>0</td><td>0</td><td>1</td><td>2</td><td>2</td><td>4</td><td>1</td><td>1</td><td>1</td><td>1</td><td>3</td><td>null</td><td>152d</td><td>null</td><td>2006-04-15</td><td>2</td><td>2</td><td>2</td><td>2019-11-06</td><td>2008-09-07</td><td>2</td><td>&hellip;</td><td>null</td><td>null</td><td>null</td><td>2</td><td>1</td><td>null</td><td>2</td><td>null</td><td>80200.0</td><td>1</td><td>1</td><td>1</td><td>2</td><td>1</td><td>2</td><td>3</td><td>3</td><td>3</td><td>0</td><td>3</td><td>1</td><td>1</td><td>2</td><td>4</td><td>2</td><td>2</td><td>2</td><td>0</td><td>2</td><td>2</td><td>2</td><td>2</td><td>2</td><td>2</td><td>0</td><td>0</td><td>4</td></tr></tbody></table></div>"
      ],
      "text/plain": [
       "shape: (5, 81)\n",
       "┌─────────┬────────────┬───────────┬───────────┬───┬───────────┬───────────┬───────────┬───────────┐\n",
       "│ case_id ┆ actualdpd_ ┆ annuity_8 ┆ childnum_ ┆ … ┆ unique_fa ┆ sum_conta ┆ sum_conta ┆ unique_pe │\n",
       "│ ---     ┆ 943P_mean  ┆ 53A_sum   ┆ 21L_sum   ┆   ┆ mily_stat ┆ ct_addres ┆ ct_same_e ┆ rson_indi │\n",
       "│ i64     ┆ ---        ┆ ---       ┆ ---       ┆   ┆ es        ┆ s_matchli ┆ mployer_a ┆ ces       │\n",
       "│         ┆ f64        ┆ f64       ┆ f64       ┆   ┆ ---       ┆ st        ┆ ddres…    ┆ ---       │\n",
       "│         ┆            ┆           ┆           ┆   ┆ u32       ┆ ---       ┆ ---       ┆ u32       │\n",
       "│         ┆            ┆           ┆           ┆   ┆           ┆ u32       ┆ u32       ┆           │\n",
       "╞═════════╪════════════╪═══════════╪═══════════╪═══╪═══════════╪═══════════╪═══════════╪═══════════╡\n",
       "│ 182207  ┆ 0.0        ┆ 29913.600 ┆ 0.0       ┆ … ┆ 2         ┆ 0         ┆ 0         ┆ 4         │\n",
       "│         ┆            ┆ 2         ┆           ┆   ┆           ┆           ┆           ┆           │\n",
       "│ 877588  ┆ 0.0        ┆ 3330.4001 ┆ 0.0       ┆ … ┆ 2         ┆ 0         ┆ 0         ┆ 3         │\n",
       "│ 1547933 ┆ 0.0        ┆ 2222.0    ┆ 0.0       ┆ … ┆ 1         ┆ 0         ┆ 0         ┆ 1         │\n",
       "│ 161640  ┆ 0.0        ┆ 5347.0    ┆ 5.0       ┆ … ┆ 2         ┆ 0         ┆ 0         ┆ 4         │\n",
       "│ 176318  ┆ 0.0        ┆ 21445.600 ┆ 0.0       ┆ … ┆ 2         ┆ 0         ┆ 0         ┆ 4         │\n",
       "│         ┆            ┆ 3         ┆           ┆   ┆           ┆           ┆           ┆           │\n",
       "└─────────┴────────────┴───────────┴───────────┴───┴───────────┴───────────┴───────────┴───────────┘"
      ]
     },
     "execution_count": 33,
     "metadata": {},
     "output_type": "execute_result"
    }
   ],
   "source": [
    "df_joined.head()"
   ]
  },
  {
   "cell_type": "code",
   "execution_count": 34,
   "metadata": {},
   "outputs": [],
   "source": [
    "import polars as pl\n",
    "\n",
    "df_lazy_5 = pl.read_csv(\"Data/csv_files/train/train_debitcard_1.csv\")"
   ]
  },
  {
   "cell_type": "code",
   "execution_count": 35,
   "metadata": {},
   "outputs": [
    {
     "data": {
      "text/html": [
       "<div><style>\n",
       ".dataframe > thead > tr,\n",
       ".dataframe > tbody > tr {\n",
       "  text-align: right;\n",
       "  white-space: pre-wrap;\n",
       "}\n",
       "</style>\n",
       "<small>shape: (5, 6)</small><table border=\"1\" class=\"dataframe\"><thead><tr><th>case_id</th><th>last180dayaveragebalance_704A</th><th>last180dayturnover_1134A</th><th>last30dayturnover_651A</th><th>num_group1</th><th>openingdate_857D</th></tr><tr><td>i64</td><td>str</td><td>str</td><td>str</td><td>i64</td><td>str</td></tr></thead><tbody><tr><td>225</td><td>null</td><td>null</td><td>null</td><td>0</td><td>&quot;2016-08-16&quot;</td></tr><tr><td>331</td><td>null</td><td>null</td><td>null</td><td>0</td><td>&quot;2015-03-19&quot;</td></tr><tr><td>358</td><td>null</td><td>null</td><td>null</td><td>0</td><td>&quot;2014-09-02&quot;</td></tr><tr><td>390</td><td>null</td><td>null</td><td>null</td><td>0</td><td>&quot;2014-07-23&quot;</td></tr><tr><td>390</td><td>null</td><td>null</td><td>null</td><td>2</td><td>&quot;2016-06-08&quot;</td></tr></tbody></table></div>"
      ],
      "text/plain": [
       "shape: (5, 6)\n",
       "┌─────────┬──────────────────┬──────────────────┬──────────────────┬────────────┬──────────────────┐\n",
       "│ case_id ┆ last180dayaverag ┆ last180dayturnov ┆ last30dayturnove ┆ num_group1 ┆ openingdate_857D │\n",
       "│ ---     ┆ ebalance_704A    ┆ er_1134A         ┆ r_651A           ┆ ---        ┆ ---              │\n",
       "│ i64     ┆ ---              ┆ ---              ┆ ---              ┆ i64        ┆ str              │\n",
       "│         ┆ str              ┆ str              ┆ str              ┆            ┆                  │\n",
       "╞═════════╪══════════════════╪══════════════════╪══════════════════╪════════════╪══════════════════╡\n",
       "│ 225     ┆ null             ┆ null             ┆ null             ┆ 0          ┆ 2016-08-16       │\n",
       "│ 331     ┆ null             ┆ null             ┆ null             ┆ 0          ┆ 2015-03-19       │\n",
       "│ 358     ┆ null             ┆ null             ┆ null             ┆ 0          ┆ 2014-09-02       │\n",
       "│ 390     ┆ null             ┆ null             ┆ null             ┆ 0          ┆ 2014-07-23       │\n",
       "│ 390     ┆ null             ┆ null             ┆ null             ┆ 2          ┆ 2016-06-08       │\n",
       "└─────────┴──────────────────┴──────────────────┴──────────────────┴────────────┴──────────────────┘"
      ]
     },
     "execution_count": 35,
     "metadata": {},
     "output_type": "execute_result"
    }
   ],
   "source": [
    "df_lazy_5.head()"
   ]
  },
  {
   "cell_type": "code",
   "execution_count": 36,
   "metadata": {},
   "outputs": [],
   "source": [
    "df_lazy_5 = df_lazy_5.with_columns([\n",
    "    pl.col(\"last180dayaveragebalance_704A\").cast(pl.Float64).fill_null(0).alias(\"last180dayaveragebalance_704A\"),\n",
    "    pl.col(\"last180dayturnover_1134A\").cast(pl.Float64).fill_null(0).alias(\"last180dayturnover_1134A\"),\n",
    "    pl.col(\"last30dayturnover_651A\").cast(pl.Float64).fill_null(0).alias(\"last30dayturnover_651A\")\n",
    "])\n",
    "\n",
    "df_lazy_5 = df_lazy_5.with_columns(\n",
    "    pl.col(\"openingdate_857D\").str.strptime(pl.Date, \"%Y-%m-%d\").alias(\"parsed_openingdate\")\n",
    ").drop(\"openingdate_857D\")\n",
    "       \n",
    "df_lazy_5 = df_lazy_5.group_by(\"case_id\").agg([\n",
    "    pl.sum(\"last180dayaveragebalance_704A\").alias(\"total_180dayaveragebalance\"),\n",
    "    pl.sum(\"last180dayturnover_1134A\").alias(\"total_180dayturnover\"),\n",
    "    pl.sum(\"last30dayturnover_651A\").alias(\"total_30dayturnover\"),\n",
    "    pl.min(\"parsed_openingdate\").alias(\"earliest_openingdate\")\n",
    "])"
   ]
  },
  {
   "cell_type": "code",
   "execution_count": 37,
   "metadata": {},
   "outputs": [],
   "source": [
    "df_joined = df_joined.lazy()\n",
    "df_lazy_5 = df_lazy_5.lazy()\n",
    "\n",
    "df_joined = df_joined.join(\n",
    "    df_lazy_5,\n",
    "    on=\"case_id\",\n",
    "    how=\"left\"\n",
    ")\n",
    "\n",
    "df_joined = df_joined.collect()"
   ]
  },
  {
   "cell_type": "code",
   "execution_count": 38,
   "metadata": {},
   "outputs": [
    {
     "data": {
      "text/html": [
       "<div><style>\n",
       ".dataframe > thead > tr,\n",
       ".dataframe > tbody > tr {\n",
       "  text-align: right;\n",
       "  white-space: pre-wrap;\n",
       "}\n",
       "</style>\n",
       "<small>shape: (5, 85)</small><table border=\"1\" class=\"dataframe\"><thead><tr><th>case_id</th><th>actualdpd_943P_mean</th><th>annuity_853A_sum</th><th>childnum_21L_sum</th><th>credacc_actualbalance_314A_mean</th><th>credacc_credlmt_575A_mean</th><th>credacc_maxhisbal_375A_max</th><th>credacc_minhisbal_90A_min</th><th>credacc_transactions_402L_sum</th><th>credamount_590A_mean</th><th>currdebt_94A_mean</th><th>downpmt_134A_sum</th><th>mainoccupationinc_437A_mean</th><th>outstandingdebt_522A_sum</th><th>pmtnum_8L_max</th><th>tenor_203L_min</th><th>isbidproduct_390L_sum</th><th>isdebitcard_527L_sum</th><th>credacc_status_367L_n_unique</th><th>credtype_587L_n_unique</th><th>education_1138M_n_unique</th><th>familystate_726L_n_unique</th><th>postype_4733339M_n_unique</th><th>profession_152M_n_unique</th><th>rejectreason_755M_n_unique</th><th>rejectreasonclient_4145042M_n_unique</th><th>status_219L_n_unique</th><th>approval_to_activation_min_diff</th><th>creation_min_diff</th><th>payment_max_diff</th><th>earliest_employment_date</th><th>byoccupationinc_3656910L_n_unique</th><th>cancelreason_3545846M_n_unique</th><th>district_544M_n_unique</th><th>earliest_last_payment_date</th><th>earliest_first_nonzero_installment_date</th><th>inittransactioncode_279L_n_unique</th><th>&hellip;</th><th>unique_birth_dates_87D</th><th>max_children</th><th>unique_educations</th><th>avg_employment_length</th><th>total_main_income</th><th>unique_genders</th><th>unique_house_types</th><th>unique_housing_types</th><th>unique_income_types</th><th>unique_marital_statuses</th><th>unique_person_types_1072L</th><th>unique_person_types_792L</th><th>unique_relationships_415T</th><th>unique_relationships_642T</th><th>sum_remitters</th><th>unique_roles_1084L</th><th>unique_roles_993L</th><th>sum_safeguaranty_flags</th><th>unique_sexes</th><th>unique_contact_types</th><th>unique_contact_address_districts</th><th>unique_employer_address_districts</th><th>unique_registered_address_districts</th><th>sum_is_reference_flags</th><th>unique_industries</th><th>unique_employer_zipcodes</th><th>unique_contact_zipcodes</th><th>unique_registered_zipcodes</th><th>unique_languages</th><th>unique_family_states</th><th>sum_contact_address_matchlist</th><th>sum_contact_same_employer_address</th><th>unique_person_indices</th><th>total_180dayaveragebalance</th><th>total_180dayturnover</th><th>total_30dayturnover</th><th>earliest_openingdate</th></tr><tr><td>i64</td><td>f64</td><td>f64</td><td>f64</td><td>f64</td><td>f64</td><td>f64</td><td>f64</td><td>f64</td><td>f64</td><td>f64</td><td>f64</td><td>f64</td><td>f64</td><td>f64</td><td>f64</td><td>u32</td><td>u32</td><td>u32</td><td>u32</td><td>u32</td><td>u32</td><td>u32</td><td>u32</td><td>u32</td><td>u32</td><td>u32</td><td>duration[ms]</td><td>duration[ms]</td><td>duration[ms]</td><td>date</td><td>u32</td><td>u32</td><td>u32</td><td>date</td><td>date</td><td>u32</td><td>&hellip;</td><td>u32</td><td>f64</td><td>u32</td><td>str</td><td>f64</td><td>u32</td><td>u32</td><td>u32</td><td>u32</td><td>u32</td><td>u32</td><td>u32</td><td>u32</td><td>u32</td><td>u32</td><td>u32</td><td>u32</td><td>u32</td><td>u32</td><td>u32</td><td>u32</td><td>u32</td><td>u32</td><td>u32</td><td>u32</td><td>u32</td><td>u32</td><td>u32</td><td>u32</td><td>u32</td><td>u32</td><td>u32</td><td>u32</td><td>f64</td><td>f64</td><td>f64</td><td>date</td></tr></thead><tbody><tr><td>182207</td><td>0.0</td><td>29913.6002</td><td>0.0</td><td>null</td><td>0.0</td><td>null</td><td>null</td><td>0.0</td><td>26387.65</td><td>0.0</td><td>0.0</td><td>45250.0</td><td>0.0</td><td>16.0</td><td>3.0</td><td>0</td><td>0</td><td>1</td><td>2</td><td>2</td><td>2</td><td>1</td><td>1</td><td>2</td><td>2</td><td>3</td><td>15d</td><td>1d</td><td>114d</td><td>2018-01-15</td><td>1</td><td>3</td><td>2</td><td>2019-05-25</td><td>2018-05-01</td><td>2</td><td>&hellip;</td><td>1</td><td>null</td><td>2</td><td>null</td><td>20000.0</td><td>1</td><td>1</td><td>1</td><td>2</td><td>1</td><td>3</td><td>4</td><td>3</td><td>3</td><td>0</td><td>3</td><td>1</td><td>1</td><td>2</td><td>2</td><td>2</td><td>2</td><td>2</td><td>0</td><td>2</td><td>2</td><td>2</td><td>2</td><td>2</td><td>2</td><td>0</td><td>0</td><td>4</td><td>null</td><td>null</td><td>null</td><td>null</td></tr><tr><td>877588</td><td>0.0</td><td>3330.4001</td><td>0.0</td><td>null</td><td>55208.8</td><td>null</td><td>null</td><td>0.0</td><td>68527.533333</td><td>null</td><td>0.0</td><td>86666.666667</td><td>0.0</td><td>16.0</td><td>16.0</td><td>0</td><td>0</td><td>1</td><td>2</td><td>2</td><td>2</td><td>1</td><td>1</td><td>3</td><td>2</td><td>2</td><td>null</td><td>0ms</td><td>null</td><td>2005-01-15</td><td>1</td><td>2</td><td>1</td><td>null</td><td>2019-02-01</td><td>1</td><td>&hellip;</td><td>1</td><td>null</td><td>2</td><td>null</td><td>60000.0</td><td>1</td><td>1</td><td>1</td><td>2</td><td>1</td><td>2</td><td>3</td><td>2</td><td>2</td><td>0</td><td>3</td><td>1</td><td>1</td><td>2</td><td>2</td><td>2</td><td>2</td><td>2</td><td>0</td><td>2</td><td>2</td><td>2</td><td>2</td><td>2</td><td>2</td><td>0</td><td>0</td><td>3</td><td>null</td><td>null</td><td>null</td><td>null</td></tr><tr><td>1547933</td><td>0.0</td><td>2222.0</td><td>0.0</td><td>null</td><td>0.0</td><td>null</td><td>null</td><td>0.0</td><td>10896.4</td><td>0.0</td><td>695.60004</td><td>39000.0</td><td>0.0</td><td>6.0</td><td>6.0</td><td>0</td><td>0</td><td>1</td><td>1</td><td>1</td><td>1</td><td>1</td><td>1</td><td>1</td><td>1</td><td>1</td><td>null</td><td>null</td><td>null</td><td>2014-02-15</td><td>1</td><td>1</td><td>1</td><td>2019-10-03</td><td>2019-05-15</td><td>1</td><td>&hellip;</td><td>1</td><td>null</td><td>1</td><td>null</td><td>46000.0</td><td>1</td><td>1</td><td>1</td><td>1</td><td>1</td><td>1</td><td>1</td><td>1</td><td>1</td><td>0</td><td>1</td><td>1</td><td>1</td><td>1</td><td>1</td><td>1</td><td>1</td><td>1</td><td>0</td><td>1</td><td>1</td><td>1</td><td>1</td><td>1</td><td>1</td><td>0</td><td>0</td><td>1</td><td>null</td><td>null</td><td>null</td><td>null</td></tr><tr><td>161640</td><td>0.0</td><td>5347.0</td><td>5.0</td><td>null</td><td>0.0</td><td>null</td><td>null</td><td>0.0</td><td>8193.333333</td><td>0.0</td><td>0.0</td><td>30333.333333</td><td>0.0</td><td>6.0</td><td>4.0</td><td>0</td><td>0</td><td>1</td><td>2</td><td>2</td><td>2</td><td>1</td><td>1</td><td>2</td><td>2</td><td>2</td><td>null</td><td>137d</td><td>null</td><td>2007-01-15</td><td>1</td><td>2</td><td>1</td><td>2017-12-06</td><td>2017-09-08</td><td>2</td><td>&hellip;</td><td>1</td><td>null</td><td>2</td><td>null</td><td>20000.0</td><td>1</td><td>1</td><td>1</td><td>2</td><td>1</td><td>2</td><td>3</td><td>3</td><td>3</td><td>0</td><td>3</td><td>1</td><td>1</td><td>2</td><td>2</td><td>2</td><td>2</td><td>2</td><td>0</td><td>2</td><td>2</td><td>2</td><td>2</td><td>2</td><td>2</td><td>0</td><td>0</td><td>4</td><td>null</td><td>null</td><td>null</td><td>null</td></tr><tr><td>176318</td><td>0.0</td><td>21445.6003</td><td>0.0</td><td>null</td><td>0.0</td><td>null</td><td>null</td><td>0.0</td><td>96475.0</td><td>57664.906</td><td>500.0</td><td>44050.0</td><td>80393.2</td><td>36.0</td><td>24.0</td><td>0</td><td>0</td><td>1</td><td>2</td><td>2</td><td>4</td><td>1</td><td>1</td><td>1</td><td>1</td><td>3</td><td>null</td><td>152d</td><td>null</td><td>2006-04-15</td><td>2</td><td>2</td><td>2</td><td>2019-11-06</td><td>2008-09-07</td><td>2</td><td>&hellip;</td><td>1</td><td>null</td><td>2</td><td>null</td><td>80200.0</td><td>1</td><td>1</td><td>1</td><td>2</td><td>1</td><td>2</td><td>3</td><td>3</td><td>3</td><td>0</td><td>3</td><td>1</td><td>1</td><td>2</td><td>4</td><td>2</td><td>2</td><td>2</td><td>0</td><td>2</td><td>2</td><td>2</td><td>2</td><td>2</td><td>2</td><td>0</td><td>0</td><td>4</td><td>null</td><td>null</td><td>null</td><td>null</td></tr></tbody></table></div>"
      ],
      "text/plain": [
       "shape: (5, 85)\n",
       "┌─────────┬────────────┬───────────┬───────────┬───┬───────────┬───────────┬───────────┬───────────┐\n",
       "│ case_id ┆ actualdpd_ ┆ annuity_8 ┆ childnum_ ┆ … ┆ total_180 ┆ total_180 ┆ total_30d ┆ earliest_ │\n",
       "│ ---     ┆ 943P_mean  ┆ 53A_sum   ┆ 21L_sum   ┆   ┆ dayaverag ┆ dayturnov ┆ ayturnove ┆ openingda │\n",
       "│ i64     ┆ ---        ┆ ---       ┆ ---       ┆   ┆ ebalance  ┆ er        ┆ r         ┆ te        │\n",
       "│         ┆ f64        ┆ f64       ┆ f64       ┆   ┆ ---       ┆ ---       ┆ ---       ┆ ---       │\n",
       "│         ┆            ┆           ┆           ┆   ┆ f64       ┆ f64       ┆ f64       ┆ date      │\n",
       "╞═════════╪════════════╪═══════════╪═══════════╪═══╪═══════════╪═══════════╪═══════════╪═══════════╡\n",
       "│ 182207  ┆ 0.0        ┆ 29913.600 ┆ 0.0       ┆ … ┆ null      ┆ null      ┆ null      ┆ null      │\n",
       "│         ┆            ┆ 2         ┆           ┆   ┆           ┆           ┆           ┆           │\n",
       "│ 877588  ┆ 0.0        ┆ 3330.4001 ┆ 0.0       ┆ … ┆ null      ┆ null      ┆ null      ┆ null      │\n",
       "│ 1547933 ┆ 0.0        ┆ 2222.0    ┆ 0.0       ┆ … ┆ null      ┆ null      ┆ null      ┆ null      │\n",
       "│ 161640  ┆ 0.0        ┆ 5347.0    ┆ 5.0       ┆ … ┆ null      ┆ null      ┆ null      ┆ null      │\n",
       "│ 176318  ┆ 0.0        ┆ 21445.600 ┆ 0.0       ┆ … ┆ null      ┆ null      ┆ null      ┆ null      │\n",
       "│         ┆            ┆ 3         ┆           ┆   ┆           ┆           ┆           ┆           │\n",
       "└─────────┴────────────┴───────────┴───────────┴───┴───────────┴───────────┴───────────┴───────────┘"
      ]
     },
     "execution_count": 38,
     "metadata": {},
     "output_type": "execute_result"
    }
   ],
   "source": [
    "df_joined.head()"
   ]
  },
  {
   "cell_type": "code",
   "execution_count": 39,
   "metadata": {},
   "outputs": [],
   "source": [
    "duration_columns = [\n",
    "    \"approval_to_activation_min_diff\",\n",
    "    \"creation_min_diff\",\n",
    "    \"payment_max_diff\"\n",
    "]\n",
    "\n",
    "for column in duration_columns:\n",
    "    df_joined = df_joined.with_columns(\n",
    "        pl.col(column).str.replace(\"d\", \"\").cast(pl.Int64) * 1440\n",
    "    )"
   ]
  },
  {
   "cell_type": "code",
   "execution_count": 40,
   "metadata": {},
   "outputs": [],
   "source": [
    "train_DEPTH_1 = df_joined\n",
    "\n",
    "directory = r\"C:\\Users\\afise\\.git\\CreditRiskModel\\Merged_Data\"\n",
    "filename = \"train_DEPTH_1.csv\"\n",
    "file_path = os.path.join(directory, filename)\n",
    "\n",
    "if not os.path.exists(directory):\n",
    "    os.makedirs(directory)\n",
    "\n",
    "train_DEPTH_1.write_csv(file_path)"
   ]
  }
 ],
 "metadata": {
  "kernelspec": {
   "display_name": "Python 3",
   "language": "python",
   "name": "python3"
  },
  "language_info": {
   "codemirror_mode": {
    "name": "ipython",
    "version": 3
   },
   "file_extension": ".py",
   "mimetype": "text/x-python",
   "name": "python",
   "nbconvert_exporter": "python",
   "pygments_lexer": "ipython3",
   "version": "3.11.8"
  }
 },
 "nbformat": 4,
 "nbformat_minor": 2
}
