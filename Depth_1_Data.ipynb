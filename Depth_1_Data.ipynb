{
 "cells": [
  {
   "cell_type": "code",
   "execution_count": 1,
   "metadata": {},
   "outputs": [],
   "source": [
    "import polars as pl\n",
    "import os\n",
    "\n",
    "train_applprev_1_0 = pl.read_csv(\"Data/csv_files/train/train_applprev_1_0.csv\")\n",
    "train_applprev_1_1 = pl.read_csv(\"Data/csv_files/train/train_applprev_1_1.csv\")"
   ]
  },
  {
   "cell_type": "code",
   "execution_count": 2,
   "metadata": {},
   "outputs": [],
   "source": [
    "train_applprev_1 = pl.concat([train_applprev_1_0, train_applprev_1_1])\n",
    "\n",
    "directory = r\"C:\\Users\\afise\\.git\\CreditRiskModel\\Merged_Data\"\n",
    "filename = \"train_applprev_1.csv\"\n",
    "file_path = os.path.join(directory, filename)\n",
    "\n",
    "train_applprev_1.write_csv(file_path)"
   ]
  },
  {
   "cell_type": "code",
   "execution_count": 11,
   "metadata": {},
   "outputs": [
    {
     "data": {
      "text/plain": [
       "(6525979, 41)"
      ]
     },
     "execution_count": 11,
     "metadata": {},
     "output_type": "execute_result"
    }
   ],
   "source": [
    "train_applprev_1.shape"
   ]
  },
  {
   "cell_type": "code",
   "execution_count": 3,
   "metadata": {},
   "outputs": [],
   "source": [
    "import duckdb"
   ]
  },
  {
   "cell_type": "code",
   "execution_count": null,
   "metadata": {},
   "outputs": [],
   "source": [
    "csv_file_path = r\"C:\\Users\\afise\\.git\\CreditRiskModel\\Merged_Data\\train_applprev_1.csv\"\n",
    "\n",
    "conn = duckdb.connect(database=':memory:', read_only=False)\n",
    "\n",
    "conn.execute(f\"CREATE TABLE train_applprev_1 AS SELECT * FROM read_csv_auto('{csv_file_path}')\")"
   ]
  },
  {
   "cell_type": "code",
   "execution_count": 16,
   "metadata": {},
   "outputs": [
    {
     "name": "stdout",
     "output_type": "stream",
     "text": [
      "case_id, actualdpd_943P, annuity_853A, approvaldate_319D, byoccupationinc_3656910L, cancelreason_3545846M, childnum_21L, creationdate_885D, credacc_actualbalance_314A, credacc_credlmt_575A, credacc_maxhisbal_375A, credacc_minhisbal_90A, credacc_status_367L, credacc_transactions_402L, credamount_590A, credtype_587L, currdebt_94A, dateactivated_425D, district_544M, downpmt_134A, dtlastpmt_581D, dtlastpmtallstes_3545839D, education_1138M, employedfrom_700D, familystate_726L, firstnonzeroinstldate_307D, inittransactioncode_279L, isbidproduct_390L, isdebitcard_527L, mainoccupationinc_437A, maxdpdtolerance_577P, num_group1, outstandingdebt_522A, pmtnum_8L, postype_4733339M, profession_152M, rejectreason_755M, rejectreasonclient_4145042M, revolvingaccount_394A, status_219L, tenor_203L\n",
      "2, 0.0, 640.2, NULL, NULL, a55475b1, 0.0, 2013-04-03, NULL, 0.0, NULL, NULL, NULL, NULL, 10000.0, CAL, NULL, NULL, P136_108_173, 0.0, NULL, NULL, P97_36_170, 2010-02-15, SINGLE, 2013-05-04, CASH, False, NULL, 8200.0, NULL, 0, NULL, 24.0, a55475b1, a55475b1, a55475b1, a55475b1, NULL, D, 24.0\n",
      "2, 0.0, 1682.4, NULL, NULL, a55475b1, 0.0, 2013-04-03, NULL, 0.0, NULL, NULL, NULL, NULL, 16000.0, CAL, NULL, NULL, P136_108_173, 0.0, NULL, NULL, P97_36_170, 2010-02-15, SINGLE, 2013-05-04, CASH, False, NULL, 8200.0, NULL, 1, NULL, 12.0, a55475b1, a55475b1, a55475b1, a55475b1, NULL, D, 12.0\n",
      "3, 0.0, 6140.0, NULL, NULL, P94_109_143, NULL, 2019-01-07, NULL, 0.0, NULL, NULL, NULL, NULL, 59999.8, CAL, NULL, NULL, P131_33_167, 0.0, NULL, NULL, P97_36_170, 2018-05-15, MARRIED, 2019-02-07, CASH, False, NULL, 11000.0, NULL, 0, NULL, 12.0, a55475b1, a55475b1, P94_109_143, a55475b1, NULL, D, 12.0\n",
      "4, 0.0, 2556.6, NULL, NULL, P24_27_36, NULL, 2019-01-08, NULL, 0.0, NULL, NULL, NULL, NULL, 40000.0, CAL, NULL, NULL, P194_82_174, 0.0, NULL, NULL, a55475b1, NULL, NULL, 2019-02-08, CASH, False, NULL, 16000.0, NULL, 0, NULL, 24.0, a55475b1, a55475b1, a55475b1, a55475b1, NULL, T, 24.0\n",
      "5, 0.0, NULL, NULL, NULL, P85_114_140, NULL, 2019-01-16, NULL, NULL, NULL, NULL, NULL, NULL, NULL, NULL, NULL, NULL, P54_133_26, NULL, NULL, NULL, a55475b1, NULL, NULL, NULL, NULL, False, NULL, 62000.0, NULL, 0, NULL, NULL, a55475b1, a55475b1, a55475b1, a55475b1, NULL, T, NULL\n",
      "6, 0.0, 1773.8, NULL, NULL, P94_109_143, NULL, 2018-09-12, NULL, 0.0, NULL, NULL, NULL, NULL, 15980.0, CAL, NULL, NULL, P82_154_182, 0.0, NULL, NULL, a55475b1, NULL, NULL, 2018-10-12, CASH, False, NULL, 37000.0, NULL, 0, NULL, 11.0, a55475b1, a55475b1, P94_109_143, a55475b1, NULL, D, 11.0\n",
      "6, 0.0, 4189.6, NULL, NULL, P94_109_143, 0.0, 2017-12-28, NULL, 0.0, NULL, NULL, NULL, NULL, 32000.0, CAL, NULL, NULL, P82_154_182, 0.0, NULL, NULL, P97_36_170, 2013-09-15, SINGLE, 2018-01-28, CASH, False, NULL, 35000.0, NULL, 1, NULL, 11.0, a55475b1, a55475b1, P94_109_143, a55475b1, NULL, D, 11.0\n",
      "6, 0.0, 1110.4, NULL, 1.0, a55475b1, 0.0, 2014-11-18, NULL, 0.0, NULL, NULL, NULL, NULL, 17380.0, COL, 0.0, NULL, a55475b1, 0.0, NULL, NULL, P97_36_170, 2012-09-15, SINGLE, 2014-12-18, POS, False, NULL, 14000.0, NULL, 2, 0.0, 24.0, a55475b1, a55475b1, a55475b1, a55475b1, NULL, D, 24.0\n",
      "10, 0.0, 10916.601, 2019-01-11, NULL, P73_130_169, NULL, 2019-01-11, NULL, 0.0, NULL, NULL, NULL, NULL, 100000.0, CAL, NULL, NULL, P38_65_49, 0.0, NULL, NULL, P17_36_170, NULL, MARRIED, 2019-02-11, CASH, False, NULL, 57000.0, NULL, 0, NULL, 12.0, a55475b1, a55475b1, a55475b1, a55475b1, NULL, T, 12.0\n",
      "13, 0.0, 5069.6, NULL, NULL, P94_109_143, NULL, 2018-08-20, NULL, 0.0, NULL, NULL, NULL, NULL, 40000.0, CAL, NULL, NULL, P120_80_181, 0.0, NULL, NULL, a55475b1, NULL, NULL, 2018-09-20, CASH, False, NULL, 64000.0, NULL, 0, NULL, 12.0, a55475b1, a55475b1, P94_109_143, a55475b1, NULL, D, 12.0\n"
     ]
    }
   ],
   "source": [
    "query_result = conn.execute(\"SELECT * FROM train_applprev_1 LIMIT 10\")\n",
    "results = query_result.fetchall()\n",
    "column_names = [description[0] for description in query_result.description]\n",
    "\n",
    "print(', '.join(column_names))\n",
    "\n",
    "for row in results:\n",
    "    formatted_row = ', '.join([str(elem) if elem is not None else 'NULL' for elem in row])\n",
    "    print(formatted_row)"
   ]
  },
  {
   "cell_type": "code",
   "execution_count": 17,
   "metadata": {},
   "outputs": [],
   "source": [
    "conn.close()"
   ]
  }
 ],
 "metadata": {
  "kernelspec": {
   "display_name": "Python 3",
   "language": "python",
   "name": "python3"
  },
  "language_info": {
   "codemirror_mode": {
    "name": "ipython",
    "version": 3
   },
   "file_extension": ".py",
   "mimetype": "text/x-python",
   "name": "python",
   "nbconvert_exporter": "python",
   "pygments_lexer": "ipython3",
   "version": "3.11.8"
  }
 },
 "nbformat": 4,
 "nbformat_minor": 2
}
